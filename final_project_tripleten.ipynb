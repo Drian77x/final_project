{
 "cells": [
  {
   "cell_type": "markdown",
   "metadata": {},
   "source": [
    "# Descripcion de la tarea\n",
    "El servicio de telefonía virtual CallMeMaybe está desarrollando una nueva función que brindará a los supervisores y las supervisores información sobre los operadores menos eficaces. Se considera que un operador es ineficaz si tiene una gran cantidad de llamadas entrantes perdidas (internas y externas) y un tiempo de espera prolongado para las llamadas entrantes. Además, si se supone que un operador debe realizar llamadas salientes, un número reducido de ellas también será un signo de ineficacia.\n",
    "\n",
    "## Objetivos.\n",
    "El objetivo primordial es identificar operadores ineficaces. Para ello hay que evaluar el desempeño de los operadores, esto se hará principalmente de acuerdo a los factores siguientes:\n",
    "\n",
    "- Cantidad de llamadas entrantes perdidas.\n",
    "- Tiempo de espera.\n",
    "- Cantidad de llamadas totales.\n",
    "- Duración de las llamadas.\n",
    "\n",
    "Los umbrales para evaluar los estableceré al observar la distribución de los datos en cada caso.\n",
    "\n",
    "Luego de obtener los resultados probaré disitintas hipótesis para intentar explicar el comportamiento en general y con ello poder ofrecer conclusiones acordes."
   ]
  },
  {
   "cell_type": "markdown",
   "metadata": {},
   "source": [
    "## Tablas y librerías"
   ]
  },
  {
   "cell_type": "code",
   "execution_count": 1,
   "metadata": {},
   "outputs": [],
   "source": [
    "import pandas as pd \n",
    "import numpy as np\n",
    "import seaborn as sns\n",
    "from matplotlib import pyplot as plt\n",
    "from scipy import stats\n",
    "from scipy.stats import levene, mannwhitneyu, f_oneway"
   ]
  },
  {
   "cell_type": "code",
   "execution_count": 2,
   "metadata": {},
   "outputs": [],
   "source": [
    "clients = pd.read_csv('/datasets/telecom_clients_us.csv')\n",
    "telecom = pd.read_csv('/datasets/telecom_dataset_us.csv')"
   ]
  },
  {
   "cell_type": "markdown",
   "metadata": {},
   "source": [
    "## EDA y Preprocesamiento"
   ]
  },
  {
   "cell_type": "markdown",
   "metadata": {},
   "source": [
    "### Clients"
   ]
  },
  {
   "cell_type": "code",
   "execution_count": 3,
   "metadata": {},
   "outputs": [
    {
     "data": {
      "text/html": [
       "<div>\n",
       "<style scoped>\n",
       "    .dataframe tbody tr th:only-of-type {\n",
       "        vertical-align: middle;\n",
       "    }\n",
       "\n",
       "    .dataframe tbody tr th {\n",
       "        vertical-align: top;\n",
       "    }\n",
       "\n",
       "    .dataframe thead th {\n",
       "        text-align: right;\n",
       "    }\n",
       "</style>\n",
       "<table border=\"1\" class=\"dataframe\">\n",
       "  <thead>\n",
       "    <tr style=\"text-align: right;\">\n",
       "      <th></th>\n",
       "      <th>user_id</th>\n",
       "      <th>tariff_plan</th>\n",
       "      <th>date_start</th>\n",
       "    </tr>\n",
       "  </thead>\n",
       "  <tbody>\n",
       "    <tr>\n",
       "      <th>0</th>\n",
       "      <td>166713</td>\n",
       "      <td>A</td>\n",
       "      <td>2019-08-15</td>\n",
       "    </tr>\n",
       "    <tr>\n",
       "      <th>1</th>\n",
       "      <td>166901</td>\n",
       "      <td>A</td>\n",
       "      <td>2019-08-23</td>\n",
       "    </tr>\n",
       "    <tr>\n",
       "      <th>2</th>\n",
       "      <td>168527</td>\n",
       "      <td>A</td>\n",
       "      <td>2019-10-29</td>\n",
       "    </tr>\n",
       "    <tr>\n",
       "      <th>3</th>\n",
       "      <td>167097</td>\n",
       "      <td>A</td>\n",
       "      <td>2019-09-01</td>\n",
       "    </tr>\n",
       "    <tr>\n",
       "      <th>4</th>\n",
       "      <td>168193</td>\n",
       "      <td>A</td>\n",
       "      <td>2019-10-16</td>\n",
       "    </tr>\n",
       "  </tbody>\n",
       "</table>\n",
       "</div>"
      ],
      "text/plain": [
       "   user_id tariff_plan  date_start\n",
       "0   166713           A  2019-08-15\n",
       "1   166901           A  2019-08-23\n",
       "2   168527           A  2019-10-29\n",
       "3   167097           A  2019-09-01\n",
       "4   168193           A  2019-10-16"
      ]
     },
     "execution_count": 3,
     "metadata": {},
     "output_type": "execute_result"
    }
   ],
   "source": [
    "clients.head()"
   ]
  },
  {
   "cell_type": "code",
   "execution_count": 4,
   "metadata": {},
   "outputs": [
    {
     "name": "stdout",
     "output_type": "stream",
     "text": [
      "<class 'pandas.core.frame.DataFrame'>\n",
      "RangeIndex: 732 entries, 0 to 731\n",
      "Data columns (total 3 columns):\n",
      " #   Column       Non-Null Count  Dtype \n",
      "---  ------       --------------  ----- \n",
      " 0   user_id      732 non-null    int64 \n",
      " 1   tariff_plan  732 non-null    object\n",
      " 2   date_start   732 non-null    object\n",
      "dtypes: int64(1), object(2)\n",
      "memory usage: 17.3+ KB\n"
     ]
    }
   ],
   "source": [
    "clients.info()"
   ]
  },
  {
   "cell_type": "code",
   "execution_count": 5,
   "metadata": {},
   "outputs": [],
   "source": [
    "clients['date_start'] = pd.to_datetime(clients['date_start'], format = '%Y-%m-%d')"
   ]
  },
  {
   "cell_type": "code",
   "execution_count": 6,
   "metadata": {
    "scrolled": true
   },
   "outputs": [
    {
     "data": {
      "text/html": [
       "<div>\n",
       "<style scoped>\n",
       "    .dataframe tbody tr th:only-of-type {\n",
       "        vertical-align: middle;\n",
       "    }\n",
       "\n",
       "    .dataframe tbody tr th {\n",
       "        vertical-align: top;\n",
       "    }\n",
       "\n",
       "    .dataframe thead th {\n",
       "        text-align: right;\n",
       "    }\n",
       "</style>\n",
       "<table border=\"1\" class=\"dataframe\">\n",
       "  <thead>\n",
       "    <tr style=\"text-align: right;\">\n",
       "      <th></th>\n",
       "      <th>user_id</th>\n",
       "      <th>tariff_plan</th>\n",
       "      <th>date_start</th>\n",
       "    </tr>\n",
       "  </thead>\n",
       "  <tbody>\n",
       "  </tbody>\n",
       "</table>\n",
       "</div>"
      ],
      "text/plain": [
       "Empty DataFrame\n",
       "Columns: [user_id, tariff_plan, date_start]\n",
       "Index: []"
      ]
     },
     "execution_count": 6,
     "metadata": {},
     "output_type": "execute_result"
    }
   ],
   "source": [
    "clients[clients.duplicated()]"
   ]
  },
  {
   "cell_type": "markdown",
   "metadata": {},
   "source": [
    "### Telecom"
   ]
  },
  {
   "cell_type": "code",
   "execution_count": 7,
   "metadata": {},
   "outputs": [
    {
     "data": {
      "text/html": [
       "<div>\n",
       "<style scoped>\n",
       "    .dataframe tbody tr th:only-of-type {\n",
       "        vertical-align: middle;\n",
       "    }\n",
       "\n",
       "    .dataframe tbody tr th {\n",
       "        vertical-align: top;\n",
       "    }\n",
       "\n",
       "    .dataframe thead th {\n",
       "        text-align: right;\n",
       "    }\n",
       "</style>\n",
       "<table border=\"1\" class=\"dataframe\">\n",
       "  <thead>\n",
       "    <tr style=\"text-align: right;\">\n",
       "      <th></th>\n",
       "      <th>user_id</th>\n",
       "      <th>date</th>\n",
       "      <th>direction</th>\n",
       "      <th>internal</th>\n",
       "      <th>operator_id</th>\n",
       "      <th>is_missed_call</th>\n",
       "      <th>calls_count</th>\n",
       "      <th>call_duration</th>\n",
       "      <th>total_call_duration</th>\n",
       "    </tr>\n",
       "  </thead>\n",
       "  <tbody>\n",
       "    <tr>\n",
       "      <th>0</th>\n",
       "      <td>166377</td>\n",
       "      <td>2019-08-04 00:00:00+03:00</td>\n",
       "      <td>in</td>\n",
       "      <td>False</td>\n",
       "      <td>NaN</td>\n",
       "      <td>True</td>\n",
       "      <td>2</td>\n",
       "      <td>0</td>\n",
       "      <td>4</td>\n",
       "    </tr>\n",
       "    <tr>\n",
       "      <th>1</th>\n",
       "      <td>166377</td>\n",
       "      <td>2019-08-05 00:00:00+03:00</td>\n",
       "      <td>out</td>\n",
       "      <td>True</td>\n",
       "      <td>880022.0</td>\n",
       "      <td>True</td>\n",
       "      <td>3</td>\n",
       "      <td>0</td>\n",
       "      <td>5</td>\n",
       "    </tr>\n",
       "    <tr>\n",
       "      <th>2</th>\n",
       "      <td>166377</td>\n",
       "      <td>2019-08-05 00:00:00+03:00</td>\n",
       "      <td>out</td>\n",
       "      <td>True</td>\n",
       "      <td>880020.0</td>\n",
       "      <td>True</td>\n",
       "      <td>1</td>\n",
       "      <td>0</td>\n",
       "      <td>1</td>\n",
       "    </tr>\n",
       "    <tr>\n",
       "      <th>3</th>\n",
       "      <td>166377</td>\n",
       "      <td>2019-08-05 00:00:00+03:00</td>\n",
       "      <td>out</td>\n",
       "      <td>True</td>\n",
       "      <td>880020.0</td>\n",
       "      <td>False</td>\n",
       "      <td>1</td>\n",
       "      <td>10</td>\n",
       "      <td>18</td>\n",
       "    </tr>\n",
       "    <tr>\n",
       "      <th>4</th>\n",
       "      <td>166377</td>\n",
       "      <td>2019-08-05 00:00:00+03:00</td>\n",
       "      <td>out</td>\n",
       "      <td>False</td>\n",
       "      <td>880022.0</td>\n",
       "      <td>True</td>\n",
       "      <td>3</td>\n",
       "      <td>0</td>\n",
       "      <td>25</td>\n",
       "    </tr>\n",
       "  </tbody>\n",
       "</table>\n",
       "</div>"
      ],
      "text/plain": [
       "   user_id                       date direction internal  operator_id  \\\n",
       "0   166377  2019-08-04 00:00:00+03:00        in    False          NaN   \n",
       "1   166377  2019-08-05 00:00:00+03:00       out     True     880022.0   \n",
       "2   166377  2019-08-05 00:00:00+03:00       out     True     880020.0   \n",
       "3   166377  2019-08-05 00:00:00+03:00       out     True     880020.0   \n",
       "4   166377  2019-08-05 00:00:00+03:00       out    False     880022.0   \n",
       "\n",
       "   is_missed_call  calls_count  call_duration  total_call_duration  \n",
       "0            True            2              0                    4  \n",
       "1            True            3              0                    5  \n",
       "2            True            1              0                    1  \n",
       "3           False            1             10                   18  \n",
       "4            True            3              0                   25  "
      ]
     },
     "execution_count": 7,
     "metadata": {},
     "output_type": "execute_result"
    }
   ],
   "source": [
    "telecom.head()"
   ]
  },
  {
   "cell_type": "code",
   "execution_count": 8,
   "metadata": {},
   "outputs": [
    {
     "name": "stdout",
     "output_type": "stream",
     "text": [
      "<class 'pandas.core.frame.DataFrame'>\n",
      "RangeIndex: 53902 entries, 0 to 53901\n",
      "Data columns (total 9 columns):\n",
      " #   Column               Non-Null Count  Dtype  \n",
      "---  ------               --------------  -----  \n",
      " 0   user_id              53902 non-null  int64  \n",
      " 1   date                 53902 non-null  object \n",
      " 2   direction            53902 non-null  object \n",
      " 3   internal             53785 non-null  object \n",
      " 4   operator_id          45730 non-null  float64\n",
      " 5   is_missed_call       53902 non-null  bool   \n",
      " 6   calls_count          53902 non-null  int64  \n",
      " 7   call_duration        53902 non-null  int64  \n",
      " 8   total_call_duration  53902 non-null  int64  \n",
      "dtypes: bool(1), float64(1), int64(4), object(3)\n",
      "memory usage: 3.3+ MB\n"
     ]
    }
   ],
   "source": [
    "telecom.info()"
   ]
  },
  {
   "cell_type": "code",
   "execution_count": 9,
   "metadata": {},
   "outputs": [],
   "source": [
    "telecom['date'] = pd.to_datetime(telecom['date'], errors='coerce')\n",
    "telecom['date'] = telecom['date'].dt.tz_localize(None)"
   ]
  },
  {
   "cell_type": "code",
   "execution_count": 10,
   "metadata": {},
   "outputs": [
    {
     "data": {
      "text/html": [
       "<div>\n",
       "<style scoped>\n",
       "    .dataframe tbody tr th:only-of-type {\n",
       "        vertical-align: middle;\n",
       "    }\n",
       "\n",
       "    .dataframe tbody tr th {\n",
       "        vertical-align: top;\n",
       "    }\n",
       "\n",
       "    .dataframe thead th {\n",
       "        text-align: right;\n",
       "    }\n",
       "</style>\n",
       "<table border=\"1\" class=\"dataframe\">\n",
       "  <thead>\n",
       "    <tr style=\"text-align: right;\">\n",
       "      <th></th>\n",
       "      <th>user_id</th>\n",
       "      <th>date</th>\n",
       "      <th>direction</th>\n",
       "      <th>internal</th>\n",
       "      <th>operator_id</th>\n",
       "      <th>is_missed_call</th>\n",
       "      <th>calls_count</th>\n",
       "      <th>call_duration</th>\n",
       "      <th>total_call_duration</th>\n",
       "    </tr>\n",
       "  </thead>\n",
       "  <tbody>\n",
       "    <tr>\n",
       "      <th>8</th>\n",
       "      <td>166377</td>\n",
       "      <td>2019-08-05</td>\n",
       "      <td>out</td>\n",
       "      <td>False</td>\n",
       "      <td>880020.0</td>\n",
       "      <td>True</td>\n",
       "      <td>8</td>\n",
       "      <td>0</td>\n",
       "      <td>50</td>\n",
       "    </tr>\n",
       "    <tr>\n",
       "      <th>28</th>\n",
       "      <td>166377</td>\n",
       "      <td>2019-08-12</td>\n",
       "      <td>in</td>\n",
       "      <td>False</td>\n",
       "      <td>NaN</td>\n",
       "      <td>True</td>\n",
       "      <td>2</td>\n",
       "      <td>0</td>\n",
       "      <td>34</td>\n",
       "    </tr>\n",
       "    <tr>\n",
       "      <th>44</th>\n",
       "      <td>166377</td>\n",
       "      <td>2019-08-14</td>\n",
       "      <td>out</td>\n",
       "      <td>False</td>\n",
       "      <td>880026.0</td>\n",
       "      <td>False</td>\n",
       "      <td>10</td>\n",
       "      <td>1567</td>\n",
       "      <td>1654</td>\n",
       "    </tr>\n",
       "    <tr>\n",
       "      <th>45</th>\n",
       "      <td>166377</td>\n",
       "      <td>2019-08-14</td>\n",
       "      <td>in</td>\n",
       "      <td>False</td>\n",
       "      <td>NaN</td>\n",
       "      <td>True</td>\n",
       "      <td>1</td>\n",
       "      <td>0</td>\n",
       "      <td>3</td>\n",
       "    </tr>\n",
       "    <tr>\n",
       "      <th>51</th>\n",
       "      <td>166377</td>\n",
       "      <td>2019-08-15</td>\n",
       "      <td>out</td>\n",
       "      <td>False</td>\n",
       "      <td>880026.0</td>\n",
       "      <td>False</td>\n",
       "      <td>11</td>\n",
       "      <td>1413</td>\n",
       "      <td>1473</td>\n",
       "    </tr>\n",
       "    <tr>\n",
       "      <th>...</th>\n",
       "      <td>...</td>\n",
       "      <td>...</td>\n",
       "      <td>...</td>\n",
       "      <td>...</td>\n",
       "      <td>...</td>\n",
       "      <td>...</td>\n",
       "      <td>...</td>\n",
       "      <td>...</td>\n",
       "      <td>...</td>\n",
       "    </tr>\n",
       "    <tr>\n",
       "      <th>53869</th>\n",
       "      <td>168601</td>\n",
       "      <td>2019-11-25</td>\n",
       "      <td>in</td>\n",
       "      <td>False</td>\n",
       "      <td>952914.0</td>\n",
       "      <td>False</td>\n",
       "      <td>7</td>\n",
       "      <td>1229</td>\n",
       "      <td>1282</td>\n",
       "    </tr>\n",
       "    <tr>\n",
       "      <th>53874</th>\n",
       "      <td>168601</td>\n",
       "      <td>2019-11-26</td>\n",
       "      <td>in</td>\n",
       "      <td>False</td>\n",
       "      <td>952914.0</td>\n",
       "      <td>False</td>\n",
       "      <td>4</td>\n",
       "      <td>539</td>\n",
       "      <td>562</td>\n",
       "    </tr>\n",
       "    <tr>\n",
       "      <th>53875</th>\n",
       "      <td>168601</td>\n",
       "      <td>2019-11-26</td>\n",
       "      <td>in</td>\n",
       "      <td>False</td>\n",
       "      <td>NaN</td>\n",
       "      <td>True</td>\n",
       "      <td>3</td>\n",
       "      <td>0</td>\n",
       "      <td>35</td>\n",
       "    </tr>\n",
       "    <tr>\n",
       "      <th>53885</th>\n",
       "      <td>168603</td>\n",
       "      <td>2019-11-20</td>\n",
       "      <td>out</td>\n",
       "      <td>False</td>\n",
       "      <td>959118.0</td>\n",
       "      <td>True</td>\n",
       "      <td>3</td>\n",
       "      <td>0</td>\n",
       "      <td>89</td>\n",
       "    </tr>\n",
       "    <tr>\n",
       "      <th>53900</th>\n",
       "      <td>168606</td>\n",
       "      <td>2019-11-15</td>\n",
       "      <td>out</td>\n",
       "      <td>True</td>\n",
       "      <td>957922.0</td>\n",
       "      <td>False</td>\n",
       "      <td>4</td>\n",
       "      <td>3130</td>\n",
       "      <td>3190</td>\n",
       "    </tr>\n",
       "  </tbody>\n",
       "</table>\n",
       "<p>4900 rows × 9 columns</p>\n",
       "</div>"
      ],
      "text/plain": [
       "       user_id       date direction internal  operator_id  is_missed_call  \\\n",
       "8       166377 2019-08-05       out    False     880020.0            True   \n",
       "28      166377 2019-08-12        in    False          NaN            True   \n",
       "44      166377 2019-08-14       out    False     880026.0           False   \n",
       "45      166377 2019-08-14        in    False          NaN            True   \n",
       "51      166377 2019-08-15       out    False     880026.0           False   \n",
       "...        ...        ...       ...      ...          ...             ...   \n",
       "53869   168601 2019-11-25        in    False     952914.0           False   \n",
       "53874   168601 2019-11-26        in    False     952914.0           False   \n",
       "53875   168601 2019-11-26        in    False          NaN            True   \n",
       "53885   168603 2019-11-20       out    False     959118.0            True   \n",
       "53900   168606 2019-11-15       out     True     957922.0           False   \n",
       "\n",
       "       calls_count  call_duration  total_call_duration  \n",
       "8                8              0                   50  \n",
       "28               2              0                   34  \n",
       "44              10           1567                 1654  \n",
       "45               1              0                    3  \n",
       "51              11           1413                 1473  \n",
       "...            ...            ...                  ...  \n",
       "53869            7           1229                 1282  \n",
       "53874            4            539                  562  \n",
       "53875            3              0                   35  \n",
       "53885            3              0                   89  \n",
       "53900            4           3130                 3190  \n",
       "\n",
       "[4900 rows x 9 columns]"
      ]
     },
     "execution_count": 10,
     "metadata": {},
     "output_type": "execute_result"
    }
   ],
   "source": [
    "telecom[telecom.duplicated()]"
   ]
  },
  {
   "cell_type": "code",
   "execution_count": 11,
   "metadata": {},
   "outputs": [],
   "source": [
    "telecom = telecom.drop_duplicates()"
   ]
  },
  {
   "cell_type": "markdown",
   "metadata": {},
   "source": [
    "En la columna 'operator_id' hay muchos nulos por lo que no es posible saber a que operador se refieren esas entradas o si son varios. Sin embargo tiene información relevante en las demás entradas así que lo trataré como un operador ficticio bajo el número 999 para poder utilizar los datos(luego de comprobar que no existe ese operador)."
   ]
  },
  {
   "cell_type": "code",
   "execution_count": 12,
   "metadata": {},
   "outputs": [
    {
     "data": {
      "text/html": [
       "<div>\n",
       "<style scoped>\n",
       "    .dataframe tbody tr th:only-of-type {\n",
       "        vertical-align: middle;\n",
       "    }\n",
       "\n",
       "    .dataframe tbody tr th {\n",
       "        vertical-align: top;\n",
       "    }\n",
       "\n",
       "    .dataframe thead th {\n",
       "        text-align: right;\n",
       "    }\n",
       "</style>\n",
       "<table border=\"1\" class=\"dataframe\">\n",
       "  <thead>\n",
       "    <tr style=\"text-align: right;\">\n",
       "      <th></th>\n",
       "      <th>user_id</th>\n",
       "      <th>date</th>\n",
       "      <th>direction</th>\n",
       "      <th>internal</th>\n",
       "      <th>operator_id</th>\n",
       "      <th>is_missed_call</th>\n",
       "      <th>calls_count</th>\n",
       "      <th>call_duration</th>\n",
       "      <th>total_call_duration</th>\n",
       "    </tr>\n",
       "  </thead>\n",
       "  <tbody>\n",
       "  </tbody>\n",
       "</table>\n",
       "</div>"
      ],
      "text/plain": [
       "Empty DataFrame\n",
       "Columns: [user_id, date, direction, internal, operator_id, is_missed_call, calls_count, call_duration, total_call_duration]\n",
       "Index: []"
      ]
     },
     "execution_count": 12,
     "metadata": {},
     "output_type": "execute_result"
    }
   ],
   "source": [
    "telecom[telecom['operator_id']==999]"
   ]
  },
  {
   "cell_type": "code",
   "execution_count": 13,
   "metadata": {},
   "outputs": [],
   "source": [
    "telecom['operator_id'].fillna(999, inplace=True)"
   ]
  },
  {
   "cell_type": "markdown",
   "metadata": {},
   "source": [
    "## Analisis"
   ]
  },
  {
   "cell_type": "markdown",
   "metadata": {},
   "source": [
    "### Conteo llamadas perdidas"
   ]
  },
  {
   "cell_type": "markdown",
   "metadata": {},
   "source": [
    "Evaluaremos eficiencia de cada operador respecto a solo las llamadas perdidas recibidas ya que no tienen control sobre si los clientes atienden al ser llamados. Si hay operadores fuera de esta lista recibirán un buena calificación pues no puede decirse que lo hicieron mal."
   ]
  },
  {
   "cell_type": "code",
   "execution_count": 14,
   "metadata": {},
   "outputs": [
    {
     "data": {
      "text/html": [
       "<div>\n",
       "<style scoped>\n",
       "    .dataframe tbody tr th:only-of-type {\n",
       "        vertical-align: middle;\n",
       "    }\n",
       "\n",
       "    .dataframe tbody tr th {\n",
       "        vertical-align: top;\n",
       "    }\n",
       "\n",
       "    .dataframe thead th {\n",
       "        text-align: right;\n",
       "    }\n",
       "</style>\n",
       "<table border=\"1\" class=\"dataframe\">\n",
       "  <thead>\n",
       "    <tr style=\"text-align: right;\">\n",
       "      <th>is_missed_call</th>\n",
       "      <th>operator_id</th>\n",
       "      <th>False</th>\n",
       "      <th>True</th>\n",
       "    </tr>\n",
       "  </thead>\n",
       "  <tbody>\n",
       "    <tr>\n",
       "      <th>0</th>\n",
       "      <td>999.0</td>\n",
       "      <td>68.0</td>\n",
       "      <td>7202.0</td>\n",
       "    </tr>\n",
       "    <tr>\n",
       "      <th>1</th>\n",
       "      <td>879896.0</td>\n",
       "      <td>21.0</td>\n",
       "      <td>NaN</td>\n",
       "    </tr>\n",
       "    <tr>\n",
       "      <th>2</th>\n",
       "      <td>879898.0</td>\n",
       "      <td>57.0</td>\n",
       "      <td>NaN</td>\n",
       "    </tr>\n",
       "    <tr>\n",
       "      <th>3</th>\n",
       "      <td>880020.0</td>\n",
       "      <td>7.0</td>\n",
       "      <td>NaN</td>\n",
       "    </tr>\n",
       "    <tr>\n",
       "      <th>4</th>\n",
       "      <td>880022.0</td>\n",
       "      <td>8.0</td>\n",
       "      <td>NaN</td>\n",
       "    </tr>\n",
       "  </tbody>\n",
       "</table>\n",
       "</div>"
      ],
      "text/plain": [
       "is_missed_call  operator_id  False    True\n",
       "0                     999.0   68.0  7202.0\n",
       "1                  879896.0   21.0     NaN\n",
       "2                  879898.0   57.0     NaN\n",
       "3                  880020.0    7.0     NaN\n",
       "4                  880022.0    8.0     NaN"
      ]
     },
     "execution_count": 14,
     "metadata": {},
     "output_type": "execute_result"
    }
   ],
   "source": [
    "missed_calls = telecom[telecom['direction'] == 'in']\n",
    "missed_calls = missed_calls.pivot_table(index='operator_id', columns='is_missed_call', aggfunc='size').reset_index()\n",
    "missed_calls.head()"
   ]
  },
  {
   "cell_type": "markdown",
   "metadata": {},
   "source": [
    "Un valor núlo en esta tabla significa que no existen llamadas perdidas/atendidas en la columna respectiva asi que los reemplazo con 0"
   ]
  },
  {
   "cell_type": "code",
   "execution_count": 15,
   "metadata": {},
   "outputs": [],
   "source": [
    "missed_calls.fillna(0, inplace=True)"
   ]
  },
  {
   "cell_type": "code",
   "execution_count": 16,
   "metadata": {},
   "outputs": [],
   "source": [
    "missed_calls['miss_percent'] = ((missed_calls[True] / (missed_calls[False] + missed_calls[True])) * 100).round(3)"
   ]
  },
  {
   "cell_type": "markdown",
   "metadata": {},
   "source": [
    "Observo los resultados"
   ]
  },
  {
   "cell_type": "code",
   "execution_count": 17,
   "metadata": {},
   "outputs": [
    {
     "data": {
      "text/plain": [
       "count    755.000000\n",
       "mean       3.835318\n",
       "std        9.102239\n",
       "min        0.000000\n",
       "25%        0.000000\n",
       "50%        0.000000\n",
       "75%        3.846000\n",
       "max      100.000000\n",
       "Name: miss_percent, dtype: float64"
      ]
     },
     "execution_count": 17,
     "metadata": {},
     "output_type": "execute_result"
    }
   ],
   "source": [
    "missed_calls['miss_percent'].describe()"
   ]
  },
  {
   "cell_type": "code",
   "execution_count": 18,
   "metadata": {},
   "outputs": [
    {
     "data": {
      "image/png": "[encoded data removed]",
      "text/plain": [
       "<Figure size 640x480 with 1 Axes>"
      ]
     },
     "metadata": {},
     "output_type": "display_data"
    }
   ],
   "source": [
    "sns.set_theme(style='darkgrid')\n",
    "plt.figure()\n",
    "sns.histplot(data = missed_calls[missed_calls['operator_id']!=999], x = 'miss_percent', bins=10)\n",
    "plt.xlabel('Missed pertentage')\n",
    "plt.title('Histogram of missed calls')\n",
    "plt.show()"
   ]
  },
  {
   "cell_type": "markdown",
   "metadata": {},
   "source": [
    "Es bueno obsservar que la mayoria de operadores tiene un bajo porcentaje de llamadas perdidas, sin embargo esto el algo básico para el trabajo así que lo ideal es que todos los operadores estén cerca del cero. \n",
    "\n",
    "Clasificaré los resultados de la siguiente forma:\n",
    "- Menos de 10%: Operdador bueno\n",
    "- Entre 10% y 20%: Requiere atención\n",
    "- Mayor a 20%: Ineficiente"
   ]
  },
  {
   "cell_type": "markdown",
   "metadata": {},
   "source": [
    "Ya que voy a clasificar operadores según varios parámetros, crearé una función para usarla luego:"
   ]
  },
  {
   "cell_type": "code",
   "execution_count": 19,
   "metadata": {},
   "outputs": [],
   "source": [
    "def rating_column(df, base_col, new_col, good, attention):\n",
    "    ratings = []\n",
    "    for value in df[base_col]:\n",
    "        if value < good:\n",
    "            ratings.append('good')\n",
    "        elif good <= value <= attention:\n",
    "            ratings.append('attention')\n",
    "        else:\n",
    "            ratings.append('inefficient')\n",
    "    df[new_col] = ratings\n",
    "    return df"
   ]
  },
  {
   "cell_type": "code",
   "execution_count": 20,
   "metadata": {},
   "outputs": [
    {
     "data": {
      "text/html": [
       "<div>\n",
       "<style scoped>\n",
       "    .dataframe tbody tr th:only-of-type {\n",
       "        vertical-align: middle;\n",
       "    }\n",
       "\n",
       "    .dataframe tbody tr th {\n",
       "        vertical-align: top;\n",
       "    }\n",
       "\n",
       "    .dataframe thead th {\n",
       "        text-align: right;\n",
       "    }\n",
       "</style>\n",
       "<table border=\"1\" class=\"dataframe\">\n",
       "  <thead>\n",
       "    <tr style=\"text-align: right;\">\n",
       "      <th>is_missed_call</th>\n",
       "      <th>operator_id</th>\n",
       "      <th>False</th>\n",
       "      <th>True</th>\n",
       "      <th>miss_percent</th>\n",
       "      <th>miss_rating</th>\n",
       "    </tr>\n",
       "  </thead>\n",
       "  <tbody>\n",
       "    <tr>\n",
       "      <th>0</th>\n",
       "      <td>999.0</td>\n",
       "      <td>68.0</td>\n",
       "      <td>7202.0</td>\n",
       "      <td>99.065</td>\n",
       "      <td>inefficient</td>\n",
       "    </tr>\n",
       "    <tr>\n",
       "      <th>1</th>\n",
       "      <td>879896.0</td>\n",
       "      <td>21.0</td>\n",
       "      <td>0.0</td>\n",
       "      <td>0.000</td>\n",
       "      <td>good</td>\n",
       "    </tr>\n",
       "    <tr>\n",
       "      <th>2</th>\n",
       "      <td>879898.0</td>\n",
       "      <td>57.0</td>\n",
       "      <td>0.0</td>\n",
       "      <td>0.000</td>\n",
       "      <td>good</td>\n",
       "    </tr>\n",
       "    <tr>\n",
       "      <th>3</th>\n",
       "      <td>880020.0</td>\n",
       "      <td>7.0</td>\n",
       "      <td>0.0</td>\n",
       "      <td>0.000</td>\n",
       "      <td>good</td>\n",
       "    </tr>\n",
       "    <tr>\n",
       "      <th>4</th>\n",
       "      <td>880022.0</td>\n",
       "      <td>8.0</td>\n",
       "      <td>0.0</td>\n",
       "      <td>0.000</td>\n",
       "      <td>good</td>\n",
       "    </tr>\n",
       "    <tr>\n",
       "      <th>...</th>\n",
       "      <td>...</td>\n",
       "      <td>...</td>\n",
       "      <td>...</td>\n",
       "      <td>...</td>\n",
       "      <td>...</td>\n",
       "    </tr>\n",
       "    <tr>\n",
       "      <th>750</th>\n",
       "      <td>971102.0</td>\n",
       "      <td>4.0</td>\n",
       "      <td>0.0</td>\n",
       "      <td>0.000</td>\n",
       "      <td>good</td>\n",
       "    </tr>\n",
       "    <tr>\n",
       "      <th>751</th>\n",
       "      <td>971354.0</td>\n",
       "      <td>2.0</td>\n",
       "      <td>0.0</td>\n",
       "      <td>0.000</td>\n",
       "      <td>good</td>\n",
       "    </tr>\n",
       "    <tr>\n",
       "      <th>752</th>\n",
       "      <td>972412.0</td>\n",
       "      <td>1.0</td>\n",
       "      <td>0.0</td>\n",
       "      <td>0.000</td>\n",
       "      <td>good</td>\n",
       "    </tr>\n",
       "    <tr>\n",
       "      <th>753</th>\n",
       "      <td>972460.0</td>\n",
       "      <td>1.0</td>\n",
       "      <td>0.0</td>\n",
       "      <td>0.000</td>\n",
       "      <td>good</td>\n",
       "    </tr>\n",
       "    <tr>\n",
       "      <th>754</th>\n",
       "      <td>973286.0</td>\n",
       "      <td>1.0</td>\n",
       "      <td>0.0</td>\n",
       "      <td>0.000</td>\n",
       "      <td>good</td>\n",
       "    </tr>\n",
       "  </tbody>\n",
       "</table>\n",
       "<p>755 rows × 5 columns</p>\n",
       "</div>"
      ],
      "text/plain": [
       "is_missed_call  operator_id  False    True  miss_percent  miss_rating\n",
       "0                     999.0   68.0  7202.0        99.065  inefficient\n",
       "1                  879896.0   21.0     0.0         0.000         good\n",
       "2                  879898.0   57.0     0.0         0.000         good\n",
       "3                  880020.0    7.0     0.0         0.000         good\n",
       "4                  880022.0    8.0     0.0         0.000         good\n",
       "..                      ...    ...     ...           ...          ...\n",
       "750                971102.0    4.0     0.0         0.000         good\n",
       "751                971354.0    2.0     0.0         0.000         good\n",
       "752                972412.0    1.0     0.0         0.000         good\n",
       "753                972460.0    1.0     0.0         0.000         good\n",
       "754                973286.0    1.0     0.0         0.000         good\n",
       "\n",
       "[755 rows x 5 columns]"
      ]
     },
     "execution_count": 20,
     "metadata": {},
     "output_type": "execute_result"
    }
   ],
   "source": [
    "rating_column(missed_calls,'miss_percent','miss_rating', 10, 20)"
   ]
  },
  {
   "cell_type": "markdown",
   "metadata": {},
   "source": [
    "### Evaluar el tiempo de espera (duración de las llamadas)"
   ]
  },
  {
   "cell_type": "markdown",
   "metadata": {},
   "source": [
    "Un usuario eficaz debe responder rápido y tener tiempos de espera reducidos."
   ]
  },
  {
   "cell_type": "code",
   "execution_count": 21,
   "metadata": {},
   "outputs": [
    {
     "data": {
      "text/html": [
       "<div>\n",
       "<style scoped>\n",
       "    .dataframe tbody tr th:only-of-type {\n",
       "        vertical-align: middle;\n",
       "    }\n",
       "\n",
       "    .dataframe tbody tr th {\n",
       "        vertical-align: top;\n",
       "    }\n",
       "\n",
       "    .dataframe thead th {\n",
       "        text-align: right;\n",
       "    }\n",
       "</style>\n",
       "<table border=\"1\" class=\"dataframe\">\n",
       "  <thead>\n",
       "    <tr style=\"text-align: right;\">\n",
       "      <th></th>\n",
       "      <th>operator_id</th>\n",
       "      <th>calls_count</th>\n",
       "      <th>call_duration</th>\n",
       "      <th>total_call_duration</th>\n",
       "    </tr>\n",
       "  </thead>\n",
       "  <tbody>\n",
       "    <tr>\n",
       "      <th>0</th>\n",
       "      <td>999.0</td>\n",
       "      <td>104564</td>\n",
       "      <td>497685</td>\n",
       "      <td>1766770</td>\n",
       "    </tr>\n",
       "    <tr>\n",
       "      <th>1</th>\n",
       "      <td>879896.0</td>\n",
       "      <td>930</td>\n",
       "      <td>63862</td>\n",
       "      <td>76137</td>\n",
       "    </tr>\n",
       "    <tr>\n",
       "      <th>2</th>\n",
       "      <td>879898.0</td>\n",
       "      <td>7313</td>\n",
       "      <td>257391</td>\n",
       "      <td>361288</td>\n",
       "    </tr>\n",
       "    <tr>\n",
       "      <th>3</th>\n",
       "      <td>880020.0</td>\n",
       "      <td>45</td>\n",
       "      <td>2245</td>\n",
       "      <td>2525</td>\n",
       "    </tr>\n",
       "    <tr>\n",
       "      <th>4</th>\n",
       "      <td>880022.0</td>\n",
       "      <td>197</td>\n",
       "      <td>15147</td>\n",
       "      <td>18925</td>\n",
       "    </tr>\n",
       "  </tbody>\n",
       "</table>\n",
       "</div>"
      ],
      "text/plain": [
       "   operator_id  calls_count  call_duration  total_call_duration\n",
       "0        999.0       104564         497685              1766770\n",
       "1     879896.0          930          63862                76137\n",
       "2     879898.0         7313         257391               361288\n",
       "3     880020.0           45           2245                 2525\n",
       "4     880022.0          197          15147                18925"
      ]
     },
     "execution_count": 21,
     "metadata": {},
     "output_type": "execute_result"
    }
   ],
   "source": [
    "hold_times = telecom.groupby('operator_id', as_index = False)['calls_count', 'call_duration', 'total_call_duration'].sum()\n",
    "hold_times.head()"
   ]
  },
  {
   "cell_type": "code",
   "execution_count": 22,
   "metadata": {},
   "outputs": [
    {
     "data": {
      "text/html": [
       "<div>\n",
       "<style scoped>\n",
       "    .dataframe tbody tr th:only-of-type {\n",
       "        vertical-align: middle;\n",
       "    }\n",
       "\n",
       "    .dataframe tbody tr th {\n",
       "        vertical-align: top;\n",
       "    }\n",
       "\n",
       "    .dataframe thead th {\n",
       "        text-align: right;\n",
       "    }\n",
       "</style>\n",
       "<table border=\"1\" class=\"dataframe\">\n",
       "  <thead>\n",
       "    <tr style=\"text-align: right;\">\n",
       "      <th></th>\n",
       "      <th>operator_id</th>\n",
       "      <th>calls_count</th>\n",
       "      <th>call_duration</th>\n",
       "      <th>total_call_duration</th>\n",
       "      <th>hold_time</th>\n",
       "    </tr>\n",
       "  </thead>\n",
       "  <tbody>\n",
       "    <tr>\n",
       "      <th>0</th>\n",
       "      <td>999.0</td>\n",
       "      <td>104564</td>\n",
       "      <td>497685</td>\n",
       "      <td>1766770</td>\n",
       "      <td>12.137</td>\n",
       "    </tr>\n",
       "    <tr>\n",
       "      <th>1</th>\n",
       "      <td>879896.0</td>\n",
       "      <td>930</td>\n",
       "      <td>63862</td>\n",
       "      <td>76137</td>\n",
       "      <td>13.199</td>\n",
       "    </tr>\n",
       "    <tr>\n",
       "      <th>2</th>\n",
       "      <td>879898.0</td>\n",
       "      <td>7313</td>\n",
       "      <td>257391</td>\n",
       "      <td>361288</td>\n",
       "      <td>14.207</td>\n",
       "    </tr>\n",
       "    <tr>\n",
       "      <th>3</th>\n",
       "      <td>880020.0</td>\n",
       "      <td>45</td>\n",
       "      <td>2245</td>\n",
       "      <td>2525</td>\n",
       "      <td>6.222</td>\n",
       "    </tr>\n",
       "    <tr>\n",
       "      <th>4</th>\n",
       "      <td>880022.0</td>\n",
       "      <td>197</td>\n",
       "      <td>15147</td>\n",
       "      <td>18925</td>\n",
       "      <td>19.178</td>\n",
       "    </tr>\n",
       "  </tbody>\n",
       "</table>\n",
       "</div>"
      ],
      "text/plain": [
       "   operator_id  calls_count  call_duration  total_call_duration  hold_time\n",
       "0        999.0       104564         497685              1766770     12.137\n",
       "1     879896.0          930          63862                76137     13.199\n",
       "2     879898.0         7313         257391               361288     14.207\n",
       "3     880020.0           45           2245                 2525      6.222\n",
       "4     880022.0          197          15147                18925     19.178"
      ]
     },
     "execution_count": 22,
     "metadata": {},
     "output_type": "execute_result"
    }
   ],
   "source": [
    "hold_times['hold_time'] = ((hold_times['total_call_duration'] - hold_times['call_duration']) / hold_times['calls_count']).round(3)\n",
    "hold_times.head()"
   ]
  },
  {
   "cell_type": "code",
   "execution_count": 23,
   "metadata": {},
   "outputs": [
    {
     "data": {
      "text/plain": [
       "count    1093.000000\n",
       "mean       16.465586\n",
       "std         8.215440\n",
       "min         0.000000\n",
       "25%        11.500000\n",
       "50%        15.782000\n",
       "75%        20.006000\n",
       "max        62.000000\n",
       "Name: hold_time, dtype: float64"
      ]
     },
     "execution_count": 23,
     "metadata": {},
     "output_type": "execute_result"
    }
   ],
   "source": [
    "hold_times['hold_time'].describe()"
   ]
  },
  {
   "cell_type": "code",
   "execution_count": 24,
   "metadata": {},
   "outputs": [
    {
     "data": {
      "image/png": "[encoded data removed]",
      "text/plain": [
       "<Figure size 640x480 with 1 Axes>"
      ]
     },
     "metadata": {},
     "output_type": "display_data"
    }
   ],
   "source": [
    "plt.figure()\n",
    "sns.histplot(data = hold_times, x = 'hold_time',bins=10)\n",
    "plt.xlabel('Time on Hold (seconds)')\n",
    "plt.title('Distribution of Hold Time')\n",
    "plt.show()"
   ]
  },
  {
   "cell_type": "markdown",
   "metadata": {},
   "source": [
    "El promedio de espera es de poco más de 16 segundos por llamada, no es demasiado pero veamos si podemos mejorarlo con una clasificación un poco más rigurosa.\n",
    "\n",
    "Con estos datos crearé los siguientes umbrales esperando además que los operadores se esfuercen por mejorar sus tiempos de espera y el promedio actual y con esto ser más eficientes:\n",
    "- Menos de 16 segundos: Operador bueno\n",
    "- De 16 a 30 segundos: Requiere atención\n",
    "- Más de 30 segundos: Ineficiente"
   ]
  },
  {
   "cell_type": "code",
   "execution_count": 25,
   "metadata": {},
   "outputs": [
    {
     "data": {
      "text/html": [
       "<div>\n",
       "<style scoped>\n",
       "    .dataframe tbody tr th:only-of-type {\n",
       "        vertical-align: middle;\n",
       "    }\n",
       "\n",
       "    .dataframe tbody tr th {\n",
       "        vertical-align: top;\n",
       "    }\n",
       "\n",
       "    .dataframe thead th {\n",
       "        text-align: right;\n",
       "    }\n",
       "</style>\n",
       "<table border=\"1\" class=\"dataframe\">\n",
       "  <thead>\n",
       "    <tr style=\"text-align: right;\">\n",
       "      <th></th>\n",
       "      <th>operator_id</th>\n",
       "      <th>calls_count</th>\n",
       "      <th>call_duration</th>\n",
       "      <th>total_call_duration</th>\n",
       "      <th>hold_time</th>\n",
       "      <th>hold_rating</th>\n",
       "    </tr>\n",
       "  </thead>\n",
       "  <tbody>\n",
       "    <tr>\n",
       "      <th>0</th>\n",
       "      <td>999.0</td>\n",
       "      <td>104564</td>\n",
       "      <td>497685</td>\n",
       "      <td>1766770</td>\n",
       "      <td>12.137</td>\n",
       "      <td>good</td>\n",
       "    </tr>\n",
       "    <tr>\n",
       "      <th>1</th>\n",
       "      <td>879896.0</td>\n",
       "      <td>930</td>\n",
       "      <td>63862</td>\n",
       "      <td>76137</td>\n",
       "      <td>13.199</td>\n",
       "      <td>good</td>\n",
       "    </tr>\n",
       "    <tr>\n",
       "      <th>2</th>\n",
       "      <td>879898.0</td>\n",
       "      <td>7313</td>\n",
       "      <td>257391</td>\n",
       "      <td>361288</td>\n",
       "      <td>14.207</td>\n",
       "      <td>good</td>\n",
       "    </tr>\n",
       "    <tr>\n",
       "      <th>3</th>\n",
       "      <td>880020.0</td>\n",
       "      <td>45</td>\n",
       "      <td>2245</td>\n",
       "      <td>2525</td>\n",
       "      <td>6.222</td>\n",
       "      <td>good</td>\n",
       "    </tr>\n",
       "    <tr>\n",
       "      <th>4</th>\n",
       "      <td>880022.0</td>\n",
       "      <td>197</td>\n",
       "      <td>15147</td>\n",
       "      <td>18925</td>\n",
       "      <td>19.178</td>\n",
       "      <td>attention</td>\n",
       "    </tr>\n",
       "    <tr>\n",
       "      <th>...</th>\n",
       "      <td>...</td>\n",
       "      <td>...</td>\n",
       "      <td>...</td>\n",
       "      <td>...</td>\n",
       "      <td>...</td>\n",
       "      <td>...</td>\n",
       "    </tr>\n",
       "    <tr>\n",
       "      <th>1088</th>\n",
       "      <td>972410.0</td>\n",
       "      <td>77</td>\n",
       "      <td>3777</td>\n",
       "      <td>5275</td>\n",
       "      <td>19.455</td>\n",
       "      <td>attention</td>\n",
       "    </tr>\n",
       "    <tr>\n",
       "      <th>1089</th>\n",
       "      <td>972412.0</td>\n",
       "      <td>61</td>\n",
       "      <td>3498</td>\n",
       "      <td>4548</td>\n",
       "      <td>17.213</td>\n",
       "      <td>attention</td>\n",
       "    </tr>\n",
       "    <tr>\n",
       "      <th>1090</th>\n",
       "      <td>972460.0</td>\n",
       "      <td>51</td>\n",
       "      <td>1218</td>\n",
       "      <td>1838</td>\n",
       "      <td>12.157</td>\n",
       "      <td>good</td>\n",
       "    </tr>\n",
       "    <tr>\n",
       "      <th>1091</th>\n",
       "      <td>973120.0</td>\n",
       "      <td>3</td>\n",
       "      <td>5</td>\n",
       "      <td>25</td>\n",
       "      <td>6.667</td>\n",
       "      <td>good</td>\n",
       "    </tr>\n",
       "    <tr>\n",
       "      <th>1092</th>\n",
       "      <td>973286.0</td>\n",
       "      <td>2</td>\n",
       "      <td>17</td>\n",
       "      <td>105</td>\n",
       "      <td>44.000</td>\n",
       "      <td>inefficient</td>\n",
       "    </tr>\n",
       "  </tbody>\n",
       "</table>\n",
       "<p>1093 rows × 6 columns</p>\n",
       "</div>"
      ],
      "text/plain": [
       "      operator_id  calls_count  call_duration  total_call_duration  hold_time  \\\n",
       "0           999.0       104564         497685              1766770     12.137   \n",
       "1        879896.0          930          63862                76137     13.199   \n",
       "2        879898.0         7313         257391               361288     14.207   \n",
       "3        880020.0           45           2245                 2525      6.222   \n",
       "4        880022.0          197          15147                18925     19.178   \n",
       "...           ...          ...            ...                  ...        ...   \n",
       "1088     972410.0           77           3777                 5275     19.455   \n",
       "1089     972412.0           61           3498                 4548     17.213   \n",
       "1090     972460.0           51           1218                 1838     12.157   \n",
       "1091     973120.0            3              5                   25      6.667   \n",
       "1092     973286.0            2             17                  105     44.000   \n",
       "\n",
       "      hold_rating  \n",
       "0            good  \n",
       "1            good  \n",
       "2            good  \n",
       "3            good  \n",
       "4       attention  \n",
       "...           ...  \n",
       "1088    attention  \n",
       "1089    attention  \n",
       "1090         good  \n",
       "1091         good  \n",
       "1092  inefficient  \n",
       "\n",
       "[1093 rows x 6 columns]"
      ]
     },
     "execution_count": 25,
     "metadata": {},
     "output_type": "execute_result"
    }
   ],
   "source": [
    "rating_column(hold_times, 'hold_time', 'hold_rating', 16, 30)"
   ]
  },
  {
   "cell_type": "markdown",
   "metadata": {},
   "source": [
    "### Total llamadas diarias"
   ]
  },
  {
   "cell_type": "markdown",
   "metadata": {},
   "source": [
    "Cuantas llamas hacen por día los operadores? Calculo el rango de tiempo activo de cada operador y promedio el total de llamadas por día."
   ]
  },
  {
   "cell_type": "code",
   "execution_count": 26,
   "metadata": {
    "scrolled": true
   },
   "outputs": [
    {
     "data": {
      "text/html": [
       "<div>\n",
       "<style scoped>\n",
       "    .dataframe tbody tr th:only-of-type {\n",
       "        vertical-align: middle;\n",
       "    }\n",
       "\n",
       "    .dataframe tbody tr th {\n",
       "        vertical-align: top;\n",
       "    }\n",
       "\n",
       "    .dataframe thead th {\n",
       "        text-align: right;\n",
       "    }\n",
       "</style>\n",
       "<table border=\"1\" class=\"dataframe\">\n",
       "  <thead>\n",
       "    <tr style=\"text-align: right;\">\n",
       "      <th></th>\n",
       "      <th>operator_id</th>\n",
       "      <th>min_date</th>\n",
       "      <th>max_date</th>\n",
       "      <th>total_calls</th>\n",
       "      <th>active_days</th>\n",
       "      <th>daily_calls</th>\n",
       "    </tr>\n",
       "  </thead>\n",
       "  <tbody>\n",
       "    <tr>\n",
       "      <th>0</th>\n",
       "      <td>999.0</td>\n",
       "      <td>2019-08-02</td>\n",
       "      <td>2019-11-28</td>\n",
       "      <td>104564</td>\n",
       "      <td>119</td>\n",
       "      <td>878.69</td>\n",
       "    </tr>\n",
       "    <tr>\n",
       "      <th>1</th>\n",
       "      <td>879896.0</td>\n",
       "      <td>2019-08-02</td>\n",
       "      <td>2019-11-25</td>\n",
       "      <td>930</td>\n",
       "      <td>116</td>\n",
       "      <td>8.02</td>\n",
       "    </tr>\n",
       "    <tr>\n",
       "      <th>2</th>\n",
       "      <td>879898.0</td>\n",
       "      <td>2019-08-02</td>\n",
       "      <td>2019-11-28</td>\n",
       "      <td>7313</td>\n",
       "      <td>119</td>\n",
       "      <td>61.45</td>\n",
       "    </tr>\n",
       "    <tr>\n",
       "      <th>3</th>\n",
       "      <td>880020.0</td>\n",
       "      <td>2019-08-05</td>\n",
       "      <td>2019-10-03</td>\n",
       "      <td>45</td>\n",
       "      <td>60</td>\n",
       "      <td>0.75</td>\n",
       "    </tr>\n",
       "    <tr>\n",
       "      <th>4</th>\n",
       "      <td>880022.0</td>\n",
       "      <td>2019-08-05</td>\n",
       "      <td>2019-11-28</td>\n",
       "      <td>197</td>\n",
       "      <td>116</td>\n",
       "      <td>1.70</td>\n",
       "    </tr>\n",
       "  </tbody>\n",
       "</table>\n",
       "</div>"
      ],
      "text/plain": [
       "   operator_id   min_date   max_date  total_calls  active_days  daily_calls\n",
       "0        999.0 2019-08-02 2019-11-28       104564          119       878.69\n",
       "1     879896.0 2019-08-02 2019-11-25          930          116         8.02\n",
       "2     879898.0 2019-08-02 2019-11-28         7313          119        61.45\n",
       "3     880020.0 2019-08-05 2019-10-03           45           60         0.75\n",
       "4     880022.0 2019-08-05 2019-11-28          197          116         1.70"
      ]
     },
     "execution_count": 26,
     "metadata": {},
     "output_type": "execute_result"
    }
   ],
   "source": [
    "total_calls = telecom.groupby('operator_id').agg(min_date=('date', 'min'),\n",
    "                                                     max_date=('date', 'max'),\n",
    "                                                     total_calls=('calls_count', 'sum')).reset_index()\n",
    "total_calls['active_days'] = ((total_calls['max_date'] - total_calls['min_date']).dt.days) + 1\n",
    "total_calls['daily_calls'] = (total_calls['total_calls'] / total_calls['active_days']).round(2)\n",
    "total_calls.head()"
   ]
  },
  {
   "cell_type": "code",
   "execution_count": 27,
   "metadata": {},
   "outputs": [],
   "source": [
    "# Para esta parte eliminamos el operador ficticio pues incluye la suma de varios desconocidos y arroja un valor atípico alterando los datos\n",
    "total_calls = total_calls[total_calls['operator_id']!=999]"
   ]
  },
  {
   "cell_type": "code",
   "execution_count": 28,
   "metadata": {},
   "outputs": [
    {
     "data": {
      "text/plain": [
       "count    1092.000000\n",
       "mean       17.853993\n",
       "std        48.567361\n",
       "min         0.030000\n",
       "25%         1.000000\n",
       "50%         2.875000\n",
       "75%        15.400000\n",
       "max       770.040000\n",
       "Name: daily_calls, dtype: float64"
      ]
     },
     "execution_count": 28,
     "metadata": {},
     "output_type": "execute_result"
    }
   ],
   "source": [
    "total_calls['daily_calls'].describe()"
   ]
  },
  {
   "cell_type": "markdown",
   "metadata": {},
   "source": [
    "Filtro los valores más extremos para no alterar los datos, cabe destacar que estos valores son operadores con una inusual cantidad de llamadas por lo que reciben directamente una buena calificación"
   ]
  },
  {
   "cell_type": "code",
   "execution_count": 29,
   "metadata": {},
   "outputs": [
    {
     "data": {
      "text/plain": [
       "count    1037.000000\n",
       "mean       10.618197\n",
       "std        17.218481\n",
       "min         0.030000\n",
       "25%         0.930000\n",
       "50%         2.500000\n",
       "75%        12.120000\n",
       "max        78.070000\n",
       "Name: daily_calls, dtype: float64"
      ]
     },
     "execution_count": 29,
     "metadata": {},
     "output_type": "execute_result"
    }
   ],
   "source": [
    "filter_calls = total_calls[total_calls['daily_calls'] < total_calls['daily_calls'].quantile(0.95)]\n",
    "filter_calls['daily_calls'].describe()"
   ]
  },
  {
   "cell_type": "code",
   "execution_count": 61,
   "metadata": {},
   "outputs": [
    {
     "data": {
      "image/png": "[encoded data removed]",
      "text/plain": [
       "<Figure size 640x480 with 1 Axes>"
      ]
     },
     "metadata": {},
     "output_type": "display_data"
    }
   ],
   "source": [
    "plt.figure()\n",
    "sns.histplot(data = filter_calls, x = 'daily_calls')\n",
    "plt.xlabel('Daily Calls')\n",
    "plt.ylabel('Operators count')\n",
    "plt.title('Count of Daily Calls by Operator')\n",
    "plt.show()"
   ]
  },
  {
   "cell_type": "markdown",
   "metadata": {},
   "source": [
    "Es preocupante que a pesar del filtrado, hay muchos operadores muy por debajo del promedio. Clasificaré de la siguiente forma:\n",
    "- Más de 10 llamadas por día: Operador bueno.\n",
    "- Entre 7 y 10: Atención.\n",
    "- Menos de 7: Ineficiente."
   ]
  },
  {
   "cell_type": "code",
   "execution_count": 31,
   "metadata": {},
   "outputs": [
    {
     "name": "stderr",
     "output_type": "stream",
     "text": [
      "/tmp/ipykernel_49/233525943.py:10: SettingWithCopyWarning: \n",
      "A value is trying to be set on a copy of a slice from a DataFrame.\n",
      "Try using .loc[row_indexer,col_indexer] = value instead\n",
      "\n",
      "See the caveats in the documentation: https://pandas.pydata.org/pandas-docs/stable/user_guide/indexing.html#returning-a-view-versus-a-copy\n",
      "  df[new_col] = ratings\n",
      "/tmp/ipykernel_49/2416383343.py:3: SettingWithCopyWarning: \n",
      "A value is trying to be set on a copy of a slice from a DataFrame.\n",
      "Try using .loc[row_indexer,col_indexer] = value instead\n",
      "\n",
      "See the caveats in the documentation: https://pandas.pydata.org/pandas-docs/stable/user_guide/indexing.html#returning-a-view-versus-a-copy\n",
      "  filter_calls['n_calls_rating'] = filter_calls['n_calls_rating'].replace({'inefficient': 'good', 'good': 'inefficient'})\n"
     ]
    },
    {
     "data": {
      "text/html": [
       "<div>\n",
       "<style scoped>\n",
       "    .dataframe tbody tr th:only-of-type {\n",
       "        vertical-align: middle;\n",
       "    }\n",
       "\n",
       "    .dataframe tbody tr th {\n",
       "        vertical-align: top;\n",
       "    }\n",
       "\n",
       "    .dataframe thead th {\n",
       "        text-align: right;\n",
       "    }\n",
       "</style>\n",
       "<table border=\"1\" class=\"dataframe\">\n",
       "  <thead>\n",
       "    <tr style=\"text-align: right;\">\n",
       "      <th></th>\n",
       "      <th>operator_id</th>\n",
       "      <th>min_date</th>\n",
       "      <th>max_date</th>\n",
       "      <th>total_calls</th>\n",
       "      <th>active_days</th>\n",
       "      <th>daily_calls</th>\n",
       "      <th>n_calls_rating</th>\n",
       "    </tr>\n",
       "  </thead>\n",
       "  <tbody>\n",
       "    <tr>\n",
       "      <th>1</th>\n",
       "      <td>879896.0</td>\n",
       "      <td>2019-08-02</td>\n",
       "      <td>2019-11-25</td>\n",
       "      <td>930</td>\n",
       "      <td>116</td>\n",
       "      <td>8.02</td>\n",
       "      <td>attention</td>\n",
       "    </tr>\n",
       "    <tr>\n",
       "      <th>2</th>\n",
       "      <td>879898.0</td>\n",
       "      <td>2019-08-02</td>\n",
       "      <td>2019-11-28</td>\n",
       "      <td>7313</td>\n",
       "      <td>119</td>\n",
       "      <td>61.45</td>\n",
       "      <td>good</td>\n",
       "    </tr>\n",
       "    <tr>\n",
       "      <th>3</th>\n",
       "      <td>880020.0</td>\n",
       "      <td>2019-08-05</td>\n",
       "      <td>2019-10-03</td>\n",
       "      <td>45</td>\n",
       "      <td>60</td>\n",
       "      <td>0.75</td>\n",
       "      <td>inefficient</td>\n",
       "    </tr>\n",
       "    <tr>\n",
       "      <th>4</th>\n",
       "      <td>880022.0</td>\n",
       "      <td>2019-08-05</td>\n",
       "      <td>2019-11-28</td>\n",
       "      <td>197</td>\n",
       "      <td>116</td>\n",
       "      <td>1.70</td>\n",
       "      <td>inefficient</td>\n",
       "    </tr>\n",
       "    <tr>\n",
       "      <th>5</th>\n",
       "      <td>880026.0</td>\n",
       "      <td>2019-08-07</td>\n",
       "      <td>2019-11-28</td>\n",
       "      <td>2232</td>\n",
       "      <td>114</td>\n",
       "      <td>19.58</td>\n",
       "      <td>good</td>\n",
       "    </tr>\n",
       "  </tbody>\n",
       "</table>\n",
       "</div>"
      ],
      "text/plain": [
       "   operator_id   min_date   max_date  total_calls  active_days  daily_calls  \\\n",
       "1     879896.0 2019-08-02 2019-11-25          930          116         8.02   \n",
       "2     879898.0 2019-08-02 2019-11-28         7313          119        61.45   \n",
       "3     880020.0 2019-08-05 2019-10-03           45           60         0.75   \n",
       "4     880022.0 2019-08-05 2019-11-28          197          116         1.70   \n",
       "5     880026.0 2019-08-07 2019-11-28         2232          114        19.58   \n",
       "\n",
       "  n_calls_rating  \n",
       "1      attention  \n",
       "2           good  \n",
       "3    inefficient  \n",
       "4    inefficient  \n",
       "5           good  "
      ]
     },
     "execution_count": 31,
     "metadata": {},
     "output_type": "execute_result"
    }
   ],
   "source": [
    "rating_column(filter_calls, 'daily_calls', 'n_calls_rating', 7, 10)\n",
    "#Aquí da resultados inversos así que los intercambio \n",
    "filter_calls['n_calls_rating'] = filter_calls['n_calls_rating'].replace({'inefficient': 'good', 'good': 'inefficient'})\n",
    "filter_calls.head()"
   ]
  },
  {
   "cell_type": "markdown",
   "metadata": {},
   "source": [
    "### Evaluar la duracion de llamadas "
   ]
  },
  {
   "cell_type": "markdown",
   "metadata": {},
   "source": [
    "Una llamada eficaz no puede ser muy corta ya que no alcanzaría a resolver el problema ni muy larga o puede crear frustración en los clientes. Por ello para este parámetro estableceré rangos de valores:\n",
    "- En los extremos de 5% = Ineficiente\n",
    "- En los extremos de 15% = Atención\n",
    "- En el 70% central = Operador bueno"
   ]
  },
  {
   "cell_type": "markdown",
   "metadata": {},
   "source": [
    "Anteriormente agrupé los datos necesarios para este análisis así que extraigo las columnas que necesito en esta parte."
   ]
  },
  {
   "cell_type": "code",
   "execution_count": 32,
   "metadata": {},
   "outputs": [
    {
     "data": {
      "text/html": [
       "<div>\n",
       "<style scoped>\n",
       "    .dataframe tbody tr th:only-of-type {\n",
       "        vertical-align: middle;\n",
       "    }\n",
       "\n",
       "    .dataframe tbody tr th {\n",
       "        vertical-align: top;\n",
       "    }\n",
       "\n",
       "    .dataframe thead th {\n",
       "        text-align: right;\n",
       "    }\n",
       "</style>\n",
       "<table border=\"1\" class=\"dataframe\">\n",
       "  <thead>\n",
       "    <tr style=\"text-align: right;\">\n",
       "      <th></th>\n",
       "      <th>operator_id</th>\n",
       "      <th>calls_count</th>\n",
       "      <th>call_duration</th>\n",
       "      <th>mean_duration</th>\n",
       "    </tr>\n",
       "  </thead>\n",
       "  <tbody>\n",
       "    <tr>\n",
       "      <th>0</th>\n",
       "      <td>999.0</td>\n",
       "      <td>104564</td>\n",
       "      <td>497685</td>\n",
       "      <td>5.0</td>\n",
       "    </tr>\n",
       "    <tr>\n",
       "      <th>1</th>\n",
       "      <td>879896.0</td>\n",
       "      <td>930</td>\n",
       "      <td>63862</td>\n",
       "      <td>69.0</td>\n",
       "    </tr>\n",
       "    <tr>\n",
       "      <th>2</th>\n",
       "      <td>879898.0</td>\n",
       "      <td>7313</td>\n",
       "      <td>257391</td>\n",
       "      <td>35.0</td>\n",
       "    </tr>\n",
       "    <tr>\n",
       "      <th>3</th>\n",
       "      <td>880020.0</td>\n",
       "      <td>45</td>\n",
       "      <td>2245</td>\n",
       "      <td>50.0</td>\n",
       "    </tr>\n",
       "    <tr>\n",
       "      <th>4</th>\n",
       "      <td>880022.0</td>\n",
       "      <td>197</td>\n",
       "      <td>15147</td>\n",
       "      <td>77.0</td>\n",
       "    </tr>\n",
       "  </tbody>\n",
       "</table>\n",
       "</div>"
      ],
      "text/plain": [
       "   operator_id  calls_count  call_duration  mean_duration\n",
       "0        999.0       104564         497685            5.0\n",
       "1     879896.0          930          63862           69.0\n",
       "2     879898.0         7313         257391           35.0\n",
       "3     880020.0           45           2245           50.0\n",
       "4     880022.0          197          15147           77.0"
      ]
     },
     "execution_count": 32,
     "metadata": {},
     "output_type": "execute_result"
    }
   ],
   "source": [
    "call_duration = hold_times.iloc[:, :3]\n",
    "call_duration['mean_duration'] = (call_duration['call_duration'] / call_duration['calls_count']).round(0)\n",
    "call_duration.head()"
   ]
  },
  {
   "cell_type": "code",
   "execution_count": 33,
   "metadata": {},
   "outputs": [
    {
     "data": {
      "text/plain": [
       "count    1093.000000\n",
       "mean       74.015554\n",
       "std        78.750247\n",
       "min         0.000000\n",
       "25%        31.000000\n",
       "50%        59.000000\n",
       "75%        93.000000\n",
       "max      1306.000000\n",
       "Name: mean_duration, dtype: float64"
      ]
     },
     "execution_count": 33,
     "metadata": {},
     "output_type": "execute_result"
    }
   ],
   "source": [
    "call_duration['mean_duration'].describe()"
   ]
  },
  {
   "cell_type": "markdown",
   "metadata": {},
   "source": [
    "Reviso la distribución de los datos"
   ]
  },
  {
   "cell_type": "code",
   "execution_count": 34,
   "metadata": {},
   "outputs": [
    {
     "data": {
      "text/plain": [
       "<AxesSubplot:xlabel='mean_duration'>"
      ]
     },
     "execution_count": 34,
     "metadata": {},
     "output_type": "execute_result"
    },
    {
     "data": {
      "image/png": "[encoded data removed]",
      "text/plain": [
       "<Figure size 640x480 with 1 Axes>"
      ]
     },
     "metadata": {},
     "output_type": "display_data"
    }
   ],
   "source": [
    "sns.boxplot(data=call_duration, x='mean_duration')"
   ]
  },
  {
   "cell_type": "code",
   "execution_count": 35,
   "metadata": {},
   "outputs": [
    {
     "data": {
      "text/plain": [
       "<AxesSubplot:>"
      ]
     },
     "execution_count": 35,
     "metadata": {},
     "output_type": "execute_result"
    },
    {
     "data": {
      "image/png": "[encoded data removed]",
      "text/plain": [
       "<Figure size 640x480 with 1 Axes>"
      ]
     },
     "metadata": {},
     "output_type": "display_data"
    }
   ],
   "source": [
    "call_duration['mean_duration'].hist(range=(0,400))"
   ]
  },
  {
   "cell_type": "markdown",
   "metadata": {},
   "source": [
    "Establezco los rangos y luego uso el mismo código de la función definida anteriormente pero la cambio para aceptar estos rangos en este caso particular."
   ]
  },
  {
   "cell_type": "code",
   "execution_count": 36,
   "metadata": {
    "scrolled": true
   },
   "outputs": [
    {
     "data": {
      "text/html": [
       "<div>\n",
       "<style scoped>\n",
       "    .dataframe tbody tr th:only-of-type {\n",
       "        vertical-align: middle;\n",
       "    }\n",
       "\n",
       "    .dataframe tbody tr th {\n",
       "        vertical-align: top;\n",
       "    }\n",
       "\n",
       "    .dataframe thead th {\n",
       "        text-align: right;\n",
       "    }\n",
       "</style>\n",
       "<table border=\"1\" class=\"dataframe\">\n",
       "  <thead>\n",
       "    <tr style=\"text-align: right;\">\n",
       "      <th></th>\n",
       "      <th>operator_id</th>\n",
       "      <th>calls_count</th>\n",
       "      <th>call_duration</th>\n",
       "      <th>mean_duration</th>\n",
       "      <th>duration_rating</th>\n",
       "    </tr>\n",
       "  </thead>\n",
       "  <tbody>\n",
       "    <tr>\n",
       "      <th>0</th>\n",
       "      <td>999.0</td>\n",
       "      <td>104564</td>\n",
       "      <td>497685</td>\n",
       "      <td>5.0</td>\n",
       "      <td>inefficient</td>\n",
       "    </tr>\n",
       "    <tr>\n",
       "      <th>1</th>\n",
       "      <td>879896.0</td>\n",
       "      <td>930</td>\n",
       "      <td>63862</td>\n",
       "      <td>69.0</td>\n",
       "      <td>good</td>\n",
       "    </tr>\n",
       "    <tr>\n",
       "      <th>2</th>\n",
       "      <td>879898.0</td>\n",
       "      <td>7313</td>\n",
       "      <td>257391</td>\n",
       "      <td>35.0</td>\n",
       "      <td>good</td>\n",
       "    </tr>\n",
       "    <tr>\n",
       "      <th>3</th>\n",
       "      <td>880020.0</td>\n",
       "      <td>45</td>\n",
       "      <td>2245</td>\n",
       "      <td>50.0</td>\n",
       "      <td>good</td>\n",
       "    </tr>\n",
       "    <tr>\n",
       "      <th>4</th>\n",
       "      <td>880022.0</td>\n",
       "      <td>197</td>\n",
       "      <td>15147</td>\n",
       "      <td>77.0</td>\n",
       "      <td>good</td>\n",
       "    </tr>\n",
       "  </tbody>\n",
       "</table>\n",
       "</div>"
      ],
      "text/plain": [
       "   operator_id  calls_count  call_duration  mean_duration duration_rating\n",
       "0        999.0       104564         497685            5.0     inefficient\n",
       "1     879896.0          930          63862           69.0            good\n",
       "2     879898.0         7313         257391           35.0            good\n",
       "3     880020.0           45           2245           50.0            good\n",
       "4     880022.0          197          15147           77.0            good"
      ]
     },
     "execution_count": 36,
     "metadata": {},
     "output_type": "execute_result"
    }
   ],
   "source": [
    "q_5 = call_duration['mean_duration'].quantile(0.05)\n",
    "q_15 = call_duration['mean_duration'].quantile(0.15)\n",
    "q_85 = call_duration['mean_duration'].quantile(0.85)\n",
    "q_95 = call_duration['mean_duration'].quantile(0.95)\n",
    "\n",
    "ratings = []\n",
    "\n",
    "for x in call_duration['mean_duration']:\n",
    "    if x <= q_5 or x >= q_95:\n",
    "        ratings.append('inefficient')\n",
    "    elif (q_5 < x <= q_15) or (q_85 <= x < q_95):\n",
    "        ratings.append('attention')\n",
    "    else:\n",
    "        ratings.append('good')\n",
    "\n",
    "call_duration['duration_rating'] = ratings\n",
    "call_duration.head()"
   ]
  },
  {
   "cell_type": "code",
   "execution_count": 65,
   "metadata": {},
   "outputs": [
    {
     "data": {
      "image/png": "[encoded data removed]",
      "text/plain": [
       "<Figure size 640x480 with 1 Axes>"
      ]
     },
     "metadata": {},
     "output_type": "display_data"
    }
   ],
   "source": [
    "plt.figure()\n",
    "sns.histplot(data= call_duration, x = 'mean_duration', binrange=(0,400))\n",
    "plt.xlabel('Call duration (seconds)')\n",
    "plt.ylabel('Operators count')\n",
    "plt.title('Mean Call Duration')\n",
    "plt.show()"
   ]
  },
  {
   "cell_type": "markdown",
   "metadata": {},
   "source": [
    "### Combinar y sumar las puntuaciones"
   ]
  },
  {
   "cell_type": "markdown",
   "metadata": {},
   "source": [
    "Ya con varios argumentos definidos para evaluar, junto los resultados en una tabla"
   ]
  },
  {
   "cell_type": "code",
   "execution_count": 37,
   "metadata": {},
   "outputs": [
    {
     "data": {
      "text/html": [
       "<div>\n",
       "<style scoped>\n",
       "    .dataframe tbody tr th:only-of-type {\n",
       "        vertical-align: middle;\n",
       "    }\n",
       "\n",
       "    .dataframe tbody tr th {\n",
       "        vertical-align: top;\n",
       "    }\n",
       "\n",
       "    .dataframe thead th {\n",
       "        text-align: right;\n",
       "    }\n",
       "</style>\n",
       "<table border=\"1\" class=\"dataframe\">\n",
       "  <thead>\n",
       "    <tr style=\"text-align: right;\">\n",
       "      <th>is_missed_call</th>\n",
       "      <th>operator_id</th>\n",
       "      <th>False</th>\n",
       "      <th>True</th>\n",
       "      <th>miss_percent</th>\n",
       "      <th>miss_rating</th>\n",
       "    </tr>\n",
       "  </thead>\n",
       "  <tbody>\n",
       "    <tr>\n",
       "      <th>0</th>\n",
       "      <td>999.0</td>\n",
       "      <td>68.0</td>\n",
       "      <td>7202.0</td>\n",
       "      <td>99.065</td>\n",
       "      <td>inefficient</td>\n",
       "    </tr>\n",
       "    <tr>\n",
       "      <th>1</th>\n",
       "      <td>879896.0</td>\n",
       "      <td>21.0</td>\n",
       "      <td>0.0</td>\n",
       "      <td>0.000</td>\n",
       "      <td>good</td>\n",
       "    </tr>\n",
       "    <tr>\n",
       "      <th>2</th>\n",
       "      <td>879898.0</td>\n",
       "      <td>57.0</td>\n",
       "      <td>0.0</td>\n",
       "      <td>0.000</td>\n",
       "      <td>good</td>\n",
       "    </tr>\n",
       "    <tr>\n",
       "      <th>3</th>\n",
       "      <td>880020.0</td>\n",
       "      <td>7.0</td>\n",
       "      <td>0.0</td>\n",
       "      <td>0.000</td>\n",
       "      <td>good</td>\n",
       "    </tr>\n",
       "    <tr>\n",
       "      <th>4</th>\n",
       "      <td>880022.0</td>\n",
       "      <td>8.0</td>\n",
       "      <td>0.0</td>\n",
       "      <td>0.000</td>\n",
       "      <td>good</td>\n",
       "    </tr>\n",
       "    <tr>\n",
       "      <th>...</th>\n",
       "      <td>...</td>\n",
       "      <td>...</td>\n",
       "      <td>...</td>\n",
       "      <td>...</td>\n",
       "      <td>...</td>\n",
       "    </tr>\n",
       "    <tr>\n",
       "      <th>750</th>\n",
       "      <td>971102.0</td>\n",
       "      <td>4.0</td>\n",
       "      <td>0.0</td>\n",
       "      <td>0.000</td>\n",
       "      <td>good</td>\n",
       "    </tr>\n",
       "    <tr>\n",
       "      <th>751</th>\n",
       "      <td>971354.0</td>\n",
       "      <td>2.0</td>\n",
       "      <td>0.0</td>\n",
       "      <td>0.000</td>\n",
       "      <td>good</td>\n",
       "    </tr>\n",
       "    <tr>\n",
       "      <th>752</th>\n",
       "      <td>972412.0</td>\n",
       "      <td>1.0</td>\n",
       "      <td>0.0</td>\n",
       "      <td>0.000</td>\n",
       "      <td>good</td>\n",
       "    </tr>\n",
       "    <tr>\n",
       "      <th>753</th>\n",
       "      <td>972460.0</td>\n",
       "      <td>1.0</td>\n",
       "      <td>0.0</td>\n",
       "      <td>0.000</td>\n",
       "      <td>good</td>\n",
       "    </tr>\n",
       "    <tr>\n",
       "      <th>754</th>\n",
       "      <td>973286.0</td>\n",
       "      <td>1.0</td>\n",
       "      <td>0.0</td>\n",
       "      <td>0.000</td>\n",
       "      <td>good</td>\n",
       "    </tr>\n",
       "  </tbody>\n",
       "</table>\n",
       "<p>755 rows × 5 columns</p>\n",
       "</div>"
      ],
      "text/plain": [
       "is_missed_call  operator_id  False    True  miss_percent  miss_rating\n",
       "0                     999.0   68.0  7202.0        99.065  inefficient\n",
       "1                  879896.0   21.0     0.0         0.000         good\n",
       "2                  879898.0   57.0     0.0         0.000         good\n",
       "3                  880020.0    7.0     0.0         0.000         good\n",
       "4                  880022.0    8.0     0.0         0.000         good\n",
       "..                      ...    ...     ...           ...          ...\n",
       "750                971102.0    4.0     0.0         0.000         good\n",
       "751                971354.0    2.0     0.0         0.000         good\n",
       "752                972412.0    1.0     0.0         0.000         good\n",
       "753                972460.0    1.0     0.0         0.000         good\n",
       "754                973286.0    1.0     0.0         0.000         good\n",
       "\n",
       "[755 rows x 5 columns]"
      ]
     },
     "execution_count": 37,
     "metadata": {},
     "output_type": "execute_result"
    }
   ],
   "source": [
    "missed_calls"
   ]
  },
  {
   "cell_type": "code",
   "execution_count": 38,
   "metadata": {},
   "outputs": [
    {
     "data": {
      "text/html": [
       "<div>\n",
       "<style scoped>\n",
       "    .dataframe tbody tr th:only-of-type {\n",
       "        vertical-align: middle;\n",
       "    }\n",
       "\n",
       "    .dataframe tbody tr th {\n",
       "        vertical-align: top;\n",
       "    }\n",
       "\n",
       "    .dataframe thead th {\n",
       "        text-align: right;\n",
       "    }\n",
       "</style>\n",
       "<table border=\"1\" class=\"dataframe\">\n",
       "  <thead>\n",
       "    <tr style=\"text-align: right;\">\n",
       "      <th></th>\n",
       "      <th>operator_id</th>\n",
       "      <th>calls_count</th>\n",
       "      <th>call_duration</th>\n",
       "      <th>total_call_duration</th>\n",
       "      <th>hold_time</th>\n",
       "      <th>hold_rating</th>\n",
       "    </tr>\n",
       "  </thead>\n",
       "  <tbody>\n",
       "    <tr>\n",
       "      <th>0</th>\n",
       "      <td>999.0</td>\n",
       "      <td>104564</td>\n",
       "      <td>497685</td>\n",
       "      <td>1766770</td>\n",
       "      <td>12.137</td>\n",
       "      <td>good</td>\n",
       "    </tr>\n",
       "    <tr>\n",
       "      <th>1</th>\n",
       "      <td>879896.0</td>\n",
       "      <td>930</td>\n",
       "      <td>63862</td>\n",
       "      <td>76137</td>\n",
       "      <td>13.199</td>\n",
       "      <td>good</td>\n",
       "    </tr>\n",
       "    <tr>\n",
       "      <th>2</th>\n",
       "      <td>879898.0</td>\n",
       "      <td>7313</td>\n",
       "      <td>257391</td>\n",
       "      <td>361288</td>\n",
       "      <td>14.207</td>\n",
       "      <td>good</td>\n",
       "    </tr>\n",
       "    <tr>\n",
       "      <th>3</th>\n",
       "      <td>880020.0</td>\n",
       "      <td>45</td>\n",
       "      <td>2245</td>\n",
       "      <td>2525</td>\n",
       "      <td>6.222</td>\n",
       "      <td>good</td>\n",
       "    </tr>\n",
       "    <tr>\n",
       "      <th>4</th>\n",
       "      <td>880022.0</td>\n",
       "      <td>197</td>\n",
       "      <td>15147</td>\n",
       "      <td>18925</td>\n",
       "      <td>19.178</td>\n",
       "      <td>attention</td>\n",
       "    </tr>\n",
       "    <tr>\n",
       "      <th>...</th>\n",
       "      <td>...</td>\n",
       "      <td>...</td>\n",
       "      <td>...</td>\n",
       "      <td>...</td>\n",
       "      <td>...</td>\n",
       "      <td>...</td>\n",
       "    </tr>\n",
       "    <tr>\n",
       "      <th>1088</th>\n",
       "      <td>972410.0</td>\n",
       "      <td>77</td>\n",
       "      <td>3777</td>\n",
       "      <td>5275</td>\n",
       "      <td>19.455</td>\n",
       "      <td>attention</td>\n",
       "    </tr>\n",
       "    <tr>\n",
       "      <th>1089</th>\n",
       "      <td>972412.0</td>\n",
       "      <td>61</td>\n",
       "      <td>3498</td>\n",
       "      <td>4548</td>\n",
       "      <td>17.213</td>\n",
       "      <td>attention</td>\n",
       "    </tr>\n",
       "    <tr>\n",
       "      <th>1090</th>\n",
       "      <td>972460.0</td>\n",
       "      <td>51</td>\n",
       "      <td>1218</td>\n",
       "      <td>1838</td>\n",
       "      <td>12.157</td>\n",
       "      <td>good</td>\n",
       "    </tr>\n",
       "    <tr>\n",
       "      <th>1091</th>\n",
       "      <td>973120.0</td>\n",
       "      <td>3</td>\n",
       "      <td>5</td>\n",
       "      <td>25</td>\n",
       "      <td>6.667</td>\n",
       "      <td>good</td>\n",
       "    </tr>\n",
       "    <tr>\n",
       "      <th>1092</th>\n",
       "      <td>973286.0</td>\n",
       "      <td>2</td>\n",
       "      <td>17</td>\n",
       "      <td>105</td>\n",
       "      <td>44.000</td>\n",
       "      <td>inefficient</td>\n",
       "    </tr>\n",
       "  </tbody>\n",
       "</table>\n",
       "<p>1093 rows × 6 columns</p>\n",
       "</div>"
      ],
      "text/plain": [
       "      operator_id  calls_count  call_duration  total_call_duration  hold_time  \\\n",
       "0           999.0       104564         497685              1766770     12.137   \n",
       "1        879896.0          930          63862                76137     13.199   \n",
       "2        879898.0         7313         257391               361288     14.207   \n",
       "3        880020.0           45           2245                 2525      6.222   \n",
       "4        880022.0          197          15147                18925     19.178   \n",
       "...           ...          ...            ...                  ...        ...   \n",
       "1088     972410.0           77           3777                 5275     19.455   \n",
       "1089     972412.0           61           3498                 4548     17.213   \n",
       "1090     972460.0           51           1218                 1838     12.157   \n",
       "1091     973120.0            3              5                   25      6.667   \n",
       "1092     973286.0            2             17                  105     44.000   \n",
       "\n",
       "      hold_rating  \n",
       "0            good  \n",
       "1            good  \n",
       "2            good  \n",
       "3            good  \n",
       "4       attention  \n",
       "...           ...  \n",
       "1088    attention  \n",
       "1089    attention  \n",
       "1090         good  \n",
       "1091         good  \n",
       "1092  inefficient  \n",
       "\n",
       "[1093 rows x 6 columns]"
      ]
     },
     "execution_count": 38,
     "metadata": {},
     "output_type": "execute_result"
    }
   ],
   "source": [
    "hold_times"
   ]
  },
  {
   "cell_type": "code",
   "execution_count": 39,
   "metadata": {},
   "outputs": [
    {
     "data": {
      "text/html": [
       "<div>\n",
       "<style scoped>\n",
       "    .dataframe tbody tr th:only-of-type {\n",
       "        vertical-align: middle;\n",
       "    }\n",
       "\n",
       "    .dataframe tbody tr th {\n",
       "        vertical-align: top;\n",
       "    }\n",
       "\n",
       "    .dataframe thead th {\n",
       "        text-align: right;\n",
       "    }\n",
       "</style>\n",
       "<table border=\"1\" class=\"dataframe\">\n",
       "  <thead>\n",
       "    <tr style=\"text-align: right;\">\n",
       "      <th></th>\n",
       "      <th>operator_id</th>\n",
       "      <th>min_date</th>\n",
       "      <th>max_date</th>\n",
       "      <th>total_calls</th>\n",
       "      <th>active_days</th>\n",
       "      <th>daily_calls</th>\n",
       "    </tr>\n",
       "  </thead>\n",
       "  <tbody>\n",
       "    <tr>\n",
       "      <th>1</th>\n",
       "      <td>879896.0</td>\n",
       "      <td>2019-08-02</td>\n",
       "      <td>2019-11-25</td>\n",
       "      <td>930</td>\n",
       "      <td>116</td>\n",
       "      <td>8.02</td>\n",
       "    </tr>\n",
       "    <tr>\n",
       "      <th>2</th>\n",
       "      <td>879898.0</td>\n",
       "      <td>2019-08-02</td>\n",
       "      <td>2019-11-28</td>\n",
       "      <td>7313</td>\n",
       "      <td>119</td>\n",
       "      <td>61.45</td>\n",
       "    </tr>\n",
       "    <tr>\n",
       "      <th>3</th>\n",
       "      <td>880020.0</td>\n",
       "      <td>2019-08-05</td>\n",
       "      <td>2019-10-03</td>\n",
       "      <td>45</td>\n",
       "      <td>60</td>\n",
       "      <td>0.75</td>\n",
       "    </tr>\n",
       "    <tr>\n",
       "      <th>4</th>\n",
       "      <td>880022.0</td>\n",
       "      <td>2019-08-05</td>\n",
       "      <td>2019-11-28</td>\n",
       "      <td>197</td>\n",
       "      <td>116</td>\n",
       "      <td>1.70</td>\n",
       "    </tr>\n",
       "    <tr>\n",
       "      <th>5</th>\n",
       "      <td>880026.0</td>\n",
       "      <td>2019-08-07</td>\n",
       "      <td>2019-11-28</td>\n",
       "      <td>2232</td>\n",
       "      <td>114</td>\n",
       "      <td>19.58</td>\n",
       "    </tr>\n",
       "    <tr>\n",
       "      <th>...</th>\n",
       "      <td>...</td>\n",
       "      <td>...</td>\n",
       "      <td>...</td>\n",
       "      <td>...</td>\n",
       "      <td>...</td>\n",
       "      <td>...</td>\n",
       "    </tr>\n",
       "    <tr>\n",
       "      <th>1088</th>\n",
       "      <td>972410.0</td>\n",
       "      <td>2019-11-27</td>\n",
       "      <td>2019-11-28</td>\n",
       "      <td>77</td>\n",
       "      <td>2</td>\n",
       "      <td>38.50</td>\n",
       "    </tr>\n",
       "    <tr>\n",
       "      <th>1089</th>\n",
       "      <td>972412.0</td>\n",
       "      <td>2019-11-27</td>\n",
       "      <td>2019-11-28</td>\n",
       "      <td>61</td>\n",
       "      <td>2</td>\n",
       "      <td>30.50</td>\n",
       "    </tr>\n",
       "    <tr>\n",
       "      <th>1090</th>\n",
       "      <td>972460.0</td>\n",
       "      <td>2019-11-27</td>\n",
       "      <td>2019-11-28</td>\n",
       "      <td>51</td>\n",
       "      <td>2</td>\n",
       "      <td>25.50</td>\n",
       "    </tr>\n",
       "    <tr>\n",
       "      <th>1091</th>\n",
       "      <td>973120.0</td>\n",
       "      <td>2019-11-27</td>\n",
       "      <td>2019-11-27</td>\n",
       "      <td>3</td>\n",
       "      <td>1</td>\n",
       "      <td>3.00</td>\n",
       "    </tr>\n",
       "    <tr>\n",
       "      <th>1092</th>\n",
       "      <td>973286.0</td>\n",
       "      <td>2019-11-28</td>\n",
       "      <td>2019-11-28</td>\n",
       "      <td>2</td>\n",
       "      <td>1</td>\n",
       "      <td>2.00</td>\n",
       "    </tr>\n",
       "  </tbody>\n",
       "</table>\n",
       "<p>1092 rows × 6 columns</p>\n",
       "</div>"
      ],
      "text/plain": [
       "      operator_id   min_date   max_date  total_calls  active_days  daily_calls\n",
       "1        879896.0 2019-08-02 2019-11-25          930          116         8.02\n",
       "2        879898.0 2019-08-02 2019-11-28         7313          119        61.45\n",
       "3        880020.0 2019-08-05 2019-10-03           45           60         0.75\n",
       "4        880022.0 2019-08-05 2019-11-28          197          116         1.70\n",
       "5        880026.0 2019-08-07 2019-11-28         2232          114        19.58\n",
       "...           ...        ...        ...          ...          ...          ...\n",
       "1088     972410.0 2019-11-27 2019-11-28           77            2        38.50\n",
       "1089     972412.0 2019-11-27 2019-11-28           61            2        30.50\n",
       "1090     972460.0 2019-11-27 2019-11-28           51            2        25.50\n",
       "1091     973120.0 2019-11-27 2019-11-27            3            1         3.00\n",
       "1092     973286.0 2019-11-28 2019-11-28            2            1         2.00\n",
       "\n",
       "[1092 rows x 6 columns]"
      ]
     },
     "execution_count": 39,
     "metadata": {},
     "output_type": "execute_result"
    }
   ],
   "source": [
    "total_calls"
   ]
  },
  {
   "cell_type": "code",
   "execution_count": 40,
   "metadata": {},
   "outputs": [
    {
     "data": {
      "text/html": [
       "<div>\n",
       "<style scoped>\n",
       "    .dataframe tbody tr th:only-of-type {\n",
       "        vertical-align: middle;\n",
       "    }\n",
       "\n",
       "    .dataframe tbody tr th {\n",
       "        vertical-align: top;\n",
       "    }\n",
       "\n",
       "    .dataframe thead th {\n",
       "        text-align: right;\n",
       "    }\n",
       "</style>\n",
       "<table border=\"1\" class=\"dataframe\">\n",
       "  <thead>\n",
       "    <tr style=\"text-align: right;\">\n",
       "      <th></th>\n",
       "      <th>operator_id</th>\n",
       "      <th>miss_rating</th>\n",
       "      <th>hold_rating</th>\n",
       "      <th>n_calls_rating</th>\n",
       "      <th>duration_rating</th>\n",
       "    </tr>\n",
       "  </thead>\n",
       "  <tbody>\n",
       "    <tr>\n",
       "      <th>0</th>\n",
       "      <td>999.0</td>\n",
       "      <td>inefficient</td>\n",
       "      <td>good</td>\n",
       "      <td>NaN</td>\n",
       "      <td>inefficient</td>\n",
       "    </tr>\n",
       "    <tr>\n",
       "      <th>1</th>\n",
       "      <td>879896.0</td>\n",
       "      <td>good</td>\n",
       "      <td>good</td>\n",
       "      <td>attention</td>\n",
       "      <td>good</td>\n",
       "    </tr>\n",
       "    <tr>\n",
       "      <th>2</th>\n",
       "      <td>879898.0</td>\n",
       "      <td>good</td>\n",
       "      <td>good</td>\n",
       "      <td>good</td>\n",
       "      <td>good</td>\n",
       "    </tr>\n",
       "    <tr>\n",
       "      <th>3</th>\n",
       "      <td>880020.0</td>\n",
       "      <td>good</td>\n",
       "      <td>good</td>\n",
       "      <td>inefficient</td>\n",
       "      <td>good</td>\n",
       "    </tr>\n",
       "    <tr>\n",
       "      <th>4</th>\n",
       "      <td>880022.0</td>\n",
       "      <td>good</td>\n",
       "      <td>attention</td>\n",
       "      <td>inefficient</td>\n",
       "      <td>good</td>\n",
       "    </tr>\n",
       "    <tr>\n",
       "      <th>...</th>\n",
       "      <td>...</td>\n",
       "      <td>...</td>\n",
       "      <td>...</td>\n",
       "      <td>...</td>\n",
       "      <td>...</td>\n",
       "    </tr>\n",
       "    <tr>\n",
       "      <th>1088</th>\n",
       "      <td>970484.0</td>\n",
       "      <td>NaN</td>\n",
       "      <td>good</td>\n",
       "      <td>inefficient</td>\n",
       "      <td>attention</td>\n",
       "    </tr>\n",
       "    <tr>\n",
       "      <th>1089</th>\n",
       "      <td>970486.0</td>\n",
       "      <td>NaN</td>\n",
       "      <td>good</td>\n",
       "      <td>inefficient</td>\n",
       "      <td>good</td>\n",
       "    </tr>\n",
       "    <tr>\n",
       "      <th>1090</th>\n",
       "      <td>972408.0</td>\n",
       "      <td>NaN</td>\n",
       "      <td>good</td>\n",
       "      <td>inefficient</td>\n",
       "      <td>good</td>\n",
       "    </tr>\n",
       "    <tr>\n",
       "      <th>1091</th>\n",
       "      <td>972410.0</td>\n",
       "      <td>NaN</td>\n",
       "      <td>attention</td>\n",
       "      <td>good</td>\n",
       "      <td>good</td>\n",
       "    </tr>\n",
       "    <tr>\n",
       "      <th>1092</th>\n",
       "      <td>973120.0</td>\n",
       "      <td>NaN</td>\n",
       "      <td>good</td>\n",
       "      <td>inefficient</td>\n",
       "      <td>inefficient</td>\n",
       "    </tr>\n",
       "  </tbody>\n",
       "</table>\n",
       "<p>1093 rows × 5 columns</p>\n",
       "</div>"
      ],
      "text/plain": [
       "      operator_id  miss_rating hold_rating n_calls_rating duration_rating\n",
       "0           999.0  inefficient        good            NaN     inefficient\n",
       "1        879896.0         good        good      attention            good\n",
       "2        879898.0         good        good           good            good\n",
       "3        880020.0         good        good    inefficient            good\n",
       "4        880022.0         good   attention    inefficient            good\n",
       "...           ...          ...         ...            ...             ...\n",
       "1088     970484.0          NaN        good    inefficient       attention\n",
       "1089     970486.0          NaN        good    inefficient            good\n",
       "1090     972408.0          NaN        good    inefficient            good\n",
       "1091     972410.0          NaN   attention           good            good\n",
       "1092     973120.0          NaN        good    inefficient     inefficient\n",
       "\n",
       "[1093 rows x 5 columns]"
      ]
     },
     "execution_count": 40,
     "metadata": {},
     "output_type": "execute_result"
    }
   ],
   "source": [
    "op_rating = missed_calls.iloc[:, [0, -1]].merge(hold_times.iloc[:, [0, -1]], on='operator_id', how='outer')\n",
    "op_rating = op_rating.merge(filter_calls.iloc[:, [0, -1]], on = 'operator_id', how = 'outer')\n",
    "op_rating = op_rating.merge(call_duration.iloc[:, [0, -1]], on = 'operator_id', how = 'outer')\n",
    "op_rating"
   ]
  },
  {
   "cell_type": "code",
   "execution_count": 41,
   "metadata": {},
   "outputs": [
    {
     "data": {
      "text/html": [
       "<div>\n",
       "<style scoped>\n",
       "    .dataframe tbody tr th:only-of-type {\n",
       "        vertical-align: middle;\n",
       "    }\n",
       "\n",
       "    .dataframe tbody tr th {\n",
       "        vertical-align: top;\n",
       "    }\n",
       "\n",
       "    .dataframe thead th {\n",
       "        text-align: right;\n",
       "    }\n",
       "</style>\n",
       "<table border=\"1\" class=\"dataframe\">\n",
       "  <thead>\n",
       "    <tr style=\"text-align: right;\">\n",
       "      <th>is_missed_call</th>\n",
       "      <th>operator_id</th>\n",
       "      <th>False</th>\n",
       "      <th>True</th>\n",
       "      <th>miss_percent</th>\n",
       "      <th>miss_rating</th>\n",
       "    </tr>\n",
       "  </thead>\n",
       "  <tbody>\n",
       "    <tr>\n",
       "      <th>0</th>\n",
       "      <td>999.0</td>\n",
       "      <td>68.0</td>\n",
       "      <td>7202.0</td>\n",
       "      <td>99.065</td>\n",
       "      <td>inefficient</td>\n",
       "    </tr>\n",
       "    <tr>\n",
       "      <th>1</th>\n",
       "      <td>879896.0</td>\n",
       "      <td>21.0</td>\n",
       "      <td>0.0</td>\n",
       "      <td>0.000</td>\n",
       "      <td>good</td>\n",
       "    </tr>\n",
       "    <tr>\n",
       "      <th>2</th>\n",
       "      <td>879898.0</td>\n",
       "      <td>57.0</td>\n",
       "      <td>0.0</td>\n",
       "      <td>0.000</td>\n",
       "      <td>good</td>\n",
       "    </tr>\n",
       "    <tr>\n",
       "      <th>3</th>\n",
       "      <td>880020.0</td>\n",
       "      <td>7.0</td>\n",
       "      <td>0.0</td>\n",
       "      <td>0.000</td>\n",
       "      <td>good</td>\n",
       "    </tr>\n",
       "    <tr>\n",
       "      <th>4</th>\n",
       "      <td>880022.0</td>\n",
       "      <td>8.0</td>\n",
       "      <td>0.0</td>\n",
       "      <td>0.000</td>\n",
       "      <td>good</td>\n",
       "    </tr>\n",
       "    <tr>\n",
       "      <th>...</th>\n",
       "      <td>...</td>\n",
       "      <td>...</td>\n",
       "      <td>...</td>\n",
       "      <td>...</td>\n",
       "      <td>...</td>\n",
       "    </tr>\n",
       "    <tr>\n",
       "      <th>750</th>\n",
       "      <td>971102.0</td>\n",
       "      <td>4.0</td>\n",
       "      <td>0.0</td>\n",
       "      <td>0.000</td>\n",
       "      <td>good</td>\n",
       "    </tr>\n",
       "    <tr>\n",
       "      <th>751</th>\n",
       "      <td>971354.0</td>\n",
       "      <td>2.0</td>\n",
       "      <td>0.0</td>\n",
       "      <td>0.000</td>\n",
       "      <td>good</td>\n",
       "    </tr>\n",
       "    <tr>\n",
       "      <th>752</th>\n",
       "      <td>972412.0</td>\n",
       "      <td>1.0</td>\n",
       "      <td>0.0</td>\n",
       "      <td>0.000</td>\n",
       "      <td>good</td>\n",
       "    </tr>\n",
       "    <tr>\n",
       "      <th>753</th>\n",
       "      <td>972460.0</td>\n",
       "      <td>1.0</td>\n",
       "      <td>0.0</td>\n",
       "      <td>0.000</td>\n",
       "      <td>good</td>\n",
       "    </tr>\n",
       "    <tr>\n",
       "      <th>754</th>\n",
       "      <td>973286.0</td>\n",
       "      <td>1.0</td>\n",
       "      <td>0.0</td>\n",
       "      <td>0.000</td>\n",
       "      <td>good</td>\n",
       "    </tr>\n",
       "  </tbody>\n",
       "</table>\n",
       "<p>755 rows × 5 columns</p>\n",
       "</div>"
      ],
      "text/plain": [
       "is_missed_call  operator_id  False    True  miss_percent  miss_rating\n",
       "0                     999.0   68.0  7202.0        99.065  inefficient\n",
       "1                  879896.0   21.0     0.0         0.000         good\n",
       "2                  879898.0   57.0     0.0         0.000         good\n",
       "3                  880020.0    7.0     0.0         0.000         good\n",
       "4                  880022.0    8.0     0.0         0.000         good\n",
       "..                      ...    ...     ...           ...          ...\n",
       "750                971102.0    4.0     0.0         0.000         good\n",
       "751                971354.0    2.0     0.0         0.000         good\n",
       "752                972412.0    1.0     0.0         0.000         good\n",
       "753                972460.0    1.0     0.0         0.000         good\n",
       "754                973286.0    1.0     0.0         0.000         good\n",
       "\n",
       "[755 rows x 5 columns]"
      ]
     },
     "execution_count": 41,
     "metadata": {},
     "output_type": "execute_result"
    }
   ],
   "source": [
    "missed_calls"
   ]
  },
  {
   "cell_type": "code",
   "execution_count": 42,
   "metadata": {},
   "outputs": [
    {
     "name": "stdout",
     "output_type": "stream",
     "text": [
      "<class 'pandas.core.frame.DataFrame'>\n",
      "Int64Index: 1093 entries, 0 to 1092\n",
      "Data columns (total 5 columns):\n",
      " #   Column           Non-Null Count  Dtype  \n",
      "---  ------           --------------  -----  \n",
      " 0   operator_id      1093 non-null   float64\n",
      " 1   miss_rating      755 non-null    object \n",
      " 2   hold_rating      1093 non-null   object \n",
      " 3   n_calls_rating   1037 non-null   object \n",
      " 4   duration_rating  1093 non-null   object \n",
      "dtypes: float64(1), object(4)\n",
      "memory usage: 51.2+ KB\n"
     ]
    }
   ],
   "source": [
    "op_rating.info()"
   ]
  },
  {
   "cell_type": "code",
   "execution_count": 43,
   "metadata": {},
   "outputs": [],
   "source": [
    "#Agrego la calificación de los operadores \"filtrados\" anteriormente\n",
    "op_rating = op_rating.fillna('good')"
   ]
  },
  {
   "cell_type": "code",
   "execution_count": 44,
   "metadata": {},
   "outputs": [
    {
     "data": {
      "text/html": [
       "<div>\n",
       "<style scoped>\n",
       "    .dataframe tbody tr th:only-of-type {\n",
       "        vertical-align: middle;\n",
       "    }\n",
       "\n",
       "    .dataframe tbody tr th {\n",
       "        vertical-align: top;\n",
       "    }\n",
       "\n",
       "    .dataframe thead th {\n",
       "        text-align: right;\n",
       "    }\n",
       "</style>\n",
       "<table border=\"1\" class=\"dataframe\">\n",
       "  <thead>\n",
       "    <tr style=\"text-align: right;\">\n",
       "      <th></th>\n",
       "      <th>operator_id</th>\n",
       "      <th>miss_rating</th>\n",
       "      <th>hold_rating</th>\n",
       "      <th>n_calls_rating</th>\n",
       "      <th>duration_rating</th>\n",
       "    </tr>\n",
       "  </thead>\n",
       "  <tbody>\n",
       "    <tr>\n",
       "      <th>0</th>\n",
       "      <td>999.0</td>\n",
       "      <td>inefficient</td>\n",
       "      <td>good</td>\n",
       "      <td>good</td>\n",
       "      <td>inefficient</td>\n",
       "    </tr>\n",
       "    <tr>\n",
       "      <th>1</th>\n",
       "      <td>879896.0</td>\n",
       "      <td>good</td>\n",
       "      <td>good</td>\n",
       "      <td>attention</td>\n",
       "      <td>good</td>\n",
       "    </tr>\n",
       "    <tr>\n",
       "      <th>2</th>\n",
       "      <td>879898.0</td>\n",
       "      <td>good</td>\n",
       "      <td>good</td>\n",
       "      <td>good</td>\n",
       "      <td>good</td>\n",
       "    </tr>\n",
       "    <tr>\n",
       "      <th>3</th>\n",
       "      <td>880020.0</td>\n",
       "      <td>good</td>\n",
       "      <td>good</td>\n",
       "      <td>inefficient</td>\n",
       "      <td>good</td>\n",
       "    </tr>\n",
       "    <tr>\n",
       "      <th>4</th>\n",
       "      <td>880022.0</td>\n",
       "      <td>good</td>\n",
       "      <td>attention</td>\n",
       "      <td>inefficient</td>\n",
       "      <td>good</td>\n",
       "    </tr>\n",
       "    <tr>\n",
       "      <th>...</th>\n",
       "      <td>...</td>\n",
       "      <td>...</td>\n",
       "      <td>...</td>\n",
       "      <td>...</td>\n",
       "      <td>...</td>\n",
       "    </tr>\n",
       "    <tr>\n",
       "      <th>1088</th>\n",
       "      <td>970484.0</td>\n",
       "      <td>good</td>\n",
       "      <td>good</td>\n",
       "      <td>inefficient</td>\n",
       "      <td>attention</td>\n",
       "    </tr>\n",
       "    <tr>\n",
       "      <th>1089</th>\n",
       "      <td>970486.0</td>\n",
       "      <td>good</td>\n",
       "      <td>good</td>\n",
       "      <td>inefficient</td>\n",
       "      <td>good</td>\n",
       "    </tr>\n",
       "    <tr>\n",
       "      <th>1090</th>\n",
       "      <td>972408.0</td>\n",
       "      <td>good</td>\n",
       "      <td>good</td>\n",
       "      <td>inefficient</td>\n",
       "      <td>good</td>\n",
       "    </tr>\n",
       "    <tr>\n",
       "      <th>1091</th>\n",
       "      <td>972410.0</td>\n",
       "      <td>good</td>\n",
       "      <td>attention</td>\n",
       "      <td>good</td>\n",
       "      <td>good</td>\n",
       "    </tr>\n",
       "    <tr>\n",
       "      <th>1092</th>\n",
       "      <td>973120.0</td>\n",
       "      <td>good</td>\n",
       "      <td>good</td>\n",
       "      <td>inefficient</td>\n",
       "      <td>inefficient</td>\n",
       "    </tr>\n",
       "  </tbody>\n",
       "</table>\n",
       "<p>1093 rows × 5 columns</p>\n",
       "</div>"
      ],
      "text/plain": [
       "      operator_id  miss_rating hold_rating n_calls_rating duration_rating\n",
       "0           999.0  inefficient        good           good     inefficient\n",
       "1        879896.0         good        good      attention            good\n",
       "2        879898.0         good        good           good            good\n",
       "3        880020.0         good        good    inefficient            good\n",
       "4        880022.0         good   attention    inefficient            good\n",
       "...           ...          ...         ...            ...             ...\n",
       "1088     970484.0         good        good    inefficient       attention\n",
       "1089     970486.0         good        good    inefficient            good\n",
       "1090     972408.0         good        good    inefficient            good\n",
       "1091     972410.0         good   attention           good            good\n",
       "1092     973120.0         good        good    inefficient     inefficient\n",
       "\n",
       "[1093 rows x 5 columns]"
      ]
     },
     "execution_count": 44,
     "metadata": {},
     "output_type": "execute_result"
    }
   ],
   "source": [
    "op_rating"
   ]
  },
  {
   "cell_type": "markdown",
   "metadata": {},
   "source": [
    "Cambio los resultados por valores numéricos para sumar la puntuación final y en base a eso se asigna cada operador a una categoría descrita a continuación:\n",
    "Puntaje de 0 a 20 en la que \n",
    "- 16 o más puntos (Good): No es ineficiente en ningún area, como mucho requiere atención en alguna.\n",
    "- Entre 11 y 15 (Attention): En general no es particularmente malo pero puede mejorar.\n",
    "- Hasta 10 (Inefficient): Operadores con muy mal desempeño, requieren atención inmediata. "
   ]
  },
  {
   "cell_type": "code",
   "execution_count": 45,
   "metadata": {},
   "outputs": [
    {
     "data": {
      "text/html": [
       "<div>\n",
       "<style scoped>\n",
       "    .dataframe tbody tr th:only-of-type {\n",
       "        vertical-align: middle;\n",
       "    }\n",
       "\n",
       "    .dataframe tbody tr th {\n",
       "        vertical-align: top;\n",
       "    }\n",
       "\n",
       "    .dataframe thead th {\n",
       "        text-align: right;\n",
       "    }\n",
       "</style>\n",
       "<table border=\"1\" class=\"dataframe\">\n",
       "  <thead>\n",
       "    <tr style=\"text-align: right;\">\n",
       "      <th></th>\n",
       "      <th>operator_id</th>\n",
       "      <th>miss_rating</th>\n",
       "      <th>hold_rating</th>\n",
       "      <th>n_calls_rating</th>\n",
       "      <th>duration_rating</th>\n",
       "      <th>score</th>\n",
       "      <th>final_rating</th>\n",
       "    </tr>\n",
       "  </thead>\n",
       "  <tbody>\n",
       "    <tr>\n",
       "      <th>0</th>\n",
       "      <td>999.0</td>\n",
       "      <td>0</td>\n",
       "      <td>5</td>\n",
       "      <td>5</td>\n",
       "      <td>0</td>\n",
       "      <td>10</td>\n",
       "      <td>inefficient</td>\n",
       "    </tr>\n",
       "    <tr>\n",
       "      <th>1</th>\n",
       "      <td>879896.0</td>\n",
       "      <td>5</td>\n",
       "      <td>5</td>\n",
       "      <td>2</td>\n",
       "      <td>5</td>\n",
       "      <td>17</td>\n",
       "      <td>good</td>\n",
       "    </tr>\n",
       "    <tr>\n",
       "      <th>2</th>\n",
       "      <td>879898.0</td>\n",
       "      <td>5</td>\n",
       "      <td>5</td>\n",
       "      <td>5</td>\n",
       "      <td>5</td>\n",
       "      <td>20</td>\n",
       "      <td>good</td>\n",
       "    </tr>\n",
       "    <tr>\n",
       "      <th>3</th>\n",
       "      <td>880020.0</td>\n",
       "      <td>5</td>\n",
       "      <td>5</td>\n",
       "      <td>0</td>\n",
       "      <td>5</td>\n",
       "      <td>15</td>\n",
       "      <td>attention</td>\n",
       "    </tr>\n",
       "    <tr>\n",
       "      <th>4</th>\n",
       "      <td>880022.0</td>\n",
       "      <td>5</td>\n",
       "      <td>2</td>\n",
       "      <td>0</td>\n",
       "      <td>5</td>\n",
       "      <td>12</td>\n",
       "      <td>attention</td>\n",
       "    </tr>\n",
       "  </tbody>\n",
       "</table>\n",
       "</div>"
      ],
      "text/plain": [
       "   operator_id  miss_rating  hold_rating  n_calls_rating  duration_rating  \\\n",
       "0        999.0            0            5               5                0   \n",
       "1     879896.0            5            5               2                5   \n",
       "2     879898.0            5            5               5                5   \n",
       "3     880020.0            5            5               0                5   \n",
       "4     880022.0            5            2               0                5   \n",
       "\n",
       "   score final_rating  \n",
       "0     10  inefficient  \n",
       "1     17         good  \n",
       "2     20         good  \n",
       "3     15    attention  \n",
       "4     12    attention  "
      ]
     },
     "execution_count": 45,
     "metadata": {},
     "output_type": "execute_result"
    }
   ],
   "source": [
    "op_score = op_rating\n",
    "score_map = {'good': 5, 'attention': 2, 'inefficient': 0}\n",
    "op_score = op_score.replace(score_map)\n",
    "op_score['score'] = op_score[['miss_rating', 'hold_rating', 'n_calls_rating', 'duration_rating']].sum(axis=1)\n",
    "\n",
    "final_rating = []\n",
    "\n",
    "for x in op_score['score']:\n",
    "    if x >= 16:\n",
    "        final_rating.append('good')\n",
    "    elif 11 <= x < 16:\n",
    "        final_rating.append('attention')\n",
    "    else:\n",
    "        final_rating.append('inefficient')\n",
    "\n",
    "op_score['final_rating'] = final_rating\n",
    "op_score.head()"
   ]
  },
  {
   "cell_type": "markdown",
   "metadata": {},
   "source": [
    "Ya con la calificación final podemos trazar histogramas para ver la distribución "
   ]
  },
  {
   "cell_type": "code",
   "execution_count": 46,
   "metadata": {},
   "outputs": [
    {
     "data": {
      "text/plain": [
       "attention      563\n",
       "good           294\n",
       "inefficient    236\n",
       "Name: final_rating, dtype: int64"
      ]
     },
     "execution_count": 46,
     "metadata": {},
     "output_type": "execute_result"
    }
   ],
   "source": [
    "op_score['final_rating'].value_counts()"
   ]
  },
  {
   "cell_type": "code",
   "execution_count": 47,
   "metadata": {},
   "outputs": [
    {
     "data": {
      "image/png": "[encoded data removed]",
      "text/plain": [
       "<Figure size 1000x500 with 2 Axes>"
      ]
     },
     "metadata": {},
     "output_type": "display_data"
    }
   ],
   "source": [
    "fig, axs = plt.subplots(1, 2, figsize=(10, 5))\n",
    "sns.histplot(data = op_score, x = 'score', ax = axs[0])\n",
    "axs[0].set_title('Numeric Score Distribution')\n",
    "axs[0].set_xlabel('Score')\n",
    "axs[0].set_ylabel('Operators Count')\n",
    "\n",
    "sns.histplot(data = op_score, x = 'final_rating', ax = axs[1])\n",
    "axs[1].set_title('Rating Distribution')\n",
    "axs[1].set_xlabel('Final Rating')\n",
    "axs[1].set_ylabel('Operators Count')\n",
    "\n",
    "plt.tight_layout()\n",
    "plt.show()"
   ]
  },
  {
   "cell_type": "markdown",
   "metadata": {},
   "source": [
    "La mayoría de operadores tienen espacio para mejorar pero es bueno ver que el grupo con mal desempeño es también el más pequeño."
   ]
  },
  {
   "cell_type": "markdown",
   "metadata": {},
   "source": [
    "Luego de tener la clasificación lista puedo proceder a crear hipótesis sobre el comportamiento por desempeño"
   ]
  },
  {
   "cell_type": "markdown",
   "metadata": {},
   "source": [
    "HIPOTESIS 1: USUARIOS DE PLAN A INTERACTUAN CON MAS OPERADORES EFICIENTES\n",
    "H0: distribucion de ambos planes es similar\n",
    "H1: un plan tiene mejor resultado que otro\n",
    "\n",
    "HIPOTESIS 2: OPERADORES EFICIENTES HACEN MAS LLAMADAS EXTERNAS QUE LOS MALOS\n",
    "H0: No hay diferencia\n",
    "H1: Hay un grupo de operadores que realiza menos llamadas externas"
   ]
  },
  {
   "cell_type": "markdown",
   "metadata": {},
   "source": [
    "## Pruebas de Hipótesis"
   ]
  },
  {
   "cell_type": "markdown",
   "metadata": {},
   "source": [
    "### Hipótesis #1: Buenos operadores hacen más llamadas externas que los ineficientes.\n",
    "Hipótesis nula: No hay diferencia significativa en la cantidad de llamadas externas realizadas entre ambos grupos de operadores.\n",
    "\n",
    "Hipótesis alternativa: Los operadores ineficientes realizan menos llamadas externas que los eficientes."
   ]
  },
  {
   "cell_type": "code",
   "execution_count": 48,
   "metadata": {},
   "outputs": [],
   "source": [
    "# UMBRAL DE ALPHA EN 5%\n",
    "alpha=0.05"
   ]
  },
  {
   "cell_type": "code",
   "execution_count": 49,
   "metadata": {},
   "outputs": [],
   "source": [
    "rating_tlc = telecom.merge(op_score[['operator_id','final_rating']], on ='operator_id', how='left')\n",
    "\n",
    "out_calls = rating_tlc[rating_tlc['direction'] == 'out']\n",
    "\n",
    "calls_summary = out_calls.groupby('operator_id')['calls_count'].sum().reset_index()\n",
    "calls_summary = calls_summary.merge(op_score[['operator_id','final_rating']], on='operator_id', how='left')\n",
    "\n",
    "# Separar por clasificación\n",
    "good_operators = calls_summary[calls_summary['final_rating'] == 'good']\n",
    "inefficient_operators = calls_summary[calls_summary['final_rating'] == 'inefficient']"
   ]
  },
  {
   "cell_type": "code",
   "execution_count": 50,
   "metadata": {},
   "outputs": [
    {
     "name": "stdout",
     "output_type": "stream",
     "text": [
      "Estadístico de Levene: 35.975455509555154\n",
      "Valor p de Levene: 4.1599001756503035e-09\n",
      "Las varianzas son significativamente diferentes.\n"
     ]
    }
   ],
   "source": [
    "# Levene para evaluar varianzas \n",
    "levene_stat, levene_p_value = levene(good_operators['calls_count'], inefficient_operators['calls_count'])\n",
    "print(f'Estadístico de Levene: {levene_stat}')\n",
    "print(f'Valor p de Levene: {levene_p_value}')\n",
    "\n",
    "if levene_p_value < alpha:\n",
    "    print(\"Las varianzas son significativamente diferentes.\")\n",
    "else:\n",
    "    print(\"No hay evidencia suficiente para afirmar que las varianzas son diferentes.\")"
   ]
  },
  {
   "cell_type": "markdown",
   "metadata": {},
   "source": [
    "Prueba Mann-Whitney U"
   ]
  },
  {
   "cell_type": "code",
   "execution_count": 51,
   "metadata": {},
   "outputs": [
    {
     "name": "stdout",
     "output_type": "stream",
     "text": [
      "Estadístico U: 42369.0\n",
      "Valor p de Mann-Whitney: 1.3120492578479738e-56\n",
      "Rechazamos la H0, los operadores buenos realizan significativamente más llamadas.\n"
     ]
    }
   ],
   "source": [
    "u_stat, mannwhitney_p_value = mannwhitneyu(good_operators['calls_count'], inefficient_operators['calls_count'], alternative='greater')\n",
    "\n",
    "print(f'Estadístico U: {u_stat}')\n",
    "print(f'Valor p de Mann-Whitney: {mannwhitney_p_value}')\n",
    "\n",
    "if mannwhitney_p_value < alpha:\n",
    "    print(\"Rechazamos la H0, los operadores buenos realizan significativamente más llamadas.\")\n",
    "else:\n",
    "    print(\"No hay suficiente evidencia para afirmar que hay diferencia en las llamadas de ambos grupos.\")"
   ]
  },
  {
   "cell_type": "markdown",
   "metadata": {},
   "source": [
    "Es un resultado que no sorprende ya que entra dentro de lo que es esperado de un operador eficaz."
   ]
  },
  {
   "cell_type": "markdown",
   "metadata": {},
   "source": [
    "### Hipótesis #2: Los operadores eficientes favorecen a algún plan en particular.\n",
    "H0: Todos los planes interactúan de forma similar con cada tipo de operador.\n",
    "\n",
    "H1: Al menos un plan interactúa más con operadores eficaces.\n"
   ]
  },
  {
   "cell_type": "markdown",
   "metadata": {},
   "source": [
    "Hay tres planes así que usaré la prueba ANOVA para evaluar como interactúan con usuarios buenos.\n",
    "\n",
    "Es importante resaltar que las muestras no son parejas entre si ni son muy amplias así que los resultados podrían cambiar con mayor cantidad de datos."
   ]
  },
  {
   "cell_type": "code",
   "execution_count": 52,
   "metadata": {
    "scrolled": true
   },
   "outputs": [],
   "source": [
    "plan_count = clients['tariff_plan'].value_counts()\n",
    "plan_dict = dict(plan_count)"
   ]
  },
  {
   "cell_type": "code",
   "execution_count": 53,
   "metadata": {},
   "outputs": [
    {
     "name": "stdout",
     "output_type": "stream",
     "text": [
      "Estadístico F: 149.7773672106206\n",
      "Valor p: 2.721535337357596e-65\n",
      "Se rechaza la hipótesis nula. Hay diferencias significativas entre los planes.\n"
     ]
    }
   ],
   "source": [
    "plan_tlc = rating_tlc.merge(clients[['user_id','tariff_plan']], on='user_id', how='left')\n",
    "good_interactions = plan_tlc[plan_tlc['final_rating'] == 'good']\n",
    "\n",
    "# Agrupar por plan y contar las interacciones\n",
    "plan_a = good_interactions[good_interactions['tariff_plan'] == 'A']['calls_count']\n",
    "plan_b = good_interactions[good_interactions['tariff_plan'] == 'B']['calls_count']\n",
    "plan_c = good_interactions[good_interactions['tariff_plan'] == 'C']['calls_count']\n",
    "\n",
    "# Aplicar ANOVA\n",
    "f_stat, p_value = f_oneway(plan_a, plan_b, plan_c)\n",
    "print(f'Estadístico F: {f_stat}')\n",
    "print(f'Valor p: {p_value}')\n",
    "\n",
    "if p_value < alpha:\n",
    "    print(\"Se rechaza la hipótesis nula. Hay diferencias significativas entre los planes.\")\n",
    "else:\n",
    "    print(\"No hay suficiente evidencia para rechazar H0\")\n"
   ]
  },
  {
   "cell_type": "markdown",
   "metadata": {},
   "source": [
    "Esto indica que los operadores eficaces suelen atender a un plan en particular. Averiguaré cual es."
   ]
  },
  {
   "cell_type": "code",
   "execution_count": 54,
   "metadata": {},
   "outputs": [],
   "source": [
    "plan_count = clients['tariff_plan'].value_counts()\n",
    "plan_dict = dict(plan_count)"
   ]
  },
  {
   "cell_type": "code",
   "execution_count": 55,
   "metadata": {},
   "outputs": [
    {
     "data": {
      "text/plain": [
       "{'C': 395, 'B': 261, 'A': 76}"
      ]
     },
     "execution_count": 55,
     "metadata": {},
     "output_type": "execute_result"
    }
   ],
   "source": [
    "plan_dict"
   ]
  },
  {
   "cell_type": "code",
   "execution_count": 56,
   "metadata": {},
   "outputs": [
    {
     "data": {
      "text/html": [
       "<div>\n",
       "<style scoped>\n",
       "    .dataframe tbody tr th:only-of-type {\n",
       "        vertical-align: middle;\n",
       "    }\n",
       "\n",
       "    .dataframe tbody tr th {\n",
       "        vertical-align: top;\n",
       "    }\n",
       "\n",
       "    .dataframe thead th {\n",
       "        text-align: right;\n",
       "    }\n",
       "</style>\n",
       "<table border=\"1\" class=\"dataframe\">\n",
       "  <thead>\n",
       "    <tr style=\"text-align: right;\">\n",
       "      <th></th>\n",
       "      <th>tariff_plan</th>\n",
       "      <th>user_id</th>\n",
       "    </tr>\n",
       "  </thead>\n",
       "  <tbody>\n",
       "    <tr>\n",
       "      <th>0</th>\n",
       "      <td>A</td>\n",
       "      <td>5822</td>\n",
       "    </tr>\n",
       "    <tr>\n",
       "      <th>1</th>\n",
       "      <td>B</td>\n",
       "      <td>5832</td>\n",
       "    </tr>\n",
       "    <tr>\n",
       "      <th>2</th>\n",
       "      <td>C</td>\n",
       "      <td>8350</td>\n",
       "    </tr>\n",
       "  </tbody>\n",
       "</table>\n",
       "</div>"
      ],
      "text/plain": [
       "  tariff_plan  user_id\n",
       "0           A     5822\n",
       "1           B     5832\n",
       "2           C     8350"
      ]
     },
     "execution_count": 56,
     "metadata": {},
     "output_type": "execute_result"
    }
   ],
   "source": [
    "interaction = good_interactions.groupby('tariff_plan')['user_id'].count().reset_index()\n",
    "interaction"
   ]
  },
  {
   "cell_type": "code",
   "execution_count": 57,
   "metadata": {},
   "outputs": [
    {
     "data": {
      "text/html": [
       "<div>\n",
       "<style scoped>\n",
       "    .dataframe tbody tr th:only-of-type {\n",
       "        vertical-align: middle;\n",
       "    }\n",
       "\n",
       "    .dataframe tbody tr th {\n",
       "        vertical-align: top;\n",
       "    }\n",
       "\n",
       "    .dataframe thead th {\n",
       "        text-align: right;\n",
       "    }\n",
       "</style>\n",
       "<table border=\"1\" class=\"dataframe\">\n",
       "  <thead>\n",
       "    <tr style=\"text-align: right;\">\n",
       "      <th></th>\n",
       "      <th>tariff_plan</th>\n",
       "      <th>user_id</th>\n",
       "    </tr>\n",
       "  </thead>\n",
       "  <tbody>\n",
       "    <tr>\n",
       "      <th>0</th>\n",
       "      <td>A</td>\n",
       "      <td>5822</td>\n",
       "    </tr>\n",
       "    <tr>\n",
       "      <th>1</th>\n",
       "      <td>B</td>\n",
       "      <td>5832</td>\n",
       "    </tr>\n",
       "    <tr>\n",
       "      <th>2</th>\n",
       "      <td>C</td>\n",
       "      <td>8350</td>\n",
       "    </tr>\n",
       "  </tbody>\n",
       "</table>\n",
       "</div>"
      ],
      "text/plain": [
       "  tariff_plan  user_id\n",
       "0           A     5822\n",
       "1           B     5832\n",
       "2           C     8350"
      ]
     },
     "execution_count": 57,
     "metadata": {},
     "output_type": "execute_result"
    }
   ],
   "source": [
    "interaction"
   ]
  },
  {
   "cell_type": "code",
   "execution_count": 66,
   "metadata": {},
   "outputs": [
    {
     "data": {
      "text/plain": [
       "Text(0.5, 1.0, 'Llamadas de operadores eficaces por plan')"
      ]
     },
     "execution_count": 66,
     "metadata": {},
     "output_type": "execute_result"
    },
    {
     "data": {
      "image/png": "[encoded data removed]",
      "text/plain": [
       "<Figure size 640x480 with 1 Axes>"
      ]
     },
     "metadata": {},
     "output_type": "display_data"
    }
   ],
   "source": [
    "interaction['plan_count'] = interaction['tariff_plan'].map(plan_dict)\n",
    "interaction['prop_interactions'] = interaction['user_id'] / interaction['plan_count']\n",
    "\n",
    "plt.figure()\n",
    "sns.barplot(data = interaction, x = 'tariff_plan', y = 'prop_interactions')\n",
    "plt.xlabel('Plan')\n",
    "plt.ylabel('Interactions')\n",
    "plt.title('Llamadas de operadores eficaces por plan')"
   ]
  },
  {
   "cell_type": "markdown",
   "metadata": {},
   "source": [
    "A pesar de que el plan A es el que tiene menos usuarios, es proporcionalmente el que más interactua con buenos operadores."
   ]
  },
  {
   "cell_type": "markdown",
   "metadata": {},
   "source": [
    "## Conclusiones y recomendaciones\n",
    "\n",
    "Se ha logrado el objetivo de categorizar el rendimiento de operadores para identificar a los deficientes así como los que están en riesgo y se establecieron umbrales de lo que es un operador eficaz para aspirar a esas métricas.\n",
    "\n",
    "### Recomendaciones:\n",
    "**Mejorar la capacitación:**\n",
    "Se deben implementar programas de capacitación continua para los operadores, con refuerzo en los \"ineficientes\"para ayudar a mejorar su rendimiento y aumentar la satisfacción del cliente.\n",
    "\n",
    "**Evaluar el servicio al cliente del plan A:**\n",
    "Dado que los usuarios del plan A tienen mayor interacción con operadores eficientes, se recomienda evaluar las razones detrás de esto. Podría ser útil recopilar retroalimentación de los usuarios de este plan para identificar áreas de mejora.\n",
    "\n",
    "**Monitoreo continuo y mejora:**\n",
    "Implementar un sistema de monitoreo continuo para evaluar el rendimiento de los operadores. Esto incluiría métricas de eficiencia, tiempos de respuesta y satisfacción del cliente. Con estos datos, se pueden hacer ajustes en tiempo real para optimizar la atención al cliente.\n",
    "\n",
    "**Incentivos por buen rendimiento:**\n",
    "Considerar la implementación de promociones o incentivos específicos para los operadores con buena evaluación para fomentar interacciones más efectivas y la adopción de mejores prácticas.\n",
    "\n",
    "\n",
    "El análisis realizado sugiere que existen áreas significativas de mejora en la interacción entre los operadores y los usuarios. Implementar las recomendaciones proporcionadas no solo puede ayudar a identificar operadores ineficaces, sino también a mejorar la experiencia del cliente en general, lo que es fundamental para el éxito a largo plazo en la industria de telecomunicaciones."
   ]
  },
  {
   "cell_type": "markdown",
   "metadata": {},
   "source": [
    "LINK A PRESENTACIóN: https://drive.google.com/file/d/1w2WHftugqI0TsIefJUiucbQGRyMMpn5e/view?usp=sharing"
   ]
  }
 ],
 "metadata": {
  "ExecuteTimeLog": [
   {
    "duration": 778,
    "start_time": "2024-09-21T21:15:35.786Z"
   },
   {
    "duration": 0,
    "start_time": "2024-09-21T21:15:36.566Z"
   },
   {
    "duration": 0,
    "start_time": "2024-09-21T21:15:36.567Z"
   },
   {
    "duration": 0,
    "start_time": "2024-09-21T21:15:36.568Z"
   },
   {
    "duration": 0,
    "start_time": "2024-09-21T21:15:36.572Z"
   },
   {
    "duration": 0,
    "start_time": "2024-09-21T21:15:36.573Z"
   },
   {
    "duration": 0,
    "start_time": "2024-09-21T21:15:36.575Z"
   },
   {
    "duration": 1,
    "start_time": "2024-09-21T21:15:36.575Z"
   },
   {
    "duration": 0,
    "start_time": "2024-09-21T21:15:36.576Z"
   },
   {
    "duration": 0,
    "start_time": "2024-09-21T21:15:36.577Z"
   },
   {
    "duration": 59,
    "start_time": "2024-09-21T21:15:55.175Z"
   },
   {
    "duration": 58,
    "start_time": "2024-09-21T21:16:03.028Z"
   },
   {
    "duration": 83,
    "start_time": "2024-09-21T21:17:34.311Z"
   },
   {
    "duration": 342,
    "start_time": "2024-09-21T21:17:38.932Z"
   },
   {
    "duration": 9,
    "start_time": "2024-09-21T21:17:39.276Z"
   },
   {
    "duration": 10,
    "start_time": "2024-09-21T21:17:39.286Z"
   },
   {
    "duration": 5,
    "start_time": "2024-09-21T21:17:39.299Z"
   },
   {
    "duration": 19,
    "start_time": "2024-09-21T21:17:39.307Z"
   },
   {
    "duration": 13,
    "start_time": "2024-09-21T21:17:39.327Z"
   },
   {
    "duration": 8,
    "start_time": "2024-09-21T21:17:39.341Z"
   },
   {
    "duration": 9,
    "start_time": "2024-09-21T21:17:39.351Z"
   },
   {
    "duration": 22,
    "start_time": "2024-09-21T21:17:39.361Z"
   },
   {
    "duration": 43,
    "start_time": "2024-09-21T21:17:39.385Z"
   },
   {
    "duration": 9,
    "start_time": "2024-09-21T21:18:41.719Z"
   },
   {
    "duration": 16,
    "start_time": "2024-09-21T21:18:57.240Z"
   },
   {
    "duration": 411,
    "start_time": "2024-09-22T23:12:04.358Z"
   },
   {
    "duration": 9,
    "start_time": "2024-09-22T23:12:04.771Z"
   },
   {
    "duration": 9,
    "start_time": "2024-09-22T23:12:04.782Z"
   },
   {
    "duration": 5,
    "start_time": "2024-09-22T23:12:04.794Z"
   },
   {
    "duration": 6,
    "start_time": "2024-09-22T23:12:04.801Z"
   },
   {
    "duration": 23,
    "start_time": "2024-09-22T23:12:04.808Z"
   },
   {
    "duration": 14,
    "start_time": "2024-09-22T23:12:04.833Z"
   },
   {
    "duration": 10,
    "start_time": "2024-09-22T23:12:04.848Z"
   },
   {
    "duration": 24,
    "start_time": "2024-09-22T23:12:04.859Z"
   },
   {
    "duration": 16,
    "start_time": "2024-09-22T23:12:04.886Z"
   },
   {
    "duration": 14,
    "start_time": "2024-09-22T23:13:45.242Z"
   },
   {
    "duration": 2249,
    "start_time": "2024-09-22T23:14:48.243Z"
   },
   {
    "duration": 120,
    "start_time": "2024-09-22T23:15:17.732Z"
   },
   {
    "duration": 122,
    "start_time": "2024-09-22T23:15:27.527Z"
   },
   {
    "duration": 4,
    "start_time": "2024-09-22T23:15:35.659Z"
   },
   {
    "duration": 4,
    "start_time": "2024-09-22T23:15:40.277Z"
   },
   {
    "duration": 9,
    "start_time": "2024-09-22T23:15:53.962Z"
   },
   {
    "duration": 809,
    "start_time": "2024-09-22T23:16:36.001Z"
   },
   {
    "duration": 17,
    "start_time": "2024-09-22T23:19:55.690Z"
   },
   {
    "duration": 14,
    "start_time": "2024-09-22T23:20:01.527Z"
   },
   {
    "duration": 220,
    "start_time": "2024-09-22T23:22:15.364Z"
   },
   {
    "duration": 16,
    "start_time": "2024-09-22T23:23:31.732Z"
   },
   {
    "duration": 14,
    "start_time": "2024-09-22T23:23:48.541Z"
   },
   {
    "duration": 15,
    "start_time": "2024-09-22T23:23:59.852Z"
   },
   {
    "duration": 14,
    "start_time": "2024-09-22T23:25:57.677Z"
   },
   {
    "duration": 13,
    "start_time": "2024-09-22T23:26:07.183Z"
   },
   {
    "duration": 12,
    "start_time": "2024-09-22T23:28:13.512Z"
   },
   {
    "duration": 4020,
    "start_time": "2024-09-22T23:29:41.240Z"
   },
   {
    "duration": 326,
    "start_time": "2024-09-22T23:36:46.967Z"
   },
   {
    "duration": 13,
    "start_time": "2024-09-22T23:37:12.807Z"
   },
   {
    "duration": 10,
    "start_time": "2024-09-22T23:38:41.220Z"
   },
   {
    "duration": 9,
    "start_time": "2024-09-22T23:38:52.112Z"
   },
   {
    "duration": 7,
    "start_time": "2024-09-22T23:44:16.225Z"
   },
   {
    "duration": 7,
    "start_time": "2024-09-22T23:44:55.505Z"
   },
   {
    "duration": 3,
    "start_time": "2024-09-22T23:45:06.214Z"
   },
   {
    "duration": 13,
    "start_time": "2024-09-22T23:45:07.706Z"
   },
   {
    "duration": 3,
    "start_time": "2024-09-22T23:47:34.914Z"
   },
   {
    "duration": 10,
    "start_time": "2024-09-22T23:47:42.826Z"
   },
   {
    "duration": 40,
    "start_time": "2024-09-22T23:50:56.781Z"
   },
   {
    "duration": 101,
    "start_time": "2024-09-22T23:51:03.985Z"
   },
   {
    "duration": 102,
    "start_time": "2024-09-22T23:52:49.690Z"
   },
   {
    "duration": 115,
    "start_time": "2024-09-22T23:54:32.840Z"
   },
   {
    "duration": 101,
    "start_time": "2024-09-22T23:54:56.702Z"
   },
   {
    "duration": 145,
    "start_time": "2024-09-22T23:55:38.414Z"
   },
   {
    "duration": 120,
    "start_time": "2024-09-22T23:55:46.973Z"
   },
   {
    "duration": 9,
    "start_time": "2024-09-22T23:56:33.816Z"
   },
   {
    "duration": 137,
    "start_time": "2024-09-22T23:57:41.829Z"
   },
   {
    "duration": 15,
    "start_time": "2024-09-23T00:01:41.137Z"
   },
   {
    "duration": 3,
    "start_time": "2024-09-23T00:01:44.203Z"
   },
   {
    "duration": 3,
    "start_time": "2024-09-23T00:01:46.703Z"
   },
   {
    "duration": 136,
    "start_time": "2024-09-23T00:01:51.043Z"
   },
   {
    "duration": 11,
    "start_time": "2024-09-23T00:04:03.166Z"
   },
   {
    "duration": 136,
    "start_time": "2024-09-23T00:05:38.289Z"
   },
   {
    "duration": 10,
    "start_time": "2024-09-23T00:06:06.434Z"
   },
   {
    "duration": 12,
    "start_time": "2024-09-23T00:06:23.603Z"
   },
   {
    "duration": 13,
    "start_time": "2024-09-23T00:08:45.162Z"
   },
   {
    "duration": 222,
    "start_time": "2024-09-23T00:09:03.866Z"
   },
   {
    "duration": 242,
    "start_time": "2024-09-23T00:09:27.160Z"
   },
   {
    "duration": 136,
    "start_time": "2024-09-23T00:09:39.253Z"
   },
   {
    "duration": 12,
    "start_time": "2024-09-23T00:10:15.035Z"
   },
   {
    "duration": 11,
    "start_time": "2024-09-23T00:10:23.128Z"
   },
   {
    "duration": 16,
    "start_time": "2024-09-23T00:10:33.053Z"
   },
   {
    "duration": 8,
    "start_time": "2024-09-23T00:10:53.552Z"
   },
   {
    "duration": 5,
    "start_time": "2024-09-23T00:11:26.040Z"
   },
   {
    "duration": 4,
    "start_time": "2024-09-23T00:11:30.542Z"
   },
   {
    "duration": 8,
    "start_time": "2024-09-23T00:11:34.594Z"
   },
   {
    "duration": 8,
    "start_time": "2024-09-23T00:22:26.542Z"
   },
   {
    "duration": 123,
    "start_time": "2024-09-23T00:28:10.106Z"
   },
   {
    "duration": 13,
    "start_time": "2024-09-23T00:29:16.742Z"
   },
   {
    "duration": 13,
    "start_time": "2024-09-23T00:30:32.974Z"
   },
   {
    "duration": 11,
    "start_time": "2024-09-23T00:31:48.697Z"
   },
   {
    "duration": 12,
    "start_time": "2024-09-23T00:32:12.976Z"
   },
   {
    "duration": 12,
    "start_time": "2024-09-23T00:40:30.004Z"
   },
   {
    "duration": 14,
    "start_time": "2024-09-23T00:40:41.388Z"
   },
   {
    "duration": 13,
    "start_time": "2024-09-23T01:03:34.741Z"
   },
   {
    "duration": 11,
    "start_time": "2024-09-23T01:04:36.977Z"
   },
   {
    "duration": 10,
    "start_time": "2024-09-23T01:05:16.418Z"
   },
   {
    "duration": 10,
    "start_time": "2024-09-23T01:05:31.221Z"
   },
   {
    "duration": 25,
    "start_time": "2024-09-23T01:06:43.248Z"
   },
   {
    "duration": 12,
    "start_time": "2024-09-23T01:06:50.482Z"
   },
   {
    "duration": 10,
    "start_time": "2024-09-23T01:06:52.873Z"
   },
   {
    "duration": 162,
    "start_time": "2024-09-23T01:07:03.368Z"
   },
   {
    "duration": 135,
    "start_time": "2024-09-23T01:07:32.722Z"
   },
   {
    "duration": 207,
    "start_time": "2024-09-23T01:07:38.045Z"
   },
   {
    "duration": 213,
    "start_time": "2024-09-23T01:07:44.010Z"
   },
   {
    "duration": 140,
    "start_time": "2024-09-23T01:08:01.988Z"
   },
   {
    "duration": 8,
    "start_time": "2024-09-23T01:08:28.543Z"
   },
   {
    "duration": 17,
    "start_time": "2024-09-23T01:08:40.276Z"
   },
   {
    "duration": 8,
    "start_time": "2024-09-23T01:08:44.752Z"
   },
   {
    "duration": 6,
    "start_time": "2024-09-23T01:08:47.386Z"
   },
   {
    "duration": 8,
    "start_time": "2024-09-23T01:08:56.194Z"
   },
   {
    "duration": 8,
    "start_time": "2024-09-23T01:09:06.310Z"
   },
   {
    "duration": 205,
    "start_time": "2024-09-23T01:12:47.780Z"
   },
   {
    "duration": 148,
    "start_time": "2024-09-23T01:20:06.126Z"
   },
   {
    "duration": 7,
    "start_time": "2024-09-23T01:22:06.905Z"
   },
   {
    "duration": 3,
    "start_time": "2024-09-23T01:30:52.141Z"
   },
   {
    "duration": 4,
    "start_time": "2024-09-23T01:31:09.381Z"
   },
   {
    "duration": 12,
    "start_time": "2024-09-23T01:32:40.864Z"
   },
   {
    "duration": 11,
    "start_time": "2024-09-23T01:38:33.424Z"
   },
   {
    "duration": 12,
    "start_time": "2024-09-23T01:38:57.690Z"
   },
   {
    "duration": 13,
    "start_time": "2024-09-23T01:58:35.951Z"
   },
   {
    "duration": 9,
    "start_time": "2024-09-23T01:58:46.631Z"
   },
   {
    "duration": 5,
    "start_time": "2024-09-23T02:00:24.295Z"
   },
   {
    "duration": 4,
    "start_time": "2024-09-23T02:00:30.879Z"
   },
   {
    "duration": 13,
    "start_time": "2024-09-23T02:00:59.393Z"
   },
   {
    "duration": 13,
    "start_time": "2024-09-23T02:03:35.706Z"
   },
   {
    "duration": 48,
    "start_time": "2024-09-23T02:06:16.408Z"
   },
   {
    "duration": 18,
    "start_time": "2024-09-23T02:06:42.174Z"
   },
   {
    "duration": 116,
    "start_time": "2024-09-23T02:08:28.467Z"
   },
   {
    "duration": 40,
    "start_time": "2024-09-23T02:10:10.477Z"
   },
   {
    "duration": 19,
    "start_time": "2024-09-23T02:10:23.061Z"
   },
   {
    "duration": 4,
    "start_time": "2024-09-23T02:10:26.278Z"
   },
   {
    "duration": 122,
    "start_time": "2024-09-23T02:10:37.216Z"
   },
   {
    "duration": 14,
    "start_time": "2024-09-23T02:10:46.073Z"
   },
   {
    "duration": 104,
    "start_time": "2024-09-23T02:11:09.637Z"
   },
   {
    "duration": 11,
    "start_time": "2024-09-23T02:11:23.923Z"
   },
   {
    "duration": 11,
    "start_time": "2024-09-23T02:11:28.921Z"
   },
   {
    "duration": 4,
    "start_time": "2024-09-23T02:12:14.196Z"
   },
   {
    "duration": 6,
    "start_time": "2024-09-23T02:12:16.714Z"
   },
   {
    "duration": 11,
    "start_time": "2024-09-23T02:12:18.550Z"
   },
   {
    "duration": 12,
    "start_time": "2024-09-23T02:12:22.771Z"
   },
   {
    "duration": 11,
    "start_time": "2024-09-23T02:12:28.239Z"
   },
   {
    "duration": 98,
    "start_time": "2024-09-23T02:12:58.943Z"
   },
   {
    "duration": 22,
    "start_time": "2024-09-23T02:16:28.140Z"
   },
   {
    "duration": 21,
    "start_time": "2024-09-23T02:16:52.852Z"
   },
   {
    "duration": 89,
    "start_time": "2024-09-23T02:17:10.173Z"
   },
   {
    "duration": 7,
    "start_time": "2024-09-23T02:17:33.796Z"
   },
   {
    "duration": 22,
    "start_time": "2024-09-23T02:18:43.635Z"
   },
   {
    "duration": 5,
    "start_time": "2024-09-23T02:19:10.092Z"
   },
   {
    "duration": 7,
    "start_time": "2024-09-23T02:19:15.467Z"
   },
   {
    "duration": 119,
    "start_time": "2024-09-23T02:19:25.188Z"
   },
   {
    "duration": 12,
    "start_time": "2024-09-23T02:22:58.738Z"
   },
   {
    "duration": 22,
    "start_time": "2024-09-23T02:23:21.066Z"
   },
   {
    "duration": 111,
    "start_time": "2024-09-23T02:23:58.738Z"
   },
   {
    "duration": 5,
    "start_time": "2024-09-23T02:28:43.033Z"
   },
   {
    "duration": 6,
    "start_time": "2024-09-23T02:28:48.542Z"
   },
   {
    "duration": 4,
    "start_time": "2024-09-23T02:29:00.641Z"
   },
   {
    "duration": 5,
    "start_time": "2024-09-23T02:29:15.620Z"
   },
   {
    "duration": 7,
    "start_time": "2024-09-23T02:29:32.383Z"
   },
   {
    "duration": 125,
    "start_time": "2024-09-23T02:32:45.402Z"
   },
   {
    "duration": 59,
    "start_time": "2024-09-23T02:33:01.035Z"
   },
   {
    "duration": 244,
    "start_time": "2024-09-23T02:33:14.799Z"
   },
   {
    "duration": 6,
    "start_time": "2024-09-23T02:33:48.829Z"
   },
   {
    "duration": 5,
    "start_time": "2024-09-23T02:33:54.296Z"
   },
   {
    "duration": 5,
    "start_time": "2024-09-23T02:34:00.737Z"
   },
   {
    "duration": 132,
    "start_time": "2024-09-23T02:34:06.844Z"
   },
   {
    "duration": 140,
    "start_time": "2024-09-23T02:34:16.496Z"
   },
   {
    "duration": 4,
    "start_time": "2024-09-23T02:34:44.254Z"
   },
   {
    "duration": 5,
    "start_time": "2024-09-23T02:35:21.598Z"
   },
   {
    "duration": 41,
    "start_time": "2024-09-23T02:36:02.975Z"
   },
   {
    "duration": 41,
    "start_time": "2024-09-23T02:36:08.191Z"
   },
   {
    "duration": 17,
    "start_time": "2024-09-23T02:37:25.645Z"
   },
   {
    "duration": 8,
    "start_time": "2024-09-23T02:37:39.426Z"
   },
   {
    "duration": 9,
    "start_time": "2024-09-23T02:37:51.509Z"
   },
   {
    "duration": 8,
    "start_time": "2024-09-23T02:37:55.442Z"
   },
   {
    "duration": 9,
    "start_time": "2024-09-23T02:38:11.151Z"
   },
   {
    "duration": 7,
    "start_time": "2024-09-23T02:38:21.805Z"
   },
   {
    "duration": 7,
    "start_time": "2024-09-23T02:38:26.753Z"
   },
   {
    "duration": 8,
    "start_time": "2024-09-23T02:38:31.713Z"
   },
   {
    "duration": 8,
    "start_time": "2024-09-23T02:38:38.453Z"
   },
   {
    "duration": 8,
    "start_time": "2024-09-23T02:39:11.216Z"
   },
   {
    "duration": 144,
    "start_time": "2024-09-23T02:39:28.566Z"
   },
   {
    "duration": 133,
    "start_time": "2024-09-23T02:39:44.780Z"
   },
   {
    "duration": 4,
    "start_time": "2024-09-23T02:40:35.233Z"
   },
   {
    "duration": 9,
    "start_time": "2024-09-23T02:41:28.157Z"
   },
   {
    "duration": 5,
    "start_time": "2024-09-23T02:50:36.277Z"
   },
   {
    "duration": 5,
    "start_time": "2024-09-23T02:50:43.979Z"
   },
   {
    "duration": 5,
    "start_time": "2024-09-23T02:51:01.176Z"
   },
   {
    "duration": 5,
    "start_time": "2024-09-23T02:51:06.822Z"
   },
   {
    "duration": 8,
    "start_time": "2024-09-23T02:53:19.636Z"
   },
   {
    "duration": 137,
    "start_time": "2024-09-23T02:53:36.224Z"
   },
   {
    "duration": 273,
    "start_time": "2024-09-23T02:54:08.406Z"
   },
   {
    "duration": 137,
    "start_time": "2024-09-23T02:54:11.982Z"
   },
   {
    "duration": 11,
    "start_time": "2024-09-23T02:54:56.943Z"
   },
   {
    "duration": 21,
    "start_time": "2024-09-23T02:55:43.406Z"
   },
   {
    "duration": 12,
    "start_time": "2024-09-23T02:55:47.493Z"
   },
   {
    "duration": 13,
    "start_time": "2024-09-23T02:55:58.697Z"
   },
   {
    "duration": 11,
    "start_time": "2024-09-23T02:56:24.583Z"
   },
   {
    "duration": 17,
    "start_time": "2024-09-23T02:59:18.968Z"
   },
   {
    "duration": 172,
    "start_time": "2024-09-23T03:03:20.097Z"
   },
   {
    "duration": 8,
    "start_time": "2024-09-23T03:04:28.014Z"
   },
   {
    "duration": 138,
    "start_time": "2024-09-23T03:04:39.891Z"
   },
   {
    "duration": 109,
    "start_time": "2024-09-23T03:06:01.915Z"
   },
   {
    "duration": 97,
    "start_time": "2024-09-23T03:06:22.412Z"
   },
   {
    "duration": 7,
    "start_time": "2024-09-23T03:09:23.046Z"
   },
   {
    "duration": 10,
    "start_time": "2024-09-23T03:12:36.800Z"
   },
   {
    "duration": 135,
    "start_time": "2024-09-23T03:12:43.931Z"
   },
   {
    "duration": 19,
    "start_time": "2024-09-23T03:17:09.948Z"
   },
   {
    "duration": 15,
    "start_time": "2024-09-23T03:18:00.452Z"
   },
   {
    "duration": 15,
    "start_time": "2024-09-23T03:23:17.162Z"
   },
   {
    "duration": 15,
    "start_time": "2024-09-23T03:23:48.905Z"
   },
   {
    "duration": 9,
    "start_time": "2024-09-23T03:24:55.018Z"
   },
   {
    "duration": 5,
    "start_time": "2024-09-23T03:25:10.699Z"
   },
   {
    "duration": 19,
    "start_time": "2024-09-23T03:25:58.229Z"
   },
   {
    "duration": 15,
    "start_time": "2024-09-23T03:27:03.431Z"
   },
   {
    "duration": 17,
    "start_time": "2024-09-23T03:29:40.429Z"
   },
   {
    "duration": 15,
    "start_time": "2024-09-23T03:30:08.352Z"
   },
   {
    "duration": 821,
    "start_time": "2024-09-23T03:30:42.147Z"
   },
   {
    "duration": 42,
    "start_time": "2024-09-23T03:30:42.971Z"
   },
   {
    "duration": 18,
    "start_time": "2024-09-23T03:30:43.015Z"
   },
   {
    "duration": 10,
    "start_time": "2024-09-23T03:30:43.034Z"
   },
   {
    "duration": 4,
    "start_time": "2024-09-23T03:30:43.047Z"
   },
   {
    "duration": 7,
    "start_time": "2024-09-23T03:30:43.053Z"
   },
   {
    "duration": 11,
    "start_time": "2024-09-23T03:30:43.062Z"
   },
   {
    "duration": 18,
    "start_time": "2024-09-23T03:30:43.075Z"
   },
   {
    "duration": 36,
    "start_time": "2024-09-23T03:30:43.095Z"
   },
   {
    "duration": 24,
    "start_time": "2024-09-23T03:30:43.133Z"
   },
   {
    "duration": 22,
    "start_time": "2024-09-23T03:30:43.159Z"
   },
   {
    "duration": 16,
    "start_time": "2024-09-23T03:30:43.184Z"
   },
   {
    "duration": 4,
    "start_time": "2024-09-23T03:30:43.202Z"
   },
   {
    "duration": 38,
    "start_time": "2024-09-23T03:30:43.209Z"
   },
   {
    "duration": 5,
    "start_time": "2024-09-23T03:30:43.249Z"
   },
   {
    "duration": 4,
    "start_time": "2024-09-23T03:30:43.256Z"
   },
   {
    "duration": 9,
    "start_time": "2024-09-23T03:30:43.261Z"
   },
   {
    "duration": 175,
    "start_time": "2024-09-23T03:30:43.272Z"
   },
   {
    "duration": 4,
    "start_time": "2024-09-23T03:30:43.449Z"
   },
   {
    "duration": 12,
    "start_time": "2024-09-23T03:30:43.455Z"
   },
   {
    "duration": 11,
    "start_time": "2024-09-23T03:30:43.469Z"
   },
   {
    "duration": 10,
    "start_time": "2024-09-23T03:30:43.483Z"
   },
   {
    "duration": 7,
    "start_time": "2024-09-23T03:30:43.494Z"
   },
   {
    "duration": 156,
    "start_time": "2024-09-23T03:30:43.532Z"
   },
   {
    "duration": 11,
    "start_time": "2024-09-23T03:30:43.690Z"
   },
   {
    "duration": 34,
    "start_time": "2024-09-23T03:30:43.703Z"
   },
   {
    "duration": 4,
    "start_time": "2024-09-23T03:30:43.739Z"
   },
   {
    "duration": 7,
    "start_time": "2024-09-23T03:30:43.744Z"
   },
   {
    "duration": 57,
    "start_time": "2024-09-23T03:30:43.753Z"
   },
   {
    "duration": 167,
    "start_time": "2024-09-23T03:30:43.811Z"
   },
   {
    "duration": 16,
    "start_time": "2024-09-23T03:30:43.980Z"
   },
   {
    "duration": 272,
    "start_time": "2024-09-23T03:34:41.204Z"
   },
   {
    "duration": 16,
    "start_time": "2024-09-23T03:34:49.703Z"
   },
   {
    "duration": 14,
    "start_time": "2024-09-23T03:34:58.603Z"
   },
   {
    "duration": 13,
    "start_time": "2024-09-23T03:35:09.367Z"
   },
   {
    "duration": 11,
    "start_time": "2024-09-23T03:35:18.057Z"
   },
   {
    "duration": 13,
    "start_time": "2024-09-23T03:37:16.223Z"
   },
   {
    "duration": 12,
    "start_time": "2024-09-23T03:38:39.419Z"
   },
   {
    "duration": 19,
    "start_time": "2024-09-23T03:42:05.266Z"
   },
   {
    "duration": 15,
    "start_time": "2024-09-23T03:42:14.040Z"
   },
   {
    "duration": 13,
    "start_time": "2024-09-23T03:42:32.784Z"
   },
   {
    "duration": 155,
    "start_time": "2024-09-23T03:42:59.277Z"
   },
   {
    "duration": 161,
    "start_time": "2024-09-23T03:43:26.998Z"
   },
   {
    "duration": 8,
    "start_time": "2024-09-23T03:43:41.830Z"
   },
   {
    "duration": 5,
    "start_time": "2024-09-23T03:44:00.699Z"
   },
   {
    "duration": 6,
    "start_time": "2024-09-23T03:44:07.191Z"
   },
   {
    "duration": 7,
    "start_time": "2024-09-23T03:44:10.507Z"
   },
   {
    "duration": 186,
    "start_time": "2024-09-23T03:44:19.341Z"
   },
   {
    "duration": 4,
    "start_time": "2024-09-23T03:45:19.934Z"
   },
   {
    "duration": 5,
    "start_time": "2024-09-23T03:45:58.124Z"
   },
   {
    "duration": 6,
    "start_time": "2024-09-23T03:46:09.686Z"
   },
   {
    "duration": 6,
    "start_time": "2024-09-23T03:46:14.196Z"
   },
   {
    "duration": 5,
    "start_time": "2024-09-23T03:46:24.598Z"
   },
   {
    "duration": 6,
    "start_time": "2024-09-23T03:46:40.016Z"
   },
   {
    "duration": 5,
    "start_time": "2024-09-23T03:46:45.494Z"
   },
   {
    "duration": 7,
    "start_time": "2024-09-23T03:46:57.593Z"
   },
   {
    "duration": 5,
    "start_time": "2024-09-23T03:47:07.881Z"
   },
   {
    "duration": 6,
    "start_time": "2024-09-23T03:47:11.763Z"
   },
   {
    "duration": 4,
    "start_time": "2024-09-23T03:47:16.896Z"
   },
   {
    "duration": 5,
    "start_time": "2024-09-23T03:49:45.036Z"
   },
   {
    "duration": 7,
    "start_time": "2024-09-23T03:49:57.216Z"
   },
   {
    "duration": 5,
    "start_time": "2024-09-23T03:50:04.600Z"
   },
   {
    "duration": 4,
    "start_time": "2024-09-23T03:50:08.361Z"
   },
   {
    "duration": 5,
    "start_time": "2024-09-23T03:50:19.595Z"
   },
   {
    "duration": 6,
    "start_time": "2024-09-23T03:50:24.977Z"
   },
   {
    "duration": 5,
    "start_time": "2024-09-23T03:50:29.576Z"
   },
   {
    "duration": 5,
    "start_time": "2024-09-23T03:50:38.205Z"
   },
   {
    "duration": 8,
    "start_time": "2024-09-23T03:50:45.200Z"
   },
   {
    "duration": 3061,
    "start_time": "2024-09-23T22:05:28.634Z"
   },
   {
    "duration": 95,
    "start_time": "2024-09-23T22:05:31.697Z"
   },
   {
    "duration": 10,
    "start_time": "2024-09-23T22:05:31.794Z"
   },
   {
    "duration": 10,
    "start_time": "2024-09-23T22:05:31.806Z"
   },
   {
    "duration": 6,
    "start_time": "2024-09-23T22:05:31.819Z"
   },
   {
    "duration": 6,
    "start_time": "2024-09-23T22:05:31.827Z"
   },
   {
    "duration": 13,
    "start_time": "2024-09-23T22:05:31.835Z"
   },
   {
    "duration": 20,
    "start_time": "2024-09-23T22:05:31.850Z"
   },
   {
    "duration": 11,
    "start_time": "2024-09-23T22:05:31.872Z"
   },
   {
    "duration": 29,
    "start_time": "2024-09-23T22:05:31.885Z"
   },
   {
    "duration": 33,
    "start_time": "2024-09-23T22:05:31.916Z"
   },
   {
    "duration": 10,
    "start_time": "2024-09-23T22:05:31.951Z"
   },
   {
    "duration": 3,
    "start_time": "2024-09-23T22:05:31.962Z"
   },
   {
    "duration": 18,
    "start_time": "2024-09-23T22:05:31.971Z"
   },
   {
    "duration": 4,
    "start_time": "2024-09-23T22:05:31.991Z"
   },
   {
    "duration": 4,
    "start_time": "2024-09-23T22:05:31.996Z"
   },
   {
    "duration": 45,
    "start_time": "2024-09-23T22:05:32.002Z"
   },
   {
    "duration": 162,
    "start_time": "2024-09-23T22:05:32.049Z"
   },
   {
    "duration": 5,
    "start_time": "2024-09-23T22:05:32.213Z"
   },
   {
    "duration": 24,
    "start_time": "2024-09-23T22:05:32.220Z"
   },
   {
    "duration": 12,
    "start_time": "2024-09-23T22:05:32.247Z"
   },
   {
    "duration": 10,
    "start_time": "2024-09-23T22:05:32.261Z"
   },
   {
    "duration": 8,
    "start_time": "2024-09-23T22:05:32.273Z"
   },
   {
    "duration": 180,
    "start_time": "2024-09-23T22:05:32.283Z"
   },
   {
    "duration": 12,
    "start_time": "2024-09-23T22:05:32.465Z"
   },
   {
    "duration": 21,
    "start_time": "2024-09-23T22:05:32.480Z"
   },
   {
    "duration": 4,
    "start_time": "2024-09-23T22:05:32.502Z"
   },
   {
    "duration": 8,
    "start_time": "2024-09-23T22:05:32.507Z"
   },
   {
    "duration": 32,
    "start_time": "2024-09-23T22:05:32.516Z"
   },
   {
    "duration": 158,
    "start_time": "2024-09-23T22:05:32.549Z"
   },
   {
    "duration": 11,
    "start_time": "2024-09-23T22:05:32.710Z"
   },
   {
    "duration": 25,
    "start_time": "2024-09-23T22:05:32.723Z"
   },
   {
    "duration": 13,
    "start_time": "2024-09-23T22:05:32.751Z"
   },
   {
    "duration": 5,
    "start_time": "2024-09-23T22:05:32.766Z"
   },
   {
    "duration": 8,
    "start_time": "2024-09-23T22:05:32.773Z"
   },
   {
    "duration": 163,
    "start_time": "2024-09-23T22:05:32.783Z"
   },
   {
    "duration": 6,
    "start_time": "2024-09-23T22:31:04.631Z"
   },
   {
    "duration": 5,
    "start_time": "2024-09-23T22:31:16.325Z"
   },
   {
    "duration": 672,
    "start_time": "2024-09-23T22:32:34.158Z"
   },
   {
    "duration": 5,
    "start_time": "2024-09-23T22:32:41.771Z"
   },
   {
    "duration": 5,
    "start_time": "2024-09-23T22:33:12.184Z"
   },
   {
    "duration": 4,
    "start_time": "2024-09-23T22:33:16.713Z"
   },
   {
    "duration": 4,
    "start_time": "2024-09-23T22:33:34.834Z"
   },
   {
    "duration": 4,
    "start_time": "2024-09-23T22:33:41.347Z"
   },
   {
    "duration": 10,
    "start_time": "2024-09-23T22:36:19.204Z"
   },
   {
    "duration": 17,
    "start_time": "2024-09-23T22:36:40.023Z"
   },
   {
    "duration": 16,
    "start_time": "2024-09-23T22:36:44.277Z"
   },
   {
    "duration": 14,
    "start_time": "2024-09-23T22:36:49.569Z"
   },
   {
    "duration": 122,
    "start_time": "2024-09-23T22:36:54.596Z"
   },
   {
    "duration": 142,
    "start_time": "2024-09-23T22:37:04.777Z"
   },
   {
    "duration": 16,
    "start_time": "2024-09-23T22:46:12.898Z"
   },
   {
    "duration": 100,
    "start_time": "2024-09-23T22:47:21.552Z"
   },
   {
    "duration": 141,
    "start_time": "2024-09-23T22:47:39.383Z"
   },
   {
    "duration": 98,
    "start_time": "2024-09-23T22:50:32.277Z"
   },
   {
    "duration": 20,
    "start_time": "2024-09-23T22:55:34.492Z"
   },
   {
    "duration": 17,
    "start_time": "2024-09-23T22:56:12.437Z"
   },
   {
    "duration": 12,
    "start_time": "2024-09-23T22:57:59.988Z"
   },
   {
    "duration": 13,
    "start_time": "2024-09-23T23:08:01.102Z"
   },
   {
    "duration": 13,
    "start_time": "2024-09-23T23:08:02.718Z"
   },
   {
    "duration": 12,
    "start_time": "2024-09-23T23:08:08.024Z"
   },
   {
    "duration": 12,
    "start_time": "2024-09-23T23:08:24.682Z"
   },
   {
    "duration": 14,
    "start_time": "2024-09-23T23:08:38.926Z"
   },
   {
    "duration": 790,
    "start_time": "2024-09-23T23:10:29.919Z"
   },
   {
    "duration": 45,
    "start_time": "2024-09-23T23:10:30.711Z"
   },
   {
    "duration": 10,
    "start_time": "2024-09-23T23:10:30.758Z"
   },
   {
    "duration": 9,
    "start_time": "2024-09-23T23:10:30.770Z"
   },
   {
    "duration": 4,
    "start_time": "2024-09-23T23:10:30.780Z"
   },
   {
    "duration": 7,
    "start_time": "2024-09-23T23:10:30.786Z"
   },
   {
    "duration": 9,
    "start_time": "2024-09-23T23:10:30.794Z"
   },
   {
    "duration": 41,
    "start_time": "2024-09-23T23:10:30.805Z"
   },
   {
    "duration": 11,
    "start_time": "2024-09-23T23:10:30.850Z"
   },
   {
    "duration": 22,
    "start_time": "2024-09-23T23:10:30.864Z"
   },
   {
    "duration": 15,
    "start_time": "2024-09-23T23:10:30.888Z"
   },
   {
    "duration": 8,
    "start_time": "2024-09-23T23:10:30.904Z"
   },
   {
    "duration": 3,
    "start_time": "2024-09-23T23:10:30.913Z"
   },
   {
    "duration": 17,
    "start_time": "2024-09-23T23:10:30.943Z"
   },
   {
    "duration": 3,
    "start_time": "2024-09-23T23:10:30.962Z"
   },
   {
    "duration": 5,
    "start_time": "2024-09-23T23:10:30.967Z"
   },
   {
    "duration": 6,
    "start_time": "2024-09-23T23:10:30.975Z"
   },
   {
    "duration": 173,
    "start_time": "2024-09-23T23:10:30.983Z"
   },
   {
    "duration": 4,
    "start_time": "2024-09-23T23:10:31.157Z"
   },
   {
    "duration": 11,
    "start_time": "2024-09-23T23:10:31.162Z"
   },
   {
    "duration": 10,
    "start_time": "2024-09-23T23:10:31.175Z"
   },
   {
    "duration": 8,
    "start_time": "2024-09-23T23:10:31.186Z"
   },
   {
    "duration": 6,
    "start_time": "2024-09-23T23:10:31.196Z"
   },
   {
    "duration": 200,
    "start_time": "2024-09-23T23:10:31.204Z"
   },
   {
    "duration": 8,
    "start_time": "2024-09-23T23:10:31.406Z"
   },
   {
    "duration": 30,
    "start_time": "2024-09-23T23:10:31.416Z"
   },
   {
    "duration": 4,
    "start_time": "2024-09-23T23:10:31.447Z"
   },
   {
    "duration": 6,
    "start_time": "2024-09-23T23:10:31.455Z"
   },
   {
    "duration": 8,
    "start_time": "2024-09-23T23:10:31.462Z"
   },
   {
    "duration": 212,
    "start_time": "2024-09-23T23:10:31.471Z"
   },
   {
    "duration": 11,
    "start_time": "2024-09-23T23:10:31.684Z"
   },
   {
    "duration": 7,
    "start_time": "2024-09-23T23:10:31.697Z"
   },
   {
    "duration": 6,
    "start_time": "2024-09-23T23:10:31.706Z"
   },
   {
    "duration": 121,
    "start_time": "2024-09-23T23:10:31.715Z"
   },
   {
    "duration": 145,
    "start_time": "2024-09-23T23:10:31.842Z"
   },
   {
    "duration": 228,
    "start_time": "2024-09-23T23:10:31.988Z"
   },
   {
    "duration": 0,
    "start_time": "2024-09-23T23:10:32.218Z"
   },
   {
    "duration": 13,
    "start_time": "2024-09-23T23:10:41.199Z"
   },
   {
    "duration": 836,
    "start_time": "2024-09-23T23:13:20.239Z"
   },
   {
    "duration": 40,
    "start_time": "2024-09-23T23:13:21.077Z"
   },
   {
    "duration": 10,
    "start_time": "2024-09-23T23:13:21.118Z"
   },
   {
    "duration": 17,
    "start_time": "2024-09-23T23:13:21.130Z"
   },
   {
    "duration": 5,
    "start_time": "2024-09-23T23:13:21.150Z"
   },
   {
    "duration": 7,
    "start_time": "2024-09-23T23:13:21.156Z"
   },
   {
    "duration": 8,
    "start_time": "2024-09-23T23:13:21.165Z"
   },
   {
    "duration": 12,
    "start_time": "2024-09-23T23:13:21.175Z"
   },
   {
    "duration": 10,
    "start_time": "2024-09-23T23:13:21.189Z"
   },
   {
    "duration": 61,
    "start_time": "2024-09-23T23:13:21.200Z"
   },
   {
    "duration": 15,
    "start_time": "2024-09-23T23:13:21.263Z"
   },
   {
    "duration": 8,
    "start_time": "2024-09-23T23:13:21.280Z"
   },
   {
    "duration": 3,
    "start_time": "2024-09-23T23:13:21.289Z"
   },
   {
    "duration": 15,
    "start_time": "2024-09-23T23:13:21.297Z"
   },
   {
    "duration": 31,
    "start_time": "2024-09-23T23:13:21.313Z"
   },
   {
    "duration": 4,
    "start_time": "2024-09-23T23:13:21.346Z"
   },
   {
    "duration": 6,
    "start_time": "2024-09-23T23:13:21.352Z"
   },
   {
    "duration": 166,
    "start_time": "2024-09-23T23:13:21.361Z"
   },
   {
    "duration": 3,
    "start_time": "2024-09-23T23:13:21.529Z"
   },
   {
    "duration": 11,
    "start_time": "2024-09-23T23:13:21.543Z"
   },
   {
    "duration": 10,
    "start_time": "2024-09-23T23:13:21.556Z"
   },
   {
    "duration": 8,
    "start_time": "2024-09-23T23:13:21.567Z"
   },
   {
    "duration": 6,
    "start_time": "2024-09-23T23:13:21.577Z"
   },
   {
    "duration": 178,
    "start_time": "2024-09-23T23:13:21.585Z"
   },
   {
    "duration": 13,
    "start_time": "2024-09-23T23:13:21.765Z"
   },
   {
    "duration": 19,
    "start_time": "2024-09-23T23:13:21.779Z"
   },
   {
    "duration": 4,
    "start_time": "2024-09-23T23:13:21.800Z"
   },
   {
    "duration": 6,
    "start_time": "2024-09-23T23:13:21.805Z"
   },
   {
    "duration": 36,
    "start_time": "2024-09-23T23:13:21.812Z"
   },
   {
    "duration": 217,
    "start_time": "2024-09-23T23:13:21.850Z"
   },
   {
    "duration": 11,
    "start_time": "2024-09-23T23:13:22.069Z"
   },
   {
    "duration": 7,
    "start_time": "2024-09-23T23:13:22.082Z"
   },
   {
    "duration": 6,
    "start_time": "2024-09-23T23:13:22.091Z"
   },
   {
    "duration": 126,
    "start_time": "2024-09-23T23:13:22.099Z"
   },
   {
    "duration": 142,
    "start_time": "2024-09-23T23:13:22.227Z"
   },
   {
    "duration": 13,
    "start_time": "2024-09-23T23:13:22.371Z"
   },
   {
    "duration": 10,
    "start_time": "2024-09-23T23:13:22.385Z"
   },
   {
    "duration": 225,
    "start_time": "2024-09-23T23:14:56.374Z"
   },
   {
    "duration": 8,
    "start_time": "2024-09-23T23:15:22.733Z"
   },
   {
    "duration": 30,
    "start_time": "2024-09-23T23:16:36.081Z"
   },
   {
    "duration": 10,
    "start_time": "2024-09-23T23:17:07.332Z"
   },
   {
    "duration": 16,
    "start_time": "2024-09-23T23:19:56.370Z"
   },
   {
    "duration": 14,
    "start_time": "2024-09-23T23:20:22.910Z"
   },
   {
    "duration": 25,
    "start_time": "2024-09-23T23:20:56.157Z"
   },
   {
    "duration": 16,
    "start_time": "2024-09-23T23:21:22.600Z"
   },
   {
    "duration": 21,
    "start_time": "2024-09-23T23:22:04.526Z"
   },
   {
    "duration": 21,
    "start_time": "2024-09-23T23:22:42.817Z"
   },
   {
    "duration": 13,
    "start_time": "2024-09-23T23:22:50.065Z"
   },
   {
    "duration": 6,
    "start_time": "2024-09-23T23:23:11.451Z"
   },
   {
    "duration": 8,
    "start_time": "2024-09-23T23:23:20.178Z"
   },
   {
    "duration": 9,
    "start_time": "2024-09-23T23:23:37.784Z"
   },
   {
    "duration": 10,
    "start_time": "2024-09-23T23:24:24.680Z"
   },
   {
    "duration": 12,
    "start_time": "2024-09-23T23:25:07.524Z"
   },
   {
    "duration": 10,
    "start_time": "2024-09-23T23:25:13.108Z"
   },
   {
    "duration": 13,
    "start_time": "2024-09-23T23:26:02.772Z"
   },
   {
    "duration": 9,
    "start_time": "2024-09-23T23:26:21.298Z"
   },
   {
    "duration": 13,
    "start_time": "2024-09-23T23:26:37.991Z"
   },
   {
    "duration": 6,
    "start_time": "2024-09-23T23:27:11.167Z"
   },
   {
    "duration": 6,
    "start_time": "2024-09-23T23:27:28.811Z"
   },
   {
    "duration": 14,
    "start_time": "2024-09-23T23:28:00.970Z"
   },
   {
    "duration": 16,
    "start_time": "2024-09-23T23:28:30.901Z"
   },
   {
    "duration": 9,
    "start_time": "2024-09-23T23:28:37.709Z"
   },
   {
    "duration": 6,
    "start_time": "2024-09-23T23:30:05.217Z"
   },
   {
    "duration": 7,
    "start_time": "2024-09-23T23:30:15.896Z"
   },
   {
    "duration": 5,
    "start_time": "2024-09-23T23:30:31.778Z"
   },
   {
    "duration": 3,
    "start_time": "2024-09-23T23:41:43.203Z"
   },
   {
    "duration": 8,
    "start_time": "2024-09-23T23:41:46.025Z"
   },
   {
    "duration": 10,
    "start_time": "2024-09-23T23:41:56.122Z"
   },
   {
    "duration": 4,
    "start_time": "2024-09-23T23:45:29.759Z"
   },
   {
    "duration": 9,
    "start_time": "2024-09-23T23:45:32.192Z"
   },
   {
    "duration": 10,
    "start_time": "2024-09-23T23:45:56.542Z"
   },
   {
    "duration": 12,
    "start_time": "2024-09-24T01:50:00.338Z"
   },
   {
    "duration": 17,
    "start_time": "2024-09-24T01:52:36.497Z"
   },
   {
    "duration": 14,
    "start_time": "2024-09-24T01:52:50.395Z"
   },
   {
    "duration": 3,
    "start_time": "2024-09-24T01:57:36.292Z"
   },
   {
    "duration": 629,
    "start_time": "2024-09-24T02:00:14.588Z"
   },
   {
    "duration": 74,
    "start_time": "2024-09-24T02:00:58.065Z"
   },
   {
    "duration": 40,
    "start_time": "2024-09-24T02:02:21.272Z"
   },
   {
    "duration": 25,
    "start_time": "2024-09-24T02:02:30.290Z"
   },
   {
    "duration": 24,
    "start_time": "2024-09-24T02:02:36.213Z"
   },
   {
    "duration": 22,
    "start_time": "2024-09-24T02:13:51.153Z"
   },
   {
    "duration": 161,
    "start_time": "2024-09-24T02:14:17.126Z"
   },
   {
    "duration": 176,
    "start_time": "2024-09-24T02:14:28.290Z"
   },
   {
    "duration": 151,
    "start_time": "2024-09-24T02:15:12.140Z"
   },
   {
    "duration": 176,
    "start_time": "2024-09-24T02:15:20.529Z"
   },
   {
    "duration": 153,
    "start_time": "2024-09-24T02:17:58.023Z"
   },
   {
    "duration": 110,
    "start_time": "2024-09-24T02:18:29.734Z"
   },
   {
    "duration": 367,
    "start_time": "2024-09-24T02:20:44.647Z"
   },
   {
    "duration": 372,
    "start_time": "2024-09-24T02:21:26.090Z"
   },
   {
    "duration": 9,
    "start_time": "2024-09-24T02:28:46.281Z"
   },
   {
    "duration": 13,
    "start_time": "2024-09-24T02:29:09.280Z"
   },
   {
    "duration": 12,
    "start_time": "2024-09-24T02:30:38.916Z"
   },
   {
    "duration": 14,
    "start_time": "2024-09-24T02:31:05.786Z"
   },
   {
    "duration": 9,
    "start_time": "2024-09-24T02:31:57.668Z"
   },
   {
    "duration": 10,
    "start_time": "2024-09-24T02:41:12.383Z"
   },
   {
    "duration": 15,
    "start_time": "2024-09-24T02:41:26.397Z"
   },
   {
    "duration": 14,
    "start_time": "2024-09-24T02:41:33.914Z"
   },
   {
    "duration": 13,
    "start_time": "2024-09-24T02:41:37.796Z"
   },
   {
    "duration": 13,
    "start_time": "2024-09-24T02:42:04.653Z"
   },
   {
    "duration": 13,
    "start_time": "2024-09-24T02:42:20.351Z"
   },
   {
    "duration": 5,
    "start_time": "2024-09-24T02:42:42.139Z"
   },
   {
    "duration": 11,
    "start_time": "2024-09-24T02:44:48.983Z"
   },
   {
    "duration": 5,
    "start_time": "2024-09-24T02:47:44.882Z"
   },
   {
    "duration": 5,
    "start_time": "2024-09-24T02:47:52.186Z"
   },
   {
    "duration": 5,
    "start_time": "2024-09-24T02:48:26.569Z"
   },
   {
    "duration": 27,
    "start_time": "2024-09-24T02:49:37.081Z"
   },
   {
    "duration": 2589,
    "start_time": "2024-09-24T13:19:31.859Z"
   },
   {
    "duration": 76,
    "start_time": "2024-09-24T13:19:34.450Z"
   },
   {
    "duration": 9,
    "start_time": "2024-09-24T13:19:34.528Z"
   },
   {
    "duration": 8,
    "start_time": "2024-09-24T13:19:34.539Z"
   },
   {
    "duration": 4,
    "start_time": "2024-09-24T13:19:34.549Z"
   },
   {
    "duration": 6,
    "start_time": "2024-09-24T13:19:34.555Z"
   },
   {
    "duration": 9,
    "start_time": "2024-09-24T13:19:34.562Z"
   },
   {
    "duration": 41,
    "start_time": "2024-09-24T13:19:34.573Z"
   },
   {
    "duration": 10,
    "start_time": "2024-09-24T13:19:34.616Z"
   },
   {
    "duration": 24,
    "start_time": "2024-09-24T13:19:34.629Z"
   },
   {
    "duration": 16,
    "start_time": "2024-09-24T13:19:34.654Z"
   },
   {
    "duration": 8,
    "start_time": "2024-09-24T13:19:34.671Z"
   },
   {
    "duration": 27,
    "start_time": "2024-09-24T13:19:34.680Z"
   },
   {
    "duration": 17,
    "start_time": "2024-09-24T13:19:34.709Z"
   },
   {
    "duration": 3,
    "start_time": "2024-09-24T13:19:34.728Z"
   },
   {
    "duration": 4,
    "start_time": "2024-09-24T13:19:34.732Z"
   },
   {
    "duration": 6,
    "start_time": "2024-09-24T13:19:34.737Z"
   },
   {
    "duration": 177,
    "start_time": "2024-09-24T13:19:34.745Z"
   },
   {
    "duration": 3,
    "start_time": "2024-09-24T13:19:34.925Z"
   },
   {
    "duration": 11,
    "start_time": "2024-09-24T13:19:34.930Z"
   },
   {
    "duration": 9,
    "start_time": "2024-09-24T13:19:34.943Z"
   },
   {
    "duration": 7,
    "start_time": "2024-09-24T13:19:34.954Z"
   },
   {
    "duration": 7,
    "start_time": "2024-09-24T13:19:34.964Z"
   },
   {
    "duration": 188,
    "start_time": "2024-09-24T13:19:34.972Z"
   },
   {
    "duration": 11,
    "start_time": "2024-09-24T13:19:35.163Z"
   },
   {
    "duration": 35,
    "start_time": "2024-09-24T13:19:35.176Z"
   },
   {
    "duration": 8,
    "start_time": "2024-09-24T13:19:35.213Z"
   },
   {
    "duration": 7,
    "start_time": "2024-09-24T13:19:35.226Z"
   },
   {
    "duration": 8,
    "start_time": "2024-09-24T13:19:35.234Z"
   },
   {
    "duration": 166,
    "start_time": "2024-09-24T13:19:35.244Z"
   },
   {
    "duration": 12,
    "start_time": "2024-09-24T13:19:35.412Z"
   },
   {
    "duration": 10,
    "start_time": "2024-09-24T13:19:35.426Z"
   },
   {
    "duration": 6,
    "start_time": "2024-09-24T13:19:35.438Z"
   },
   {
    "duration": 128,
    "start_time": "2024-09-24T13:19:35.446Z"
   },
   {
    "duration": 147,
    "start_time": "2024-09-24T13:19:35.576Z"
   },
   {
    "duration": 13,
    "start_time": "2024-09-24T13:19:35.725Z"
   },
   {
    "duration": 10,
    "start_time": "2024-09-24T13:19:35.739Z"
   },
   {
    "duration": 11,
    "start_time": "2024-09-24T13:19:35.751Z"
   },
   {
    "duration": 11,
    "start_time": "2024-09-24T13:19:35.764Z"
   },
   {
    "duration": 20,
    "start_time": "2024-09-24T13:19:35.806Z"
   },
   {
    "duration": 11,
    "start_time": "2024-09-24T13:19:35.828Z"
   },
   {
    "duration": 9,
    "start_time": "2024-09-24T13:19:35.840Z"
   },
   {
    "duration": 3,
    "start_time": "2024-09-24T13:19:35.851Z"
   },
   {
    "duration": 10,
    "start_time": "2024-09-24T13:19:35.856Z"
   },
   {
    "duration": 45,
    "start_time": "2024-09-24T13:19:35.868Z"
   },
   {
    "duration": 5,
    "start_time": "2024-09-24T13:19:35.915Z"
   },
   {
    "duration": 464,
    "start_time": "2024-09-24T13:19:35.922Z"
   },
   {
    "duration": 20,
    "start_time": "2024-09-24T13:19:36.389Z"
   },
   {
    "duration": 11,
    "start_time": "2024-09-24T13:19:36.412Z"
   },
   {
    "duration": 9,
    "start_time": "2024-09-24T13:19:36.424Z"
   },
   {
    "duration": 23,
    "start_time": "2024-09-24T13:22:52.510Z"
   },
   {
    "duration": 16,
    "start_time": "2024-09-24T13:22:58.760Z"
   },
   {
    "duration": 4,
    "start_time": "2024-09-24T13:23:23.974Z"
   },
   {
    "duration": 2690,
    "start_time": "2024-09-24T16:34:07.701Z"
   },
   {
    "duration": 64,
    "start_time": "2024-09-24T16:34:10.394Z"
   },
   {
    "duration": 9,
    "start_time": "2024-09-24T16:34:10.460Z"
   },
   {
    "duration": 13,
    "start_time": "2024-09-24T16:34:10.472Z"
   },
   {
    "duration": 11,
    "start_time": "2024-09-24T16:34:10.488Z"
   },
   {
    "duration": 8,
    "start_time": "2024-09-24T16:34:10.501Z"
   },
   {
    "duration": 9,
    "start_time": "2024-09-24T16:34:10.511Z"
   },
   {
    "duration": 18,
    "start_time": "2024-09-24T16:34:10.542Z"
   },
   {
    "duration": 10,
    "start_time": "2024-09-24T16:34:10.562Z"
   },
   {
    "duration": 24,
    "start_time": "2024-09-24T16:34:10.576Z"
   },
   {
    "duration": 15,
    "start_time": "2024-09-24T16:34:10.601Z"
   },
   {
    "duration": 9,
    "start_time": "2024-09-24T16:34:10.642Z"
   },
   {
    "duration": 3,
    "start_time": "2024-09-24T16:34:10.653Z"
   },
   {
    "duration": 17,
    "start_time": "2024-09-24T16:34:10.658Z"
   },
   {
    "duration": 3,
    "start_time": "2024-09-24T16:34:10.677Z"
   },
   {
    "duration": 5,
    "start_time": "2024-09-24T16:34:10.681Z"
   },
   {
    "duration": 6,
    "start_time": "2024-09-24T16:34:10.688Z"
   },
   {
    "duration": 204,
    "start_time": "2024-09-24T16:34:10.696Z"
   },
   {
    "duration": 6,
    "start_time": "2024-09-24T16:34:10.902Z"
   },
   {
    "duration": 12,
    "start_time": "2024-09-24T16:34:10.910Z"
   },
   {
    "duration": 23,
    "start_time": "2024-09-24T16:34:10.924Z"
   },
   {
    "duration": 9,
    "start_time": "2024-09-24T16:34:10.949Z"
   },
   {
    "duration": 17,
    "start_time": "2024-09-24T16:34:10.961Z"
   },
   {
    "duration": 178,
    "start_time": "2024-09-24T16:34:10.980Z"
   },
   {
    "duration": 13,
    "start_time": "2024-09-24T16:34:11.160Z"
   },
   {
    "duration": 19,
    "start_time": "2024-09-24T16:34:11.175Z"
   },
   {
    "duration": 5,
    "start_time": "2024-09-24T16:34:11.196Z"
   },
   {
    "duration": 6,
    "start_time": "2024-09-24T16:34:11.206Z"
   },
   {
    "duration": 33,
    "start_time": "2024-09-24T16:34:11.214Z"
   },
   {
    "duration": 162,
    "start_time": "2024-09-24T16:34:11.249Z"
   },
   {
    "duration": 12,
    "start_time": "2024-09-24T16:34:11.413Z"
   },
   {
    "duration": 21,
    "start_time": "2024-09-24T16:34:11.427Z"
   },
   {
    "duration": 7,
    "start_time": "2024-09-24T16:34:11.450Z"
   },
   {
    "duration": 123,
    "start_time": "2024-09-24T16:34:11.459Z"
   },
   {
    "duration": 145,
    "start_time": "2024-09-24T16:34:11.584Z"
   },
   {
    "duration": 22,
    "start_time": "2024-09-24T16:34:11.731Z"
   },
   {
    "duration": 10,
    "start_time": "2024-09-24T16:34:11.755Z"
   },
   {
    "duration": 19,
    "start_time": "2024-09-24T16:34:11.768Z"
   },
   {
    "duration": 59,
    "start_time": "2024-09-24T16:34:11.790Z"
   },
   {
    "duration": 92,
    "start_time": "2024-09-24T16:34:11.852Z"
   },
   {
    "duration": 11,
    "start_time": "2024-09-24T16:34:11.946Z"
   },
   {
    "duration": 9,
    "start_time": "2024-09-24T16:34:11.959Z"
   },
   {
    "duration": 5,
    "start_time": "2024-09-24T16:34:11.969Z"
   },
   {
    "duration": 10,
    "start_time": "2024-09-24T16:34:11.975Z"
   },
   {
    "duration": 12,
    "start_time": "2024-09-24T16:34:11.987Z"
   },
   {
    "duration": 42,
    "start_time": "2024-09-24T16:34:12.001Z"
   },
   {
    "duration": 370,
    "start_time": "2024-09-24T16:34:12.045Z"
   },
   {
    "duration": 13,
    "start_time": "2024-09-24T16:34:12.418Z"
   },
   {
    "duration": 10,
    "start_time": "2024-09-24T16:34:12.443Z"
   },
   {
    "duration": 23,
    "start_time": "2024-09-24T16:34:12.455Z"
   },
   {
    "duration": 5,
    "start_time": "2024-09-24T16:34:12.480Z"
   },
   {
    "duration": 9,
    "start_time": "2024-09-24T16:34:27.087Z"
   },
   {
    "duration": 13,
    "start_time": "2024-09-24T18:34:53.054Z"
   },
   {
    "duration": 14,
    "start_time": "2024-09-24T18:35:09.071Z"
   },
   {
    "duration": 17,
    "start_time": "2024-09-24T18:37:09.176Z"
   },
   {
    "duration": 26,
    "start_time": "2024-09-24T18:39:14.516Z"
   },
   {
    "duration": 20,
    "start_time": "2024-09-24T18:39:41.187Z"
   },
   {
    "duration": 9,
    "start_time": "2024-09-24T18:40:25.766Z"
   },
   {
    "duration": 8,
    "start_time": "2024-09-24T18:40:35.716Z"
   },
   {
    "duration": 13,
    "start_time": "2024-09-24T18:41:21.257Z"
   },
   {
    "duration": 13,
    "start_time": "2024-09-24T18:43:22.593Z"
   },
   {
    "duration": 9,
    "start_time": "2024-09-24T18:45:56.568Z"
   },
   {
    "duration": 5,
    "start_time": "2024-09-24T18:46:00.900Z"
   },
   {
    "duration": 7,
    "start_time": "2024-09-24T18:46:13.624Z"
   },
   {
    "duration": 653,
    "start_time": "2024-09-24T18:47:00.393Z"
   },
   {
    "duration": 10,
    "start_time": "2024-09-24T18:49:16.876Z"
   },
   {
    "duration": 14,
    "start_time": "2024-09-24T18:49:32.920Z"
   },
   {
    "duration": 5,
    "start_time": "2024-09-24T18:49:53.404Z"
   },
   {
    "duration": 5,
    "start_time": "2024-09-24T18:49:57.587Z"
   },
   {
    "duration": 7,
    "start_time": "2024-09-24T18:50:04.812Z"
   },
   {
    "duration": 9,
    "start_time": "2024-09-24T18:50:37.057Z"
   },
   {
    "duration": 10,
    "start_time": "2024-09-24T18:50:52.920Z"
   },
   {
    "duration": 112,
    "start_time": "2024-09-24T18:52:23.826Z"
   },
   {
    "duration": 120,
    "start_time": "2024-09-24T18:52:34.609Z"
   },
   {
    "duration": 130,
    "start_time": "2024-09-24T18:52:51.448Z"
   },
   {
    "duration": 128,
    "start_time": "2024-09-24T18:52:59.759Z"
   },
   {
    "duration": 123,
    "start_time": "2024-09-24T18:53:06.687Z"
   },
   {
    "duration": 120,
    "start_time": "2024-09-24T18:53:13.406Z"
   },
   {
    "duration": 61,
    "start_time": "2024-09-24T18:54:01.411Z"
   },
   {
    "duration": 12,
    "start_time": "2024-09-24T18:54:18.281Z"
   },
   {
    "duration": 16,
    "start_time": "2024-09-24T18:54:20.760Z"
   },
   {
    "duration": 3,
    "start_time": "2024-09-24T18:54:37.622Z"
   },
   {
    "duration": 6,
    "start_time": "2024-09-24T18:54:48.246Z"
   },
   {
    "duration": 18,
    "start_time": "2024-09-24T18:56:25.929Z"
   },
   {
    "duration": 3,
    "start_time": "2024-09-24T18:56:31.430Z"
   },
   {
    "duration": 8,
    "start_time": "2024-09-24T18:56:36.258Z"
   },
   {
    "duration": 8,
    "start_time": "2024-09-24T19:01:10.408Z"
   },
   {
    "duration": 19,
    "start_time": "2024-09-24T19:01:16.162Z"
   },
   {
    "duration": 2,
    "start_time": "2024-09-24T19:01:26.933Z"
   },
   {
    "duration": 7,
    "start_time": "2024-09-24T19:01:29.196Z"
   },
   {
    "duration": 901,
    "start_time": "2024-09-24T19:05:27.173Z"
   },
   {
    "duration": 42,
    "start_time": "2024-09-24T19:05:28.077Z"
   },
   {
    "duration": 9,
    "start_time": "2024-09-24T19:05:28.120Z"
   },
   {
    "duration": 17,
    "start_time": "2024-09-24T19:05:28.131Z"
   },
   {
    "duration": 4,
    "start_time": "2024-09-24T19:05:28.151Z"
   },
   {
    "duration": 7,
    "start_time": "2024-09-24T19:05:28.157Z"
   },
   {
    "duration": 10,
    "start_time": "2024-09-24T19:05:28.165Z"
   },
   {
    "duration": 13,
    "start_time": "2024-09-24T19:05:28.176Z"
   },
   {
    "duration": 9,
    "start_time": "2024-09-24T19:05:28.191Z"
   },
   {
    "duration": 55,
    "start_time": "2024-09-24T19:05:28.204Z"
   },
   {
    "duration": 16,
    "start_time": "2024-09-24T19:05:28.261Z"
   },
   {
    "duration": 8,
    "start_time": "2024-09-24T19:05:28.278Z"
   },
   {
    "duration": 3,
    "start_time": "2024-09-24T19:05:28.288Z"
   },
   {
    "duration": 15,
    "start_time": "2024-09-24T19:05:28.292Z"
   },
   {
    "duration": 35,
    "start_time": "2024-09-24T19:05:28.309Z"
   },
   {
    "duration": 5,
    "start_time": "2024-09-24T19:05:28.346Z"
   },
   {
    "duration": 8,
    "start_time": "2024-09-24T19:05:28.352Z"
   },
   {
    "duration": 169,
    "start_time": "2024-09-24T19:05:28.361Z"
   },
   {
    "duration": 3,
    "start_time": "2024-09-24T19:05:28.532Z"
   },
   {
    "duration": 17,
    "start_time": "2024-09-24T19:05:28.537Z"
   },
   {
    "duration": 11,
    "start_time": "2024-09-24T19:05:28.555Z"
   },
   {
    "duration": 9,
    "start_time": "2024-09-24T19:05:28.567Z"
   },
   {
    "duration": 6,
    "start_time": "2024-09-24T19:05:28.578Z"
   },
   {
    "duration": 211,
    "start_time": "2024-09-24T19:05:28.585Z"
   },
   {
    "duration": 17,
    "start_time": "2024-09-24T19:05:28.798Z"
   },
   {
    "duration": 39,
    "start_time": "2024-09-24T19:05:28.817Z"
   },
   {
    "duration": 6,
    "start_time": "2024-09-24T19:05:28.858Z"
   },
   {
    "duration": 7,
    "start_time": "2024-09-24T19:05:28.869Z"
   },
   {
    "duration": 9,
    "start_time": "2024-09-24T19:05:28.878Z"
   },
   {
    "duration": 248,
    "start_time": "2024-09-24T19:05:28.889Z"
   },
   {
    "duration": 15,
    "start_time": "2024-09-24T19:05:29.139Z"
   },
   {
    "duration": 10,
    "start_time": "2024-09-24T19:05:29.157Z"
   },
   {
    "duration": 8,
    "start_time": "2024-09-24T19:05:29.169Z"
   },
   {
    "duration": 134,
    "start_time": "2024-09-24T19:05:29.178Z"
   },
   {
    "duration": 174,
    "start_time": "2024-09-24T19:05:29.314Z"
   },
   {
    "duration": 17,
    "start_time": "2024-09-24T19:05:29.490Z"
   },
   {
    "duration": 15,
    "start_time": "2024-09-24T19:05:29.509Z"
   },
   {
    "duration": 14,
    "start_time": "2024-09-24T19:05:29.542Z"
   },
   {
    "duration": 11,
    "start_time": "2024-09-24T19:05:29.559Z"
   },
   {
    "duration": 21,
    "start_time": "2024-09-24T19:05:29.571Z"
   },
   {
    "duration": 13,
    "start_time": "2024-09-24T19:05:29.595Z"
   },
   {
    "duration": 34,
    "start_time": "2024-09-24T19:05:29.610Z"
   },
   {
    "duration": 4,
    "start_time": "2024-09-24T19:05:29.647Z"
   },
   {
    "duration": 13,
    "start_time": "2024-09-24T19:05:29.653Z"
   },
   {
    "duration": 18,
    "start_time": "2024-09-24T19:05:29.668Z"
   },
   {
    "duration": 5,
    "start_time": "2024-09-24T19:05:29.688Z"
   },
   {
    "duration": 416,
    "start_time": "2024-09-24T19:05:29.695Z"
   },
   {
    "duration": 4,
    "start_time": "2024-09-24T19:05:30.113Z"
   },
   {
    "duration": 250,
    "start_time": "2024-09-24T19:05:30.120Z"
   },
   {
    "duration": 0,
    "start_time": "2024-09-24T19:05:30.372Z"
   },
   {
    "duration": 0,
    "start_time": "2024-09-24T19:05:30.373Z"
   },
   {
    "duration": 0,
    "start_time": "2024-09-24T19:05:30.374Z"
   },
   {
    "duration": 0,
    "start_time": "2024-09-24T19:05:30.375Z"
   },
   {
    "duration": 0,
    "start_time": "2024-09-24T19:05:30.377Z"
   },
   {
    "duration": 842,
    "start_time": "2024-09-24T19:06:01.423Z"
   },
   {
    "duration": 38,
    "start_time": "2024-09-24T19:06:02.268Z"
   },
   {
    "duration": 9,
    "start_time": "2024-09-24T19:06:02.308Z"
   },
   {
    "duration": 25,
    "start_time": "2024-09-24T19:06:02.319Z"
   },
   {
    "duration": 4,
    "start_time": "2024-09-24T19:06:02.346Z"
   },
   {
    "duration": 6,
    "start_time": "2024-09-24T19:06:02.352Z"
   },
   {
    "duration": 8,
    "start_time": "2024-09-24T19:06:02.360Z"
   },
   {
    "duration": 14,
    "start_time": "2024-09-24T19:06:02.369Z"
   },
   {
    "duration": 10,
    "start_time": "2024-09-24T19:06:02.384Z"
   },
   {
    "duration": 54,
    "start_time": "2024-09-24T19:06:02.397Z"
   },
   {
    "duration": 15,
    "start_time": "2024-09-24T19:06:02.453Z"
   },
   {
    "duration": 8,
    "start_time": "2024-09-24T19:06:02.470Z"
   },
   {
    "duration": 4,
    "start_time": "2024-09-24T19:06:02.479Z"
   },
   {
    "duration": 15,
    "start_time": "2024-09-24T19:06:02.484Z"
   },
   {
    "duration": 2,
    "start_time": "2024-09-24T19:06:02.501Z"
   },
   {
    "duration": 3,
    "start_time": "2024-09-24T19:06:02.506Z"
   },
   {
    "duration": 7,
    "start_time": "2024-09-24T19:06:02.542Z"
   },
   {
    "duration": 160,
    "start_time": "2024-09-24T19:06:02.551Z"
   },
   {
    "duration": 4,
    "start_time": "2024-09-24T19:06:02.713Z"
   },
   {
    "duration": 25,
    "start_time": "2024-09-24T19:06:02.720Z"
   },
   {
    "duration": 10,
    "start_time": "2024-09-24T19:06:02.747Z"
   },
   {
    "duration": 8,
    "start_time": "2024-09-24T19:06:02.759Z"
   },
   {
    "duration": 6,
    "start_time": "2024-09-24T19:06:02.769Z"
   },
   {
    "duration": 172,
    "start_time": "2024-09-24T19:06:02.777Z"
   },
   {
    "duration": 17,
    "start_time": "2024-09-24T19:06:02.951Z"
   },
   {
    "duration": 21,
    "start_time": "2024-09-24T19:06:02.970Z"
   },
   {
    "duration": 4,
    "start_time": "2024-09-24T19:06:02.992Z"
   },
   {
    "duration": 6,
    "start_time": "2024-09-24T19:06:03.000Z"
   },
   {
    "duration": 41,
    "start_time": "2024-09-24T19:06:03.008Z"
   },
   {
    "duration": 207,
    "start_time": "2024-09-24T19:06:03.052Z"
   },
   {
    "duration": 12,
    "start_time": "2024-09-24T19:06:03.261Z"
   },
   {
    "duration": 8,
    "start_time": "2024-09-24T19:06:03.275Z"
   },
   {
    "duration": 6,
    "start_time": "2024-09-24T19:06:03.285Z"
   },
   {
    "duration": 134,
    "start_time": "2024-09-24T19:06:03.293Z"
   },
   {
    "duration": 148,
    "start_time": "2024-09-24T19:06:03.429Z"
   },
   {
    "duration": 13,
    "start_time": "2024-09-24T19:06:03.579Z"
   },
   {
    "duration": 11,
    "start_time": "2024-09-24T19:06:03.593Z"
   },
   {
    "duration": 11,
    "start_time": "2024-09-24T19:06:03.605Z"
   },
   {
    "duration": 12,
    "start_time": "2024-09-24T19:06:03.642Z"
   },
   {
    "duration": 19,
    "start_time": "2024-09-24T19:06:03.657Z"
   },
   {
    "duration": 10,
    "start_time": "2024-09-24T19:06:03.678Z"
   },
   {
    "duration": 9,
    "start_time": "2024-09-24T19:06:03.690Z"
   },
   {
    "duration": 4,
    "start_time": "2024-09-24T19:06:03.700Z"
   },
   {
    "duration": 44,
    "start_time": "2024-09-24T19:06:03.706Z"
   },
   {
    "duration": 12,
    "start_time": "2024-09-24T19:06:03.752Z"
   },
   {
    "duration": 5,
    "start_time": "2024-09-24T19:06:03.766Z"
   },
   {
    "duration": 426,
    "start_time": "2024-09-24T19:06:03.772Z"
   },
   {
    "duration": 3,
    "start_time": "2024-09-24T19:06:04.200Z"
   },
   {
    "duration": 44,
    "start_time": "2024-09-24T19:06:04.204Z"
   },
   {
    "duration": 15,
    "start_time": "2024-09-24T19:06:04.250Z"
   },
   {
    "duration": 232,
    "start_time": "2024-09-24T19:06:04.266Z"
   },
   {
    "duration": 0,
    "start_time": "2024-09-24T19:06:04.500Z"
   },
   {
    "duration": 0,
    "start_time": "2024-09-24T19:06:04.501Z"
   },
   {
    "duration": 0,
    "start_time": "2024-09-24T19:06:04.502Z"
   },
   {
    "duration": 14,
    "start_time": "2024-09-24T19:07:00.666Z"
   },
   {
    "duration": 9,
    "start_time": "2024-09-24T19:07:19.676Z"
   },
   {
    "duration": 774,
    "start_time": "2024-09-24T19:09:01.922Z"
   },
   {
    "duration": 37,
    "start_time": "2024-09-24T19:09:02.699Z"
   },
   {
    "duration": 8,
    "start_time": "2024-09-24T19:09:02.743Z"
   },
   {
    "duration": 13,
    "start_time": "2024-09-24T19:09:02.754Z"
   },
   {
    "duration": 15,
    "start_time": "2024-09-24T19:09:02.769Z"
   },
   {
    "duration": 7,
    "start_time": "2024-09-24T19:09:02.786Z"
   },
   {
    "duration": 8,
    "start_time": "2024-09-24T19:09:02.795Z"
   },
   {
    "duration": 11,
    "start_time": "2024-09-24T19:09:02.805Z"
   },
   {
    "duration": 30,
    "start_time": "2024-09-24T19:09:02.818Z"
   },
   {
    "duration": 23,
    "start_time": "2024-09-24T19:09:02.851Z"
   },
   {
    "duration": 14,
    "start_time": "2024-09-24T19:09:02.875Z"
   },
   {
    "duration": 8,
    "start_time": "2024-09-24T19:09:02.890Z"
   },
   {
    "duration": 3,
    "start_time": "2024-09-24T19:09:02.899Z"
   },
   {
    "duration": 40,
    "start_time": "2024-09-24T19:09:02.904Z"
   },
   {
    "duration": 3,
    "start_time": "2024-09-24T19:09:02.945Z"
   },
   {
    "duration": 5,
    "start_time": "2024-09-24T19:09:02.949Z"
   },
   {
    "duration": 9,
    "start_time": "2024-09-24T19:09:02.957Z"
   },
   {
    "duration": 166,
    "start_time": "2024-09-24T19:09:02.968Z"
   },
   {
    "duration": 7,
    "start_time": "2024-09-24T19:09:03.136Z"
   },
   {
    "duration": 11,
    "start_time": "2024-09-24T19:09:03.144Z"
   },
   {
    "duration": 11,
    "start_time": "2024-09-24T19:09:03.157Z"
   },
   {
    "duration": 7,
    "start_time": "2024-09-24T19:09:03.170Z"
   },
   {
    "duration": 6,
    "start_time": "2024-09-24T19:09:03.179Z"
   },
   {
    "duration": 175,
    "start_time": "2024-09-24T19:09:03.187Z"
   },
   {
    "duration": 13,
    "start_time": "2024-09-24T19:09:03.364Z"
   },
   {
    "duration": 18,
    "start_time": "2024-09-24T19:09:03.378Z"
   },
   {
    "duration": 4,
    "start_time": "2024-09-24T19:09:03.397Z"
   },
   {
    "duration": 37,
    "start_time": "2024-09-24T19:09:03.406Z"
   },
   {
    "duration": 8,
    "start_time": "2024-09-24T19:09:03.445Z"
   },
   {
    "duration": 199,
    "start_time": "2024-09-24T19:09:03.455Z"
   },
   {
    "duration": 12,
    "start_time": "2024-09-24T19:09:03.656Z"
   },
   {
    "duration": 8,
    "start_time": "2024-09-24T19:09:03.669Z"
   },
   {
    "duration": 8,
    "start_time": "2024-09-24T19:09:03.678Z"
   },
   {
    "duration": 122,
    "start_time": "2024-09-24T19:09:03.687Z"
   },
   {
    "duration": 145,
    "start_time": "2024-09-24T19:09:03.810Z"
   },
   {
    "duration": 12,
    "start_time": "2024-09-24T19:09:03.956Z"
   },
   {
    "duration": 9,
    "start_time": "2024-09-24T19:09:03.970Z"
   },
   {
    "duration": 9,
    "start_time": "2024-09-24T19:09:03.981Z"
   },
   {
    "duration": 11,
    "start_time": "2024-09-24T19:09:03.992Z"
   },
   {
    "duration": 49,
    "start_time": "2024-09-24T19:09:04.004Z"
   },
   {
    "duration": 10,
    "start_time": "2024-09-24T19:09:04.055Z"
   },
   {
    "duration": 8,
    "start_time": "2024-09-24T19:09:04.066Z"
   },
   {
    "duration": 3,
    "start_time": "2024-09-24T19:09:04.076Z"
   },
   {
    "duration": 9,
    "start_time": "2024-09-24T19:09:04.082Z"
   },
   {
    "duration": 12,
    "start_time": "2024-09-24T19:09:04.093Z"
   },
   {
    "duration": 38,
    "start_time": "2024-09-24T19:09:04.107Z"
   },
   {
    "duration": 353,
    "start_time": "2024-09-24T19:09:04.147Z"
   },
   {
    "duration": 2,
    "start_time": "2024-09-24T19:09:04.502Z"
   },
   {
    "duration": 14,
    "start_time": "2024-09-24T19:09:04.506Z"
   },
   {
    "duration": 631,
    "start_time": "2024-09-24T19:09:04.522Z"
   },
   {
    "duration": 0,
    "start_time": "2024-09-24T19:09:05.154Z"
   },
   {
    "duration": 0,
    "start_time": "2024-09-24T19:09:05.156Z"
   },
   {
    "duration": 0,
    "start_time": "2024-09-24T19:09:05.157Z"
   },
   {
    "duration": 0,
    "start_time": "2024-09-24T19:09:05.159Z"
   },
   {
    "duration": 10,
    "start_time": "2024-09-24T19:09:32.583Z"
   },
   {
    "duration": 15,
    "start_time": "2024-09-24T19:09:46.342Z"
   },
   {
    "duration": 178,
    "start_time": "2024-09-24T19:09:47.824Z"
   },
   {
    "duration": 13,
    "start_time": "2024-09-24T19:11:34.545Z"
   },
   {
    "duration": 9,
    "start_time": "2024-09-24T19:11:42.874Z"
   },
   {
    "duration": 10,
    "start_time": "2024-09-24T19:12:04.203Z"
   },
   {
    "duration": 5,
    "start_time": "2024-09-24T19:12:24.210Z"
   },
   {
    "duration": 97,
    "start_time": "2024-09-24T19:12:30.748Z"
   },
   {
    "duration": 8,
    "start_time": "2024-09-24T19:13:38.116Z"
   },
   {
    "duration": 5,
    "start_time": "2024-09-24T19:14:25.086Z"
   },
   {
    "duration": 778,
    "start_time": "2024-09-24T19:14:33.483Z"
   },
   {
    "duration": 37,
    "start_time": "2024-09-24T19:14:34.263Z"
   },
   {
    "duration": 8,
    "start_time": "2024-09-24T19:14:34.302Z"
   },
   {
    "duration": 8,
    "start_time": "2024-09-24T19:14:34.313Z"
   },
   {
    "duration": 24,
    "start_time": "2024-09-24T19:14:34.322Z"
   },
   {
    "duration": 6,
    "start_time": "2024-09-24T19:14:34.348Z"
   },
   {
    "duration": 8,
    "start_time": "2024-09-24T19:14:34.355Z"
   },
   {
    "duration": 12,
    "start_time": "2024-09-24T19:14:34.365Z"
   },
   {
    "duration": 9,
    "start_time": "2024-09-24T19:14:34.379Z"
   },
   {
    "duration": 22,
    "start_time": "2024-09-24T19:14:34.390Z"
   },
   {
    "duration": 15,
    "start_time": "2024-09-24T19:14:34.444Z"
   },
   {
    "duration": 8,
    "start_time": "2024-09-24T19:14:34.460Z"
   },
   {
    "duration": 3,
    "start_time": "2024-09-24T19:14:34.470Z"
   },
   {
    "duration": 19,
    "start_time": "2024-09-24T19:14:34.474Z"
   },
   {
    "duration": 2,
    "start_time": "2024-09-24T19:14:34.495Z"
   },
   {
    "duration": 4,
    "start_time": "2024-09-24T19:14:34.499Z"
   },
   {
    "duration": 42,
    "start_time": "2024-09-24T19:14:34.504Z"
   },
   {
    "duration": 151,
    "start_time": "2024-09-24T19:14:34.548Z"
   },
   {
    "duration": 3,
    "start_time": "2024-09-24T19:14:34.701Z"
   },
   {
    "duration": 11,
    "start_time": "2024-09-24T19:14:34.706Z"
   },
   {
    "duration": 30,
    "start_time": "2024-09-24T19:14:34.718Z"
   },
   {
    "duration": 7,
    "start_time": "2024-09-24T19:14:34.749Z"
   },
   {
    "duration": 6,
    "start_time": "2024-09-24T19:14:34.758Z"
   },
   {
    "duration": 160,
    "start_time": "2024-09-24T19:14:34.765Z"
   },
   {
    "duration": 21,
    "start_time": "2024-09-24T19:14:34.927Z"
   },
   {
    "duration": 18,
    "start_time": "2024-09-24T19:14:34.949Z"
   },
   {
    "duration": 3,
    "start_time": "2024-09-24T19:14:34.969Z"
   },
   {
    "duration": 6,
    "start_time": "2024-09-24T19:14:34.976Z"
   },
   {
    "duration": 8,
    "start_time": "2024-09-24T19:14:34.983Z"
   },
   {
    "duration": 226,
    "start_time": "2024-09-24T19:14:34.992Z"
   },
   {
    "duration": 13,
    "start_time": "2024-09-24T19:14:35.220Z"
   },
   {
    "duration": 8,
    "start_time": "2024-09-24T19:14:35.243Z"
   },
   {
    "duration": 9,
    "start_time": "2024-09-24T19:14:35.253Z"
   },
   {
    "duration": 121,
    "start_time": "2024-09-24T19:14:35.264Z"
   },
   {
    "duration": 145,
    "start_time": "2024-09-24T19:14:35.386Z"
   },
   {
    "duration": 21,
    "start_time": "2024-09-24T19:14:35.532Z"
   },
   {
    "duration": 13,
    "start_time": "2024-09-24T19:14:35.554Z"
   },
   {
    "duration": 12,
    "start_time": "2024-09-24T19:14:35.568Z"
   },
   {
    "duration": 11,
    "start_time": "2024-09-24T19:14:35.582Z"
   },
   {
    "duration": 48,
    "start_time": "2024-09-24T19:14:35.595Z"
   },
   {
    "duration": 10,
    "start_time": "2024-09-24T19:14:35.645Z"
   },
   {
    "duration": 10,
    "start_time": "2024-09-24T19:14:35.656Z"
   },
   {
    "duration": 4,
    "start_time": "2024-09-24T19:14:35.667Z"
   },
   {
    "duration": 13,
    "start_time": "2024-09-24T19:14:35.672Z"
   },
   {
    "duration": 12,
    "start_time": "2024-09-24T19:14:35.687Z"
   },
   {
    "duration": 4,
    "start_time": "2024-09-24T19:14:35.701Z"
   },
   {
    "duration": 362,
    "start_time": "2024-09-24T19:14:35.743Z"
   },
   {
    "duration": 2,
    "start_time": "2024-09-24T19:14:36.107Z"
   },
   {
    "duration": 16,
    "start_time": "2024-09-24T19:14:36.112Z"
   },
   {
    "duration": 29,
    "start_time": "2024-09-24T19:14:36.129Z"
   },
   {
    "duration": 5,
    "start_time": "2024-09-24T19:14:36.159Z"
   },
   {
    "duration": 6,
    "start_time": "2024-09-24T19:14:36.165Z"
   },
   {
    "duration": 5,
    "start_time": "2024-09-24T19:14:36.172Z"
   },
   {
    "duration": 9,
    "start_time": "2024-09-24T19:14:36.179Z"
   },
   {
    "duration": 6,
    "start_time": "2024-09-24T19:22:31.783Z"
   },
   {
    "duration": 2,
    "start_time": "2024-09-24T19:25:22.749Z"
   },
   {
    "duration": 626,
    "start_time": "2024-09-24T19:25:57.822Z"
   },
   {
    "duration": 11,
    "start_time": "2024-09-24T19:26:07.905Z"
   },
   {
    "duration": 51,
    "start_time": "2024-09-24T19:28:25.325Z"
   },
   {
    "duration": 15,
    "start_time": "2024-09-24T19:28:45.076Z"
   },
   {
    "duration": 25,
    "start_time": "2024-09-24T19:29:08.383Z"
   },
   {
    "duration": 648,
    "start_time": "2024-09-24T19:29:47.562Z"
   },
   {
    "duration": 23,
    "start_time": "2024-09-24T19:32:08.212Z"
   },
   {
    "duration": 22,
    "start_time": "2024-09-24T19:32:50.822Z"
   },
   {
    "duration": 326,
    "start_time": "2024-09-24T19:32:53.392Z"
   },
   {
    "duration": 26,
    "start_time": "2024-09-24T19:44:21.311Z"
   },
   {
    "duration": 25,
    "start_time": "2024-09-24T19:45:25.433Z"
   },
   {
    "duration": 15,
    "start_time": "2024-09-24T19:55:06.607Z"
   },
   {
    "duration": 8,
    "start_time": "2024-09-24T19:55:50.597Z"
   },
   {
    "duration": 7,
    "start_time": "2024-09-24T19:56:55.147Z"
   },
   {
    "duration": 7,
    "start_time": "2024-09-24T19:57:20.698Z"
   },
   {
    "duration": 9,
    "start_time": "2024-09-24T19:57:57.310Z"
   },
   {
    "duration": 5,
    "start_time": "2024-09-24T19:58:40.620Z"
   },
   {
    "duration": 6,
    "start_time": "2024-09-24T19:59:17.775Z"
   },
   {
    "duration": 8,
    "start_time": "2024-09-24T19:59:25.695Z"
   },
   {
    "duration": 7,
    "start_time": "2024-09-24T19:59:55.650Z"
   },
   {
    "duration": 4,
    "start_time": "2024-09-24T20:00:06.341Z"
   },
   {
    "duration": 7,
    "start_time": "2024-09-24T20:01:01.281Z"
   },
   {
    "duration": 3,
    "start_time": "2024-09-24T20:01:35.510Z"
   },
   {
    "duration": 4,
    "start_time": "2024-09-24T20:01:40.404Z"
   },
   {
    "duration": 6,
    "start_time": "2024-09-24T20:01:56.636Z"
   },
   {
    "duration": 4,
    "start_time": "2024-09-24T20:02:26.114Z"
   },
   {
    "duration": 9,
    "start_time": "2024-09-24T20:02:54.634Z"
   },
   {
    "duration": 5,
    "start_time": "2024-09-24T20:04:18.518Z"
   },
   {
    "duration": 8,
    "start_time": "2024-09-24T20:04:46.571Z"
   },
   {
    "duration": 8,
    "start_time": "2024-09-24T20:05:58.115Z"
   },
   {
    "duration": 9,
    "start_time": "2024-09-24T20:15:31.370Z"
   },
   {
    "duration": 106,
    "start_time": "2024-09-24T20:16:57.485Z"
   },
   {
    "duration": 779,
    "start_time": "2024-09-24T20:21:11.884Z"
   },
   {
    "duration": 41,
    "start_time": "2024-09-24T20:21:12.665Z"
   },
   {
    "duration": 9,
    "start_time": "2024-09-24T20:21:12.708Z"
   },
   {
    "duration": 8,
    "start_time": "2024-09-24T20:21:12.719Z"
   },
   {
    "duration": 17,
    "start_time": "2024-09-24T20:21:12.729Z"
   },
   {
    "duration": 6,
    "start_time": "2024-09-24T20:21:12.747Z"
   },
   {
    "duration": 8,
    "start_time": "2024-09-24T20:21:12.755Z"
   },
   {
    "duration": 12,
    "start_time": "2024-09-24T20:21:12.765Z"
   },
   {
    "duration": 9,
    "start_time": "2024-09-24T20:21:12.778Z"
   },
   {
    "duration": 55,
    "start_time": "2024-09-24T20:21:12.789Z"
   },
   {
    "duration": 15,
    "start_time": "2024-09-24T20:21:12.845Z"
   },
   {
    "duration": 6,
    "start_time": "2024-09-24T20:21:12.862Z"
   },
   {
    "duration": 3,
    "start_time": "2024-09-24T20:21:12.870Z"
   },
   {
    "duration": 15,
    "start_time": "2024-09-24T20:21:12.875Z"
   },
   {
    "duration": 3,
    "start_time": "2024-09-24T20:21:12.891Z"
   },
   {
    "duration": 4,
    "start_time": "2024-09-24T20:21:12.896Z"
   },
   {
    "duration": 44,
    "start_time": "2024-09-24T20:21:12.902Z"
   },
   {
    "duration": 163,
    "start_time": "2024-09-24T20:21:12.947Z"
   },
   {
    "duration": 4,
    "start_time": "2024-09-24T20:21:13.112Z"
   },
   {
    "duration": 11,
    "start_time": "2024-09-24T20:21:13.118Z"
   },
   {
    "duration": 10,
    "start_time": "2024-09-24T20:21:13.143Z"
   },
   {
    "duration": 7,
    "start_time": "2024-09-24T20:21:13.155Z"
   },
   {
    "duration": 7,
    "start_time": "2024-09-24T20:21:13.164Z"
   },
   {
    "duration": 173,
    "start_time": "2024-09-24T20:21:13.172Z"
   },
   {
    "duration": 12,
    "start_time": "2024-09-24T20:21:13.347Z"
   },
   {
    "duration": 18,
    "start_time": "2024-09-24T20:21:13.360Z"
   },
   {
    "duration": 3,
    "start_time": "2024-09-24T20:21:13.380Z"
   },
   {
    "duration": 6,
    "start_time": "2024-09-24T20:21:13.389Z"
   },
   {
    "duration": 8,
    "start_time": "2024-09-24T20:21:13.396Z"
   },
   {
    "duration": 217,
    "start_time": "2024-09-24T20:21:13.405Z"
   },
   {
    "duration": 20,
    "start_time": "2024-09-24T20:21:13.624Z"
   },
   {
    "duration": 10,
    "start_time": "2024-09-24T20:21:13.646Z"
   },
   {
    "duration": 7,
    "start_time": "2024-09-24T20:21:13.657Z"
   },
   {
    "duration": 123,
    "start_time": "2024-09-24T20:21:13.665Z"
   },
   {
    "duration": 142,
    "start_time": "2024-09-24T20:21:13.790Z"
   },
   {
    "duration": 18,
    "start_time": "2024-09-24T20:21:13.934Z"
   },
   {
    "duration": 10,
    "start_time": "2024-09-24T20:21:13.954Z"
   },
   {
    "duration": 10,
    "start_time": "2024-09-24T20:21:13.965Z"
   },
   {
    "duration": 10,
    "start_time": "2024-09-24T20:21:13.977Z"
   },
   {
    "duration": 18,
    "start_time": "2024-09-24T20:21:13.989Z"
   },
   {
    "duration": 42,
    "start_time": "2024-09-24T20:21:14.008Z"
   },
   {
    "duration": 8,
    "start_time": "2024-09-24T20:21:14.052Z"
   },
   {
    "duration": 3,
    "start_time": "2024-09-24T20:21:14.062Z"
   },
   {
    "duration": 10,
    "start_time": "2024-09-24T20:21:14.068Z"
   },
   {
    "duration": 17,
    "start_time": "2024-09-24T20:21:14.080Z"
   },
   {
    "duration": 4,
    "start_time": "2024-09-24T20:21:14.099Z"
   },
   {
    "duration": 382,
    "start_time": "2024-09-24T20:21:14.105Z"
   },
   {
    "duration": 3,
    "start_time": "2024-09-24T20:21:14.489Z"
   },
   {
    "duration": 26,
    "start_time": "2024-09-24T20:21:14.494Z"
   },
   {
    "duration": 4,
    "start_time": "2024-09-24T20:21:14.522Z"
   },
   {
    "duration": 5,
    "start_time": "2024-09-24T20:21:14.543Z"
   },
   {
    "duration": 3,
    "start_time": "2024-09-24T20:21:14.549Z"
   },
   {
    "duration": 24,
    "start_time": "2024-09-24T20:21:14.554Z"
   },
   {
    "duration": 4,
    "start_time": "2024-09-24T20:21:14.580Z"
   },
   {
    "duration": 4,
    "start_time": "2024-09-24T20:21:14.586Z"
   },
   {
    "duration": 8,
    "start_time": "2024-09-24T20:21:14.591Z"
   },
   {
    "duration": 145,
    "start_time": "2024-09-24T20:21:14.600Z"
   },
   {
    "duration": 6,
    "start_time": "2024-09-24T20:27:19.052Z"
   },
   {
    "duration": 2530,
    "start_time": "2024-09-24T23:31:01.990Z"
   },
   {
    "duration": 81,
    "start_time": "2024-09-24T23:31:04.522Z"
   },
   {
    "duration": 9,
    "start_time": "2024-09-24T23:31:04.604Z"
   },
   {
    "duration": 8,
    "start_time": "2024-09-24T23:31:04.616Z"
   },
   {
    "duration": 4,
    "start_time": "2024-09-24T23:31:04.625Z"
   },
   {
    "duration": 7,
    "start_time": "2024-09-24T23:31:04.630Z"
   },
   {
    "duration": 8,
    "start_time": "2024-09-24T23:31:04.638Z"
   },
   {
    "duration": 12,
    "start_time": "2024-09-24T23:31:04.649Z"
   },
   {
    "duration": 10,
    "start_time": "2024-09-24T23:31:04.663Z"
   },
   {
    "duration": 59,
    "start_time": "2024-09-24T23:31:04.675Z"
   },
   {
    "duration": 15,
    "start_time": "2024-09-24T23:31:04.736Z"
   },
   {
    "duration": 8,
    "start_time": "2024-09-24T23:31:04.752Z"
   },
   {
    "duration": 3,
    "start_time": "2024-09-24T23:31:04.761Z"
   },
   {
    "duration": 15,
    "start_time": "2024-09-24T23:31:04.766Z"
   },
   {
    "duration": 3,
    "start_time": "2024-09-24T23:31:04.812Z"
   },
   {
    "duration": 4,
    "start_time": "2024-09-24T23:31:04.817Z"
   },
   {
    "duration": 7,
    "start_time": "2024-09-24T23:31:04.822Z"
   },
   {
    "duration": 168,
    "start_time": "2024-09-24T23:31:04.831Z"
   },
   {
    "duration": 11,
    "start_time": "2024-09-24T23:31:05.001Z"
   },
   {
    "duration": 15,
    "start_time": "2024-09-24T23:31:05.013Z"
   },
   {
    "duration": 10,
    "start_time": "2024-09-24T23:31:05.030Z"
   },
   {
    "duration": 9,
    "start_time": "2024-09-24T23:31:05.042Z"
   },
   {
    "duration": 7,
    "start_time": "2024-09-24T23:31:05.052Z"
   },
   {
    "duration": 186,
    "start_time": "2024-09-24T23:31:05.061Z"
   },
   {
    "duration": 13,
    "start_time": "2024-09-24T23:31:05.248Z"
   },
   {
    "duration": 19,
    "start_time": "2024-09-24T23:31:05.263Z"
   },
   {
    "duration": 4,
    "start_time": "2024-09-24T23:31:05.283Z"
   },
   {
    "duration": 8,
    "start_time": "2024-09-24T23:31:05.316Z"
   },
   {
    "duration": 8,
    "start_time": "2024-09-24T23:31:05.325Z"
   },
   {
    "duration": 153,
    "start_time": "2024-09-24T23:31:05.335Z"
   },
   {
    "duration": 11,
    "start_time": "2024-09-24T23:31:05.489Z"
   },
   {
    "duration": 8,
    "start_time": "2024-09-24T23:31:05.512Z"
   },
   {
    "duration": 7,
    "start_time": "2024-09-24T23:31:05.521Z"
   },
   {
    "duration": 118,
    "start_time": "2024-09-24T23:31:05.529Z"
   },
   {
    "duration": 145,
    "start_time": "2024-09-24T23:31:05.649Z"
   },
   {
    "duration": 21,
    "start_time": "2024-09-24T23:31:05.795Z"
   },
   {
    "duration": 11,
    "start_time": "2024-09-24T23:31:05.817Z"
   },
   {
    "duration": 11,
    "start_time": "2024-09-24T23:31:05.830Z"
   },
   {
    "duration": 11,
    "start_time": "2024-09-24T23:31:05.842Z"
   },
   {
    "duration": 91,
    "start_time": "2024-09-24T23:31:05.854Z"
   },
   {
    "duration": 10,
    "start_time": "2024-09-24T23:31:05.947Z"
   },
   {
    "duration": 9,
    "start_time": "2024-09-24T23:31:05.959Z"
   },
   {
    "duration": 5,
    "start_time": "2024-09-24T23:31:05.969Z"
   },
   {
    "duration": 37,
    "start_time": "2024-09-24T23:31:05.975Z"
   },
   {
    "duration": 13,
    "start_time": "2024-09-24T23:31:06.014Z"
   },
   {
    "duration": 5,
    "start_time": "2024-09-24T23:31:06.029Z"
   },
   {
    "duration": 426,
    "start_time": "2024-09-24T23:31:06.036Z"
   },
   {
    "duration": 2,
    "start_time": "2024-09-24T23:31:06.464Z"
   },
   {
    "duration": 26,
    "start_time": "2024-09-24T23:31:06.468Z"
   },
   {
    "duration": 16,
    "start_time": "2024-09-24T23:31:06.496Z"
   },
   {
    "duration": 5,
    "start_time": "2024-09-24T23:31:06.514Z"
   },
   {
    "duration": 3,
    "start_time": "2024-09-24T23:31:06.520Z"
   },
   {
    "duration": 24,
    "start_time": "2024-09-24T23:31:06.525Z"
   },
   {
    "duration": 3,
    "start_time": "2024-09-24T23:31:06.551Z"
   },
   {
    "duration": 3,
    "start_time": "2024-09-24T23:31:06.556Z"
   },
   {
    "duration": 7,
    "start_time": "2024-09-24T23:31:06.561Z"
   },
   {
    "duration": 42,
    "start_time": "2024-09-24T23:31:06.570Z"
   },
   {
    "duration": 118,
    "start_time": "2024-09-24T23:31:06.614Z"
   },
   {
    "duration": 169,
    "start_time": "2024-09-24T23:33:50.072Z"
   },
   {
    "duration": 145,
    "start_time": "2024-09-24T23:38:32.353Z"
   },
   {
    "duration": 167,
    "start_time": "2024-09-24T23:38:43.224Z"
   },
   {
    "duration": 222,
    "start_time": "2024-09-24T23:38:52.747Z"
   },
   {
    "duration": 223,
    "start_time": "2024-09-24T23:40:09.572Z"
   },
   {
    "duration": 1030,
    "start_time": "2024-09-24T23:40:33.307Z"
   },
   {
    "duration": 168,
    "start_time": "2024-09-24T23:41:19.715Z"
   },
   {
    "duration": 106,
    "start_time": "2024-09-24T23:49:30.866Z"
   },
   {
    "duration": 7,
    "start_time": "2024-09-25T00:57:25.329Z"
   },
   {
    "duration": 4,
    "start_time": "2024-09-25T00:57:30.391Z"
   },
   {
    "duration": 5,
    "start_time": "2024-09-25T01:15:44.713Z"
   }
  ],
  "kernelspec": {
   "display_name": "Python 3 (ipykernel)",
   "language": "python",
   "name": "python3"
  },
  "language_info": {
   "codemirror_mode": {
    "name": "ipython",
    "version": 3
   },
   "file_extension": ".py",
   "mimetype": "text/x-python",
   "name": "python",
   "nbconvert_exporter": "python",
   "pygments_lexer": "ipython3",
   "version": "3.9.19"
  },
  "toc": {
   "base_numbering": 1,
   "nav_menu": {},
   "number_sections": true,
   "sideBar": true,
   "skip_h1_title": true,
   "title_cell": "Table of Contents",
   "title_sidebar": "Contents",
   "toc_cell": false,
   "toc_position": {},
   "toc_section_display": true,
   "toc_window_display": false
  }
 },
 "nbformat": 4,
 "nbformat_minor": 2
}
